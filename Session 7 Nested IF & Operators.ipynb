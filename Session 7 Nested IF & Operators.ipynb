{
 "cells": [
  {
   "cell_type": "markdown",
   "id": "49ac7d57-3a51-4435-92e3-0e0c7dd2ce43",
   "metadata": {},
   "source": [
    "#### Logical operator NOT (reverse of True)"
   ]
  },
  {
   "cell_type": "code",
   "execution_count": 2,
   "id": "ece39fd1-27d2-4b11-9ddd-be8f21c29c47",
   "metadata": {},
   "outputs": [],
   "source": [
    "#basic example\n",
    "\n",
    "a = 2\n",
    "b = 3\n",
    "c = 5\n",
    "d = 2"
   ]
  },
  {
   "cell_type": "code",
   "execution_count": 3,
   "id": "7543f9c0-9307-4ca4-a4ef-75015a1ab933",
   "metadata": {},
   "outputs": [
    {
     "data": {
      "text/plain": [
       "True"
      ]
     },
     "execution_count": 3,
     "metadata": {},
     "output_type": "execute_result"
    }
   ],
   "source": [
    "a <= 2"
   ]
  },
  {
   "cell_type": "code",
   "execution_count": 6,
   "id": "1a30aaf4-3590-4c06-b479-fac0ba7596f4",
   "metadata": {},
   "outputs": [
    {
     "data": {
      "text/plain": [
       "False"
      ]
     },
     "execution_count": 6,
     "metadata": {},
     "output_type": "execute_result"
    }
   ],
   "source": [
    "b <= 1"
   ]
  },
  {
   "cell_type": "code",
   "execution_count": 7,
   "id": "5edf0bda-15f5-4838-b1a8-3d52f4c57074",
   "metadata": {},
   "outputs": [
    {
     "ename": "SyntaxError",
     "evalue": "invalid syntax (3026790462.py, line 1)",
     "output_type": "error",
     "traceback": [
      "\u001b[1;36m  Cell \u001b[1;32mIn[7], line 1\u001b[1;36m\u001b[0m\n\u001b[1;33m    a <= 2 not\u001b[0m\n\u001b[1;37m              ^\u001b[0m\n\u001b[1;31mSyntaxError\u001b[0m\u001b[1;31m:\u001b[0m invalid syntax\n"
     ]
    }
   ],
   "source": [
    "a <= 2 not"
   ]
  },
  {
   "cell_type": "code",
   "execution_count": 9,
   "id": "7111f191-9ec8-44af-9cd0-eb46a600058f",
   "metadata": {},
   "outputs": [
    {
     "data": {
      "text/plain": [
       "False"
      ]
     },
     "execution_count": 9,
     "metadata": {},
     "output_type": "execute_result"
    }
   ],
   "source": [
    "not a <= 2"
   ]
  },
  {
   "cell_type": "code",
   "execution_count": 8,
   "id": "1feacd61-911f-4702-a733-d99d141fad89",
   "metadata": {},
   "outputs": [
    {
     "ename": "SyntaxError",
     "evalue": "invalid syntax (3529812252.py, line 1)",
     "output_type": "error",
     "traceback": [
      "\u001b[1;36m  Cell \u001b[1;32mIn[8], line 1\u001b[1;36m\u001b[0m\n\u001b[1;33m    a not  <= 2\u001b[0m\n\u001b[1;37m           ^\u001b[0m\n\u001b[1;31mSyntaxError\u001b[0m\u001b[1;31m:\u001b[0m invalid syntax\n"
     ]
    }
   ],
   "source": [
    "a not  <= 2"
   ]
  },
  {
   "cell_type": "code",
   "execution_count": 10,
   "id": "19cff640-6887-47cb-9057-9eb3dfe0fb1c",
   "metadata": {},
   "outputs": [
    {
     "ename": "SyntaxError",
     "evalue": "invalid syntax (1487461541.py, line 1)",
     "output_type": "error",
     "traceback": [
      "\u001b[1;36m  Cell \u001b[1;32mIn[10], line 1\u001b[1;36m\u001b[0m\n\u001b[1;33m    (not) b <= 1\u001b[0m\n\u001b[1;37m        ^\u001b[0m\n\u001b[1;31mSyntaxError\u001b[0m\u001b[1;31m:\u001b[0m invalid syntax\n"
     ]
    }
   ],
   "source": [
    "(not) b <= 1"
   ]
  },
  {
   "cell_type": "code",
   "execution_count": 12,
   "id": "c039b3a9-f0a2-4426-9d0e-b9655ebaf211",
   "metadata": {},
   "outputs": [
    {
     "data": {
      "text/plain": [
       "True"
      ]
     },
     "execution_count": 12,
     "metadata": {},
     "output_type": "execute_result"
    }
   ],
   "source": [
    "not (b <= 1)"
   ]
  },
  {
   "cell_type": "code",
   "execution_count": 11,
   "id": "4dd7f27b-4b22-4e8a-8be2-5153ec347d94",
   "metadata": {},
   "outputs": [
    {
     "ename": "SyntaxError",
     "evalue": "invalid syntax (472812958.py, line 1)",
     "output_type": "error",
     "traceback": [
      "\u001b[1;36m  Cell \u001b[1;32mIn[11], line 1\u001b[1;36m\u001b[0m\n\u001b[1;33m    not (,b <= 1)\u001b[0m\n\u001b[1;37m         ^\u001b[0m\n\u001b[1;31mSyntaxError\u001b[0m\u001b[1;31m:\u001b[0m invalid syntax\n"
     ]
    }
   ],
   "source": [
    "not (,b <= 1)"
   ]
  },
  {
   "cell_type": "code",
   "execution_count": 13,
   "id": "36b5ba8a-aabf-4526-ba5d-fe13d8ff640f",
   "metadata": {},
   "outputs": [
    {
     "ename": "SyntaxError",
     "evalue": "invalid syntax (719293644.py, line 3)",
     "output_type": "error",
     "traceback": [
      "\u001b[1;36m  Cell \u001b[1;32mIn[13], line 3\u001b[1;36m\u001b[0m\n\u001b[1;33m    not (a <= 2 or) b <= 1\u001b[0m\n\u001b[1;37m                  ^\u001b[0m\n\u001b[1;31mSyntaxError\u001b[0m\u001b[1;31m:\u001b[0m invalid syntax\n"
     ]
    }
   ],
   "source": [
    "#or and\n",
    "\n",
    "not (a <= 2 or) b <= 1"
   ]
  },
  {
   "cell_type": "code",
   "execution_count": 14,
   "id": "2e141513-3383-43b7-bcd1-a49e7550f6c0",
   "metadata": {},
   "outputs": [
    {
     "data": {
      "text/plain": [
       "False"
      ]
     },
     "execution_count": 14,
     "metadata": {},
     "output_type": "execute_result"
    }
   ],
   "source": [
    "not (a <= 2 or b <= 1)"
   ]
  },
  {
   "cell_type": "code",
   "execution_count": 15,
   "id": "9b754b08-8285-495d-ad4e-0df95266f2d3",
   "metadata": {},
   "outputs": [
    {
     "data": {
      "text/plain": [
       "False"
      ]
     },
     "execution_count": 15,
     "metadata": {},
     "output_type": "execute_result"
    }
   ],
   "source": [
    "not (a <= 2) or (b <= 1)"
   ]
  },
  {
   "cell_type": "code",
   "execution_count": 16,
   "id": "32171e5f-9fd2-4e07-bc66-0a9ee3d9fa6f",
   "metadata": {},
   "outputs": [
    {
     "data": {
      "text/plain": [
       "False"
      ]
     },
     "execution_count": 16,
     "metadata": {},
     "output_type": "execute_result"
    }
   ],
   "source": [
    "(not a <= 2) or (b <= 1)"
   ]
  },
  {
   "cell_type": "code",
   "execution_count": 17,
   "id": "5493c218-c862-48aa-981d-39456a7f3883",
   "metadata": {},
   "outputs": [
    {
     "ename": "SyntaxError",
     "evalue": "invalid syntax (3028279664.py, line 1)",
     "output_type": "error",
     "traceback": [
      "\u001b[1;36m  Cell \u001b[1;32mIn[17], line 1\u001b[1;36m\u001b[0m\n\u001b[1;33m    not a <= 2 (or) b <= 1\u001b[0m\n\u001b[1;37m                ^\u001b[0m\n\u001b[1;31mSyntaxError\u001b[0m\u001b[1;31m:\u001b[0m invalid syntax\n"
     ]
    }
   ],
   "source": [
    "not a <= 2 (or) b <= 1"
   ]
  },
  {
   "cell_type": "code",
   "execution_count": 18,
   "id": "2d4907d9-9a19-438a-9dcf-b799f6fbe6a1",
   "metadata": {},
   "outputs": [
    {
     "ename": "SyntaxError",
     "evalue": "invalid syntax (746748163.py, line 1)",
     "output_type": "error",
     "traceback": [
      "\u001b[1;36m  Cell \u001b[1;32mIn[18], line 1\u001b[1;36m\u001b[0m\n\u001b[1;33m    not a <= 2 or b <= 1 not a <= 2\u001b[0m\n\u001b[1;37m                             ^\u001b[0m\n\u001b[1;31mSyntaxError\u001b[0m\u001b[1;31m:\u001b[0m invalid syntax\n"
     ]
    }
   ],
   "source": [
    "not a <= 2 or b <= 1 not a <= 2"
   ]
  },
  {
   "cell_type": "code",
   "execution_count": 19,
   "id": "d68c664f-b620-4f60-ab3a-86ed306c8bbd",
   "metadata": {},
   "outputs": [
    {
     "ename": "SyntaxError",
     "evalue": "invalid syntax (3403317384.py, line 1)",
     "output_type": "error",
     "traceback": [
      "\u001b[1;36m  Cell \u001b[1;32mIn[19], line 1\u001b[1;36m\u001b[0m\n\u001b[1;33m    not a <= 2 or b <= 1 not (a <= 2)\u001b[0m\n\u001b[1;37m                             ^\u001b[0m\n\u001b[1;31mSyntaxError\u001b[0m\u001b[1;31m:\u001b[0m invalid syntax\n"
     ]
    }
   ],
   "source": [
    "not a <= 2 or b <= 1 not (a <= 2)"
   ]
  },
  {
   "cell_type": "code",
   "execution_count": 20,
   "id": "17b308d6-0866-4489-ba42-4fdc908ef552",
   "metadata": {},
   "outputs": [
    {
     "data": {
      "text/plain": [
       "False"
      ]
     },
     "execution_count": 20,
     "metadata": {},
     "output_type": "execute_result"
    }
   ],
   "source": [
    "not (a <= 2 or b <= 1) and not (a <= 2)\n",
    "#true (a <= 2 or b <= 1) \n",
    "#true (a <= 2)\n",
    "\n",
    "not (True) and not (True)"
   ]
  },
  {
   "cell_type": "code",
   "execution_count": null,
   "id": "e7ec3f2a-638d-41fb-8a36-30ba3b154fe7",
   "metadata": {},
   "outputs": [],
   "source": []
  },
  {
   "cell_type": "code",
   "execution_count": null,
   "id": "60e5c82f-f7ed-4be2-a066-eda9296b358f",
   "metadata": {},
   "outputs": [],
   "source": []
  },
  {
   "cell_type": "code",
   "execution_count": null,
   "id": "4e2a0948-44de-4177-bb87-2094910b6229",
   "metadata": {},
   "outputs": [],
   "source": []
  },
  {
   "cell_type": "code",
   "execution_count": 21,
   "id": "9f683eae-5b7d-4eff-bcdc-8adf7b83e638",
   "metadata": {},
   "outputs": [
    {
     "name": "stdout",
     "output_type": "stream",
     "text": [
      "this is hello\n"
     ]
    }
   ],
   "source": [
    "# Not Equal to Condition ( != ) with NOT (when to use them)\n",
    "\n",
    "a = \"hello\"\n",
    "\n",
    "if not a == \"hello\":\n",
    "    print(\"this is not hello\")\n",
    "else:\n",
    "    print(\"this is hello\")"
   ]
  },
  {
   "cell_type": "code",
   "execution_count": 23,
   "id": "f1638d1f-264d-4b62-a2d6-ccbdbf20cb9b",
   "metadata": {},
   "outputs": [
    {
     "data": {
      "text/plain": [
       "False"
      ]
     },
     "execution_count": 23,
     "metadata": {},
     "output_type": "execute_result"
    }
   ],
   "source": [
    "a = \"hello\"\n",
    "\n",
    "a != \"hello\""
   ]
  },
  {
   "cell_type": "code",
   "execution_count": 25,
   "id": "9c6c0f17-f0bc-409f-97ed-595e5cf55c3d",
   "metadata": {},
   "outputs": [
    {
     "name": "stdout",
     "output_type": "stream",
     "text": [
      "this is hello\n"
     ]
    }
   ],
   "source": [
    "a = \"hello\"\n",
    "\n",
    "if a != \"hello\":\n",
    "    print(\"this is not hello\")\n",
    "else:\n",
    "    print(\"this is hello\")"
   ]
  },
  {
   "cell_type": "code",
   "execution_count": 24,
   "id": "04744cd3-7038-40ec-b288-7de88e80cfc3",
   "metadata": {},
   "outputs": [
    {
     "data": {
      "text/plain": [
       "True"
      ]
     },
     "execution_count": 24,
     "metadata": {},
     "output_type": "execute_result"
    }
   ],
   "source": [
    "a = \"bye\"\n",
    "\n",
    "a != \"hello\""
   ]
  },
  {
   "cell_type": "code",
   "execution_count": 26,
   "id": "645b9a7f-3ff9-4069-9f97-0f42c5876a07",
   "metadata": {},
   "outputs": [
    {
     "name": "stdout",
     "output_type": "stream",
     "text": [
      "this is not hello\n"
     ]
    }
   ],
   "source": [
    "a = \"hello\"\n",
    "\n",
    "if not a != \"hello\":\n",
    "    print(\"this is not hello\")\n",
    "else:\n",
    "    print(\"this is hello\")"
   ]
  },
  {
   "cell_type": "code",
   "execution_count": null,
   "id": "f4392787-5226-4557-91b2-391eb91c6a33",
   "metadata": {},
   "outputs": [],
   "source": []
  },
  {
   "cell_type": "code",
   "execution_count": null,
   "id": "7c5aa817-3a0c-4740-b218-088a0bdefcf3",
   "metadata": {},
   "outputs": [],
   "source": []
  },
  {
   "cell_type": "code",
   "execution_count": 27,
   "id": "b294fa39-b4d3-4514-932a-a9262f1fd399",
   "metadata": {},
   "outputs": [
    {
     "ename": "SyntaxError",
     "evalue": "leading zeros in decimal integer literals are not permitted; use an 0o prefix for octal integers (991221994.py, line 6)",
     "output_type": "error",
     "traceback": [
      "\u001b[1;36m  Cell \u001b[1;32mIn[27], line 6\u001b[1;36m\u001b[0m\n\u001b[1;33m    if x == 0004:\u001b[0m\n\u001b[1;37m            ^\u001b[0m\n\u001b[1;31mSyntaxError\u001b[0m\u001b[1;31m:\u001b[0m leading zeros in decimal integer literals are not permitted; use an 0o prefix for octal integers\n"
     ]
    }
   ],
   "source": [
    "#practice\n",
    "#employee code\n",
    "\n",
    "x = int(input(\"Enter employee code: \"))\n",
    "\n",
    "if x == 0004:\n",
    "    print(\"Welcome to Company\")\n",
    "else:\n",
    "    print(\"you are not employee\")"
   ]
  },
  {
   "cell_type": "code",
   "execution_count": 28,
   "id": "13560a4b-05fa-4d7a-aade-fca68b028808",
   "metadata": {},
   "outputs": [
    {
     "name": "stdin",
     "output_type": "stream",
     "text": [
      "Enter employee code:  \"0004\"\n"
     ]
    },
    {
     "name": "stdout",
     "output_type": "stream",
     "text": [
      "you are not employee\n"
     ]
    }
   ],
   "source": [
    "x = input(\"Enter employee code: \")\n",
    "\n",
    "if x == \"0004\":\n",
    "    print(\"Welcome to Company\")\n",
    "else:\n",
    "    print(\"you are not employee\")"
   ]
  },
  {
   "cell_type": "code",
   "execution_count": 30,
   "id": "4c9aa880-b068-43a9-aabd-ab3f8e8fc1ba",
   "metadata": {},
   "outputs": [
    {
     "name": "stdin",
     "output_type": "stream",
     "text": [
      "Enter employee code:  \n"
     ]
    },
    {
     "name": "stdout",
     "output_type": "stream",
     "text": [
      "Welcome to Company\n"
     ]
    }
   ],
   "source": [
    "x = input(\"Enter employee code: \")\n",
    "\n",
    "if not x == \"0004\":\n",
    "    print(\"Welcome to Company\")\n",
    "else:\n",
    "    print(\"you are not employee\")"
   ]
  },
  {
   "cell_type": "code",
   "execution_count": 31,
   "id": "95ee1bb7-72a5-4983-bafb-1ba58ee85145",
   "metadata": {},
   "outputs": [
    {
     "name": "stdin",
     "output_type": "stream",
     "text": [
      "Enter employee code:  0004\n"
     ]
    },
    {
     "name": "stdout",
     "output_type": "stream",
     "text": [
      "you are not employee\n"
     ]
    }
   ],
   "source": [
    "x = input(\"Enter employee code: \")\n",
    "\n",
    "if not x == \"0004\":\n",
    "    print(\"Welcome to Company\")\n",
    "else:\n",
    "    print(\"you are not employee\")"
   ]
  },
  {
   "cell_type": "code",
   "execution_count": 33,
   "id": "8ee42954-8be6-4484-8500-82f2c4cecba0",
   "metadata": {},
   "outputs": [
    {
     "name": "stdin",
     "output_type": "stream",
     "text": [
      "Enter employee code:  0004\n"
     ]
    },
    {
     "name": "stdout",
     "output_type": "stream",
     "text": [
      "Welcome to Company\n"
     ]
    }
   ],
   "source": [
    "x = input(\"Enter employee code: \")\n",
    "\n",
    "if not(not x == \"0004\"):\n",
    "    print(\"Welcome to Company\")\n",
    "else:\n",
    "    print(\"you are not employee\")"
   ]
  },
  {
   "cell_type": "code",
   "execution_count": null,
   "id": "5d0224b3-50ca-4478-bbda-9e9cc3bf91bf",
   "metadata": {},
   "outputs": [],
   "source": [
    "x = input(\"Enter employee code: \")\n",
    "\n",
    "if x == float(0004):\n",
    "    print(\"Welcome to Company\")\n",
    "else:\n",
    "    print(\"you are not employee\")"
   ]
  },
  {
   "cell_type": "code",
   "execution_count": null,
   "id": "eca79d16-9781-433b-b5ef-f3aa6bca0766",
   "metadata": {},
   "outputs": [],
   "source": []
  },
  {
   "cell_type": "code",
   "execution_count": null,
   "id": "3602a705-476d-4c00-8b6c-11b4c13c06a1",
   "metadata": {},
   "outputs": [],
   "source": []
  },
  {
   "cell_type": "markdown",
   "id": "b81b7815-d39e-461c-b1e7-687b3ae35289",
   "metadata": {},
   "source": [
    "## NESTED IF"
   ]
  },
  {
   "cell_type": "code",
   "execution_count": 47,
   "id": "78f23370-0b43-4596-9a95-ca66bfeb4a17",
   "metadata": {},
   "outputs": [],
   "source": [
    "visa = \"valid\"\n",
    "account_statement = 5000001\n",
    "purpose = \"education\"\n",
    "admission_letter = \"no\"\n",
    "job_recommendation = \"na\"\n",
    "age = 26\n",
    "family_member = \"yes\"\n",
    "documents_submitted = \"yes\""
   ]
  },
  {
   "cell_type": "markdown",
   "id": "fdf629dc-5d62-4d8a-9449-34f8409fe5d3",
   "metadata": {},
   "source": [
    "### IF-IF"
   ]
  },
  {
   "cell_type": "code",
   "execution_count": 36,
   "id": "f02f18ef-3d74-405e-91d1-573b2eed1db1",
   "metadata": {},
   "outputs": [
    {
     "name": "stdout",
     "output_type": "stream",
     "text": [
      "welcome for addmission\n"
     ]
    }
   ],
   "source": [
    "#age\n",
    "    #purpose\n",
    "\n",
    "if age > 25:\n",
    "    if purpose == \"education\":\n",
    "        print(\"welcome for addmission\")\n",
    "    else:\n",
    "        print(\"define your purpose\")\n",
    "else:\n",
    "    print(\"underage\")\n",
    "        \n"
   ]
  },
  {
   "cell_type": "code",
   "execution_count": 37,
   "id": "2b3900ee-8a13-490d-a18a-6f62d2ca8daf",
   "metadata": {},
   "outputs": [
    {
     "name": "stdout",
     "output_type": "stream",
     "text": [
      "define your purpose\n"
     ]
    }
   ],
   "source": [
    "#age\n",
    "    #purpose\n",
    "\n",
    "if age > 25:\n",
    "    if purpose == \"job\":\n",
    "        print(\"welcome for addmission\")\n",
    "    else:\n",
    "        print(\"define your purpose\")\n",
    "else:\n",
    "    print(\"underage\")\n"
   ]
  },
  {
   "cell_type": "code",
   "execution_count": 38,
   "id": "6805d651-9927-4801-999a-6b0356b9b422",
   "metadata": {},
   "outputs": [
    {
     "name": "stdout",
     "output_type": "stream",
     "text": [
      "define your purpose\n"
     ]
    }
   ],
   "source": [
    "#age\n",
    "    #purpose\n",
    "\n",
    "if age > 25:\n",
    "    if purpose == \"job\":\n",
    "        print(\"welcome for job\")\n",
    "    else:\n",
    "        print(\"define your purpose\")\n",
    "else:\n",
    "    print(\"underage\")"
   ]
  },
  {
   "cell_type": "code",
   "execution_count": null,
   "id": "3f48dd8e-8388-4a2c-a2b5-f495eae9bf9f",
   "metadata": {},
   "outputs": [],
   "source": []
  },
  {
   "cell_type": "markdown",
   "id": "208f5650-4d39-4708-82bb-3168f8e99bdc",
   "metadata": {},
   "source": [
    "### IF-(IF-ELIF)-ELSE"
   ]
  },
  {
   "cell_type": "code",
   "execution_count": 39,
   "id": "e96a915e-51ad-4904-9897-2435185aa1a1",
   "metadata": {},
   "outputs": [
    {
     "name": "stdout",
     "output_type": "stream",
     "text": [
      "welcome for job\n"
     ]
    }
   ],
   "source": [
    "#age\n",
    "    #purpose\n",
    "    #purpose\n",
    "if age > 25:\n",
    "    if purpose == \"job\":\n",
    "       print(\"welcome for job\")\n",
    "    elif purpose == \"education\":\n",
    "        print(\"welcome for job\")\n",
    "    else:\n",
    "        print(\"underage\")"
   ]
  },
  {
   "cell_type": "code",
   "execution_count": 42,
   "id": "7c3cdf60-a13a-4e40-9151-b3b6776ad8bb",
   "metadata": {},
   "outputs": [
    {
     "name": "stdout",
     "output_type": "stream",
     "text": [
      "welcome for admission\n"
     ]
    }
   ],
   "source": [
    "#age\n",
    "    #purpose\n",
    "    #purpose\n",
    "if age > 25:\n",
    "    if purpose == \"job\":\n",
    "       print(\"welcome for job\")\n",
    "    elif purpose == \"education\":\n",
    "        print(\"welcome for admission\")\n",
    "    else:\n",
    "        print(\"underage\")"
   ]
  },
  {
   "cell_type": "code",
   "execution_count": 48,
   "id": "38631a68-6548-4a47-ae33-e55aa9932354",
   "metadata": {},
   "outputs": [],
   "source": [
    "#age\n",
    "    #purpose\n",
    "    #purpose\n",
    "if age > 100:\n",
    "    if purpose == \"job\":\n",
    "       print(\"welcome for job\")\n",
    "    elif purpose == \"education\":\n",
    "        print(\"welcome for admission\")\n",
    "    else:\n",
    "        print(\"underage\")"
   ]
  },
  {
   "cell_type": "code",
   "execution_count": null,
   "id": "42e09db8-1985-49de-9146-a1bc1633be31",
   "metadata": {},
   "outputs": [],
   "source": [
    "#age\n",
    "    #purpose\n",
    "    #purpose\n",
    "if age > 100:\n",
    "    if purpose == \"job\":\n",
    "       print(\"welcome for job\")\n",
    "    elif purpose == \"education\":\n",
    "        print(\"welcome for admission\")\n",
    "    else:\n",
    "        print(\"underage\")"
   ]
  },
  {
   "cell_type": "code",
   "execution_count": 45,
   "id": "01b90f18-5db4-4849-b4c4-d7bead0cb31b",
   "metadata": {},
   "outputs": [
    {
     "name": "stdout",
     "output_type": "stream",
     "text": [
      "underage\n"
     ]
    }
   ],
   "source": [
    "#age\n",
    "    #purpose\n",
    "    #purpose\n",
    "if age > 100:\n",
    "    if purpose == \"job\":\n",
    "       print(\"welcome for job\")\n",
    "    elif purpose == \"education\":\n",
    "        print(\"welcome for admission\")\n",
    "else:\n",
    "    print(\"underage\")"
   ]
  },
  {
   "cell_type": "code",
   "execution_count": null,
   "id": "e2431e61-b204-47ad-b748-73f07ef546ba",
   "metadata": {},
   "outputs": [],
   "source": []
  },
  {
   "cell_type": "markdown",
   "id": "20ea0dda-9d82-4558-864d-2abde1897324",
   "metadata": {},
   "source": [
    "### IF-IF-IF-ELSE"
   ]
  },
  {
   "cell_type": "code",
   "execution_count": 51,
   "id": "a149b18d-10bb-4f17-b845-51f36a4aa06d",
   "metadata": {},
   "outputs": [
    {
     "name": "stdout",
     "output_type": "stream",
     "text": [
      "not eligible for visa\n"
     ]
    }
   ],
   "source": [
    "#age\n",
    "    #purpose\n",
    "        #family member\n",
    "\n",
    "if age > 25:\n",
    "    if purpose == \"education\":\n",
    "        if family_member == \"no\":\n",
    "            print(\"eligible for visa\")\n",
    "        else:\n",
    "            print(\"not eligible for visa\")\n",
    "else:\n",
    "    print(\"you are younger\")"
   ]
  },
  {
   "cell_type": "code",
   "execution_count": 52,
   "id": "4856165d-5fe3-471a-9ed1-2bf5b0515b2d",
   "metadata": {},
   "outputs": [
    {
     "name": "stdout",
     "output_type": "stream",
     "text": [
      "eligible for visa\n"
     ]
    }
   ],
   "source": [
    "visa = \"valid\"\n",
    "account_statement = 5000001\n",
    "purpose = \"education\"\n",
    "admission_letter = \"no\"\n",
    "job_recommendation = \"na\"\n",
    "age = 26\n",
    "family_member = \"yes\"\n",
    "documents_submitted = \"yes\"\n",
    "\n",
    "\n",
    "#age\n",
    "    #purpose\n",
    "        #family member\n",
    "\n",
    "if age > 25:\n",
    "    if purpose == \"education\":\n",
    "        if family_member == \"yes\":\n",
    "            print(\"eligible for visa\")\n",
    "        else:\n",
    "            print(\"not eligible for visa\")\n",
    "else:\n",
    "    print(\"underage\")"
   ]
  },
  {
   "cell_type": "markdown",
   "id": "1e17c6bb-c5fa-4e4b-9978-e27f8f574536",
   "metadata": {},
   "source": [
    "### IF-IF-(IF-ELSE)-IF"
   ]
  },
  {
   "cell_type": "code",
   "execution_count": 56,
   "id": "f7a80bd8-bfd0-4b45-af7b-c132c55fffbd",
   "metadata": {},
   "outputs": [
    {
     "name": "stdout",
     "output_type": "stream",
     "text": [
      "eligible\n"
     ]
    }
   ],
   "source": [
    "visa = \"valid\"\n",
    "account_statement = 5000001\n",
    "purpose = \"education\"\n",
    "admission_letter = \"no\"\n",
    "job_recommendation = \"no\"\n",
    "age = 26\n",
    "family_member = \"yes\"\n",
    "documents_submitted = \"yes\"\n",
    "\n",
    "\n",
    "#age\n",
    "    #purpose\n",
    "        #family member\n",
    "        #job recommendation\n",
    "\n",
    "if age > 25:\n",
    "    if purpose == \"education\":\n",
    "        if family_member == \"yes\":\n",
    "            if job_recommendation == \"yes\":\n",
    "                print(\"eligible for visa\")\n",
    "            else:\n",
    "                if documents_submitted == \"yes\":\n",
    "                    print(\"eligible\")\n",
    "                else:\n",
    "                    print(\"submit documents\")\n",
    "else:\n",
    "    print(\"underage\")\n"
   ]
  },
  {
   "cell_type": "markdown",
   "id": "60f66cf4-1bb7-43c9-82c6-92f8d10486eb",
   "metadata": {},
   "source": [
    "### IF-IF-(IF-ELSE)-(IF-ELIF-ELSE)"
   ]
  },
  {
   "cell_type": "code",
   "execution_count": null,
   "id": "3fa30b6f-c10d-4fa7-a24e-79076bb0b7c5",
   "metadata": {},
   "outputs": [],
   "source": [
    "#age\n",
    "    #purpose\n",
    "        #family member\n",
    "        #job recommendation\n",
    "        #job recommendation\n",
    "\n"
   ]
  },
  {
   "cell_type": "markdown",
   "id": "34c6a5c9-27c7-4499-bb61-f41d257c3558",
   "metadata": {},
   "source": [
    "### IF-(IF-ELIF)-(IF-ELSE)"
   ]
  },
  {
   "cell_type": "code",
   "execution_count": null,
   "id": "637d7fb1-1df8-439e-b1f8-4ef2c6fa997e",
   "metadata": {},
   "outputs": [],
   "source": [
    "#age\n",
    "    #purpose\n",
    "    #purpose\n",
    "        #documents_submitted\n",
    "\n"
   ]
  },
  {
   "cell_type": "code",
   "execution_count": null,
   "id": "c90a2f8d-3c56-4496-9907-ddf34a053916",
   "metadata": {},
   "outputs": [],
   "source": []
  },
  {
   "cell_type": "code",
   "execution_count": null,
   "id": "76d06604-db8b-46d3-8308-32c9533a2e7a",
   "metadata": {},
   "outputs": [],
   "source": []
  }
 ],
 "metadata": {
  "kernelspec": {
   "display_name": "Python 3 (ipykernel)",
   "language": "python",
   "name": "python3"
  },
  "language_info": {
   "codemirror_mode": {
    "name": "ipython",
    "version": 3
   },
   "file_extension": ".py",
   "mimetype": "text/x-python",
   "name": "python",
   "nbconvert_exporter": "python",
   "pygments_lexer": "ipython3",
   "version": "3.12.7"
  }
 },
 "nbformat": 4,
 "nbformat_minor": 5
}
