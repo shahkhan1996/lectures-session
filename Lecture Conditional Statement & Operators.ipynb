{
 "cells": [
  {
   "cell_type": "markdown",
   "id": "cf5c1954-541e-4b51-93c3-ea897c543b2e",
   "metadata": {},
   "source": [
    "## Relational Operators\n",
    "#### Relational (or comparison) operators are used to compare two values. These operators return a Boolean value (True or False), and are commonly used in if, elif, and while statements.\n"
   ]
  },
  {
   "cell_type": "code",
   "execution_count": 3,
   "id": "3f2a8a66-c573-4127-8cf0-5227897f566e",
   "metadata": {},
   "outputs": [],
   "source": [
    "x = 1\n",
    "y = 2\n",
    "z = 4\n",
    "p = 2"
   ]
  },
  {
   "cell_type": "code",
   "execution_count": 5,
   "id": "1502bf63-ecaf-428e-bf1f-35f774d44b9f",
   "metadata": {},
   "outputs": [
    {
     "data": {
      "text/plain": [
       "True"
      ]
     },
     "execution_count": 5,
     "metadata": {},
     "output_type": "execute_result"
    }
   ],
   "source": [
    "x == x"
   ]
  },
  {
   "cell_type": "code",
   "execution_count": 7,
   "id": "2fcf730d-96e5-4bdd-ae0e-278c1a58ca95",
   "metadata": {},
   "outputs": [
    {
     "data": {
      "text/plain": [
       "True"
      ]
     },
     "execution_count": 7,
     "metadata": {},
     "output_type": "execute_result"
    }
   ],
   "source": [
    "y != z"
   ]
  },
  {
   "cell_type": "code",
   "execution_count": 2,
   "id": "144f64a0-84a9-4656-a24a-f5a06c6941e9",
   "metadata": {},
   "outputs": [],
   "source": [
    "# Comparison operators\n",
    "# ==\n",
    "# !=\n",
    "# <\n",
    "# >\n",
    "# >=\n",
    "# <="
   ]
  },
  {
   "cell_type": "code",
   "execution_count": null,
   "id": "1dfb197d-efe6-49a4-958e-be8dad99786a",
   "metadata": {},
   "outputs": [],
   "source": []
  },
  {
   "cell_type": "markdown",
   "id": "458304ca-35e9-4a01-9d92-039789497d4c",
   "metadata": {},
   "source": [
    "# Logical Operators\n",
    "#### Logical operators allow you to combine multiple conditions into one complex condition. These operators are commonly used to combine relational conditions and make decisions based on multiple criteria."
   ]
  },
  {
   "cell_type": "code",
   "execution_count": 10,
   "id": "888fa5eb-04da-438c-89e0-05e544b5a4f5",
   "metadata": {},
   "outputs": [
    {
     "data": {
      "text/plain": [
       "False"
      ]
     },
     "execution_count": 10,
     "metadata": {},
     "output_type": "execute_result"
    }
   ],
   "source": [
    "x <= p and y >= z"
   ]
  },
  {
   "cell_type": "code",
   "execution_count": 28,
   "id": "97b25d59-2397-4bc7-96d7-0f680a9beca7",
   "metadata": {},
   "outputs": [
    {
     "data": {
      "text/plain": [
       "True"
      ]
     },
     "execution_count": 28,
     "metadata": {},
     "output_type": "execute_result"
    }
   ],
   "source": [
    "a = 2\n",
    "b = 3\n",
    "x = 2\n",
    "y = 5\n",
    "a == a and b == b and a == x "
   ]
  },
  {
   "cell_type": "code",
   "execution_count": 34,
   "id": "08f7de79-9de5-4f81-88de-7180612f22f8",
   "metadata": {},
   "outputs": [
    {
     "data": {
      "text/plain": [
       "False"
      ]
     },
     "execution_count": 34,
     "metadata": {},
     "output_type": "execute_result"
    }
   ],
   "source": [
    "a = 2\n",
    "b = 3\n",
    "x = 2\n",
    "y = 5\n",
    "\n",
    "a == b or b == y or y == a"
   ]
  },
  {
   "cell_type": "code",
   "execution_count": 30,
   "id": "64b87d16-8094-4e2a-9daa-4df1b12d7023",
   "metadata": {},
   "outputs": [
    {
     "data": {
      "text/plain": [
       "False"
      ]
     },
     "execution_count": 30,
     "metadata": {},
     "output_type": "execute_result"
    }
   ],
   "source": [
    "a = 2\n",
    "b = 3\n",
    "x = 2\n",
    "y = 5\n",
    "a == a and b == b and a == b\n",
    "# 2 == 2 and 3 == 3 and 2 == 3\n"
   ]
  },
  {
   "cell_type": "code",
   "execution_count": 11,
   "id": "edb5dfce-8016-401e-a200-867520910458",
   "metadata": {},
   "outputs": [
    {
     "data": {
      "text/plain": [
       "False"
      ]
     },
     "execution_count": 11,
     "metadata": {},
     "output_type": "execute_result"
    }
   ],
   "source": [
    "True and False and "
   ]
  },
  {
   "cell_type": "code",
   "execution_count": 15,
   "id": "4860165d-108b-472f-aeb1-838b3c79d129",
   "metadata": {},
   "outputs": [
    {
     "data": {
      "text/plain": [
       "False"
      ]
     },
     "execution_count": 15,
     "metadata": {},
     "output_type": "execute_result"
    }
   ],
   "source": [
    "x == y or y == x"
   ]
  },
  {
   "cell_type": "code",
   "execution_count": 12,
   "id": "7ebd53f4-5f0d-4e2c-bcd8-c3e1b1f87433",
   "metadata": {},
   "outputs": [
    {
     "data": {
      "text/plain": [
       "True"
      ]
     },
     "execution_count": 12,
     "metadata": {},
     "output_type": "execute_result"
    }
   ],
   "source": [
    "x <= p or y >= z"
   ]
  },
  {
   "cell_type": "code",
   "execution_count": 22,
   "id": "5587d970-dcc4-4b6b-8236-83fbdf44f3ff",
   "metadata": {},
   "outputs": [
    {
     "data": {
      "text/plain": [
       "False"
      ]
     },
     "execution_count": 22,
     "metadata": {},
     "output_type": "execute_result"
    }
   ],
   "source": [
    "not x <= 1"
   ]
  },
  {
   "cell_type": "code",
   "execution_count": 25,
   "id": "e8ba561f-cf2f-4d63-92d5-6e0ac4222d5a",
   "metadata": {},
   "outputs": [
    {
     "data": {
      "text/plain": [
       "True"
      ]
     },
     "execution_count": 25,
     "metadata": {},
     "output_type": "execute_result"
    }
   ],
   "source": [
    "not x > 3"
   ]
  },
  {
   "cell_type": "code",
   "execution_count": 29,
   "id": "090e3e1d-4cab-4fa4-9f20-0adf670002ce",
   "metadata": {},
   "outputs": [
    {
     "data": {
      "text/plain": [
       "True"
      ]
     },
     "execution_count": 29,
     "metadata": {},
     "output_type": "execute_result"
    }
   ],
   "source": [
    "not x > 3 or not x <= 1"
   ]
  },
  {
   "cell_type": "code",
   "execution_count": 30,
   "id": "7d7bde58-7b75-466b-aead-1d530fe0f93e",
   "metadata": {},
   "outputs": [
    {
     "data": {
      "text/plain": [
       "False"
      ]
     },
     "execution_count": 30,
     "metadata": {},
     "output_type": "execute_result"
    }
   ],
   "source": [
    "not x > 3 and not x <= 1"
   ]
  },
  {
   "cell_type": "code",
   "execution_count": 17,
   "id": "78f23370-0b43-4596-9a95-ca66bfeb4a17",
   "metadata": {},
   "outputs": [
    {
     "name": "stdin",
     "output_type": "stream",
     "text": [
      "Enter your password:  \n"
     ]
    },
    {
     "name": "stdout",
     "output_type": "stream",
     "text": [
      "Password cannot be empty!\n"
     ]
    }
   ],
   "source": [
    "#use case of not\n",
    "password = input(\"Enter your password: \")\n",
    "\n",
    "if not password:\n",
    "    print(\"Password cannot be empty!\")\n",
    "else:\n",
    "    print(\"Password is valid.\")"
   ]
  },
  {
   "cell_type": "code",
   "execution_count": 19,
   "id": "126f5029-a189-4b68-bf52-a50979d7110d",
   "metadata": {},
   "outputs": [
    {
     "name": "stdin",
     "output_type": "stream",
     "text": [
      "Enter your name:  shahmir\n"
     ]
    },
    {
     "name": "stdout",
     "output_type": "stream",
     "text": [
      "Hello shahmir\n"
     ]
    }
   ],
   "source": [
    "x = input(\"Enter your name: \")\n",
    "print(\"Hello\", x)"
   ]
  },
  {
   "cell_type": "code",
   "execution_count": 21,
   "id": "858585a8-0da3-4ff7-ac52-181e0ea88f4b",
   "metadata": {},
   "outputs": [
    {
     "name": "stdin",
     "output_type": "stream",
     "text": [
      "NUM1:  2\n",
      "NUM2:  3\n"
     ]
    },
    {
     "name": "stdout",
     "output_type": "stream",
     "text": [
      "5\n"
     ]
    }
   ],
   "source": [
    "x = int(input('NUM1: '))\n",
    "y = int(input('NUM2: '))\n",
    "a = x + y\n",
    "print(a)"
   ]
  },
  {
   "cell_type": "markdown",
   "id": "12d2766e-db14-4e82-8aed-417fdda7ceb9",
   "metadata": {},
   "source": [
    "## IF-ELIF-ELSE"
   ]
  },
  {
   "cell_type": "code",
   "execution_count": 26,
   "id": "7d38e5b7-76c4-49f4-849d-7aac670fa25f",
   "metadata": {},
   "outputs": [
    {
     "name": "stdout",
     "output_type": "stream",
     "text": [
      "start you car\n"
     ]
    }
   ],
   "source": [
    "# signal light example\n",
    "\n",
    "light = \"grey\"\n",
    "\n",
    "if light == \"red\":\n",
    "    print(\"stop\")\n",
    "elif light == \"green\":\n",
    "    print('go')\n",
    "else:\n",
    "    print(\"start you car\")\n"
   ]
  },
  {
   "cell_type": "code",
   "execution_count": 36,
   "id": "ba624279-eb6c-4725-90f7-efb19da01dac",
   "metadata": {},
   "outputs": [
    {
     "name": "stdout",
     "output_type": "stream",
     "text": [
      "you are eligible\n"
     ]
    }
   ],
   "source": [
    "# or and (Job Application)\n",
    "province = \"sindh\"\n",
    "education = \"graduate\"\n",
    "age = 25\n",
    "\n",
    "if province == \"punjab\" or (age >= 18 and age <= 25):\n",
    "    print(\"you are eligible\")\n",
    "else:\n",
    "    print(\"you are not eligible\")"
   ]
  },
  {
   "cell_type": "code",
   "execution_count": 38,
   "id": "166686ab-2b27-48db-9087-47590c9e8747",
   "metadata": {},
   "outputs": [
    {
     "ename": "SyntaxError",
     "evalue": "expected ':' (69771018.py, line 7)",
     "output_type": "error",
     "traceback": [
      "\u001b[1;36m  Cell \u001b[1;32mIn[38], line 7\u001b[1;36m\u001b[0m\n\u001b[1;33m    if (province == \"sindh\") and (age >= 18 and age <= 25) and education == \"matric\"\u001b[0m\n\u001b[1;37m                                                                                    ^\u001b[0m\n\u001b[1;31mSyntaxError\u001b[0m\u001b[1;31m:\u001b[0m expected ':'\n"
     ]
    }
   ],
   "source": [
    "# or and (Job Application)\n",
    "province = \"sindh\"\n",
    "education = \"graduate\"\n",
    "age = 25\n",
    "gender = \"male\"\n",
    "\n",
    "if (province == \"sindh\") and (age >= 18 and age <= 25) and education == \"matric\"\n",
    "    print(\"you are eligible\")\n",
    "else:\n",
    "    print(\"you are not eligible\")"
   ]
  },
  {
   "cell_type": "code",
   "execution_count": 40,
   "id": "973eac7a-ad5a-47e1-8dfd-5becd86369ad",
   "metadata": {},
   "outputs": [
    {
     "ename": "SyntaxError",
     "evalue": "invalid syntax (831760722.py, line 7)",
     "output_type": "error",
     "traceback": [
      "\u001b[1;36m  Cell \u001b[1;32mIn[40], line 7\u001b[1;36m\u001b[0m\n\u001b[1;33m    if (province == \"sindh\") and (age => 18 and age <= 25) and education == \"matric\":\u001b[0m\n\u001b[1;37m                                      ^\u001b[0m\n\u001b[1;31mSyntaxError\u001b[0m\u001b[1;31m:\u001b[0m invalid syntax\n"
     ]
    }
   ],
   "source": [
    "# or and (Job Application)\n",
    "province = \"sindh\"\n",
    "education = \"graduate\"\n",
    "age = 25\n",
    "gender = \"male\"\n",
    "\n",
    "if (province == \"sindh\") and (age => 18 and age <= 25) and education == \"matric\":\n",
    "    print(\"you are eligible\")\n",
    "else:\n",
    "    print(\"you are not eligible\")"
   ]
  },
  {
   "cell_type": "code",
   "execution_count": 44,
   "id": "d9afa238-e473-4a2f-bfe9-16d22fe33445",
   "metadata": {},
   "outputs": [
    {
     "name": "stdout",
     "output_type": "stream",
     "text": [
      "you are also eligible\n"
     ]
    }
   ],
   "source": [
    "# or and (Job Application)\n",
    "province = \"sindh\"\n",
    "education = \"graduate\"\n",
    "age = 25\n",
    "gender = \"male\"\n",
    "\n",
    "if (province == \"sindh\") and (age >= 18 and age <= 25) and education == \"matric\":\n",
    "    print(\"you are eligible\")\n",
    "elif (province == \"sindh\") and (age >= 18 and age <= 2) and education == \"graduate\":\n",
    "    print(\"you are also eligible\")\n",
    "else:\n",
    "    print(\"you are not eligible\")"
   ]
  },
  {
   "cell_type": "code",
   "execution_count": 48,
   "id": "a3492160-148d-4e11-8a9c-3335ae45a0c1",
   "metadata": {},
   "outputs": [
    {
     "name": "stdout",
     "output_type": "stream",
     "text": [
      "you are also eligible\n"
     ]
    }
   ],
   "source": [
    "# or and (Job Application)\n",
    "#ON DEMAND\n",
    "province = \"sindh\"\n",
    "education = \"graduate\"\n",
    "age = 25\n",
    "gender = \"male\"\n",
    "\n",
    "if (province == \"sindh\") and (age >= 18 and age <= 25) and education == \"matric\":\n",
    "    print(\"you are eligible\")\n",
    "elif (province == \"sindh\") and (age == 50/2) and education == \"graduate\":\n",
    "    print(\"you are also eligible\")\n",
    "else:\n",
    "    print(\"you are not eligible\")"
   ]
  },
  {
   "cell_type": "code",
   "execution_count": 46,
   "id": "48820b20-5a6f-4fad-b7a4-4da33b0785c8",
   "metadata": {},
   "outputs": [
    {
     "data": {
      "text/plain": [
       "25.0"
      ]
     },
     "execution_count": 46,
     "metadata": {},
     "output_type": "execute_result"
    }
   ],
   "source": [
    "50/2"
   ]
  },
  {
   "cell_type": "code",
   "execution_count": null,
   "id": "ca4448af-8ba8-49be-8049-c9efd372838a",
   "metadata": {},
   "outputs": [],
   "source": []
  },
  {
   "cell_type": "code",
   "execution_count": 54,
   "id": "2ef7f95a-2ace-4fb8-a62a-32fd554bd87f",
   "metadata": {},
   "outputs": [
    {
     "name": "stdout",
     "output_type": "stream",
     "text": [
      "B\n"
     ]
    }
   ],
   "source": [
    "#student grading\n",
    "\n",
    "marks = 70\n",
    "\n",
    "if marks >= 80:\n",
    "    print(\"A\")\n",
    "elif marks >= 70:\n",
    "    print(\"B\")\n",
    "elif marks >= 60:\n",
    "    print(\"C\")\n",
    "elif marks >= 50:\n",
    "    print(\"D\")"
   ]
  },
  {
   "cell_type": "code",
   "execution_count": 56,
   "id": "1c24b1ac-6268-4342-9e33-b18d28900465",
   "metadata": {},
   "outputs": [
    {
     "name": "stdout",
     "output_type": "stream",
     "text": [
      "B\n"
     ]
    }
   ],
   "source": [
    "#student grading\n",
    "\n",
    "marks = 70\n",
    "\n",
    "if marks >= 80:\n",
    "    print(\"A\")\n",
    "elif marks >= 70:\n",
    "    print(\"B\")\n",
    "elif marks >= 60:\n",
    "    print(\"C\")\n",
    "elif marks >= 50:\n",
    "    print(\"D\")\n",
    "else:\n",
    "    print('FAILED')"
   ]
  },
  {
   "cell_type": "code",
   "execution_count": null,
   "id": "a1229618-049e-40b1-8310-da424d6a0453",
   "metadata": {},
   "outputs": [],
   "source": []
  },
  {
   "cell_type": "code",
   "execution_count": null,
   "id": "29c7f148-3d81-4e8d-822f-d65f46fce58c",
   "metadata": {},
   "outputs": [],
   "source": []
  },
  {
   "cell_type": "code",
   "execution_count": null,
   "id": "24be8793-3398-40a7-b0e6-5bf06daea219",
   "metadata": {},
   "outputs": [],
   "source": []
  },
  {
   "cell_type": "code",
   "execution_count": null,
   "id": "2a238a6a-027c-4968-b8e3-f7d72bb68a32",
   "metadata": {},
   "outputs": [],
   "source": []
  },
  {
   "cell_type": "markdown",
   "id": "16e444fd-2dc4-43f3-94c3-3273ede3093a",
   "metadata": {},
   "source": [
    "## Practise Questions"
   ]
  },
  {
   "cell_type": "code",
   "execution_count": null,
   "id": "ce356c07-d3c6-4911-b20d-679e9152e673",
   "metadata": {},
   "outputs": [],
   "source": []
  },
  {
   "cell_type": "code",
   "execution_count": 100,
   "id": "f34617f8-c038-48dc-ad34-f2ce9c2a6966",
   "metadata": {},
   "outputs": [
    {
     "name": "stdin",
     "output_type": "stream",
     "text": [
      "enter number:  4\n"
     ]
    },
    {
     "name": "stdout",
     "output_type": "stream",
     "text": [
      "even\n"
     ]
    }
   ],
   "source": [
    "#WAP to check if a number entered by user is even or odd?\n",
    "num = int(input(\"enter number: \"))\n",
    "rem = num % 2\n",
    "if (rem==0)\n"
   ]
  },
  {
   "cell_type": "code",
   "execution_count": null,
   "id": "f3ef9b6f-8f5d-46cf-9ba7-a06487e8bde3",
   "metadata": {},
   "outputs": [],
   "source": []
  },
  {
   "cell_type": "code",
   "execution_count": 82,
   "id": "8ef41a2b-58c9-436d-8e9c-4472045e3f43",
   "metadata": {},
   "outputs": [
    {
     "name": "stdin",
     "output_type": "stream",
     "text": [
      "enter number:  3\n"
     ]
    },
    {
     "name": "stdout",
     "output_type": "stream",
     "text": [
      "not a multiple of 5\n"
     ]
    }
   ],
   "source": [
    "# WAP to check if number is a multiple of 5 or not\n",
    "x = int(input(\"enter number: \"))\n",
    "y = x%5\n",
    "if (y==0)\n"
   ]
  },
  {
   "cell_type": "code",
   "execution_count": null,
   "id": "e6fbb454-7c05-466b-ac4d-fb00ea12bb43",
   "metadata": {},
   "outputs": [],
   "source": []
  },
  {
   "cell_type": "code",
   "execution_count": null,
   "id": "a2a7d660-90c5-4819-a9a0-6c5a29040fe1",
   "metadata": {},
   "outputs": [],
   "source": []
  },
  {
   "cell_type": "code",
   "execution_count": null,
   "id": "3a41c012-0786-476f-8a95-caccab54b7a7",
   "metadata": {},
   "outputs": [],
   "source": []
  },
  {
   "cell_type": "code",
   "execution_count": null,
   "id": "082c636e-b974-4513-9d55-99f2d4efb29b",
   "metadata": {},
   "outputs": [],
   "source": []
  },
  {
   "cell_type": "code",
   "execution_count": null,
   "id": "ee3c1f3c-eec2-4ba5-838d-b5a846284920",
   "metadata": {},
   "outputs": [],
   "source": []
  },
  {
   "cell_type": "code",
   "execution_count": null,
   "id": "1776ad14-0396-4184-8de4-09e300c3a84b",
   "metadata": {},
   "outputs": [],
   "source": []
  },
  {
   "cell_type": "code",
   "execution_count": null,
   "id": "218679f7-e762-4c13-be7f-caa0ec9f9906",
   "metadata": {},
   "outputs": [],
   "source": []
  },
  {
   "cell_type": "code",
   "execution_count": null,
   "id": "47bba970-34a8-41b7-bf84-6bb5bba5d8b6",
   "metadata": {},
   "outputs": [],
   "source": []
  },
  {
   "cell_type": "code",
   "execution_count": null,
   "id": "0f9858af-3f18-40f1-87b8-9676cca08eb7",
   "metadata": {},
   "outputs": [],
   "source": []
  },
  {
   "cell_type": "code",
   "execution_count": null,
   "id": "1cbb82d2-d384-4598-b2a9-49d043651015",
   "metadata": {},
   "outputs": [],
   "source": []
  },
  {
   "cell_type": "code",
   "execution_count": null,
   "id": "6917664e-9544-4f03-804d-aaeee3510cf9",
   "metadata": {},
   "outputs": [],
   "source": []
  },
  {
   "cell_type": "code",
   "execution_count": null,
   "id": "df3a9131-72cb-49bb-8c28-a8e6fe456943",
   "metadata": {},
   "outputs": [],
   "source": []
  },
  {
   "cell_type": "code",
   "execution_count": null,
   "id": "7291f8ec-9803-4432-b719-3bdc7b5aa9d2",
   "metadata": {},
   "outputs": [],
   "source": []
  },
  {
   "cell_type": "code",
   "execution_count": null,
   "id": "62bfc122-09a2-4385-b443-92a7280334f1",
   "metadata": {},
   "outputs": [],
   "source": []
  },
  {
   "cell_type": "code",
   "execution_count": null,
   "id": "e2f5442d-b523-4739-ae20-c03befdb7156",
   "metadata": {},
   "outputs": [],
   "source": []
  }
 ],
 "metadata": {
  "kernelspec": {
   "display_name": "Python 3 (ipykernel)",
   "language": "python",
   "name": "python3"
  },
  "language_info": {
   "codemirror_mode": {
    "name": "ipython",
    "version": 3
   },
   "file_extension": ".py",
   "mimetype": "text/x-python",
   "name": "python",
   "nbconvert_exporter": "python",
   "pygments_lexer": "ipython3",
   "version": "3.12.4"
  }
 },
 "nbformat": 4,
 "nbformat_minor": 5
}
