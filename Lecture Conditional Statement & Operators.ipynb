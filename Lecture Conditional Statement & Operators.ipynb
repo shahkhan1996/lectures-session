{
 "cells": [
  {
   "cell_type": "markdown",
   "id": "cf5c1954-541e-4b51-93c3-ea897c543b2e",
   "metadata": {},
   "source": [
    "## Relational Operators\n",
    "#### Relational (or comparison) operators are used to compare two values. These operators return a Boolean value (True or False), and are commonly used in if, elif, and while statements.\n"
   ]
  },
  {
   "cell_type": "code",
   "execution_count": 15,
   "id": "3f2a8a66-c573-4127-8cf0-5227897f566e",
   "metadata": {},
   "outputs": [],
   "source": [
    "x = 1\n",
    "y = 2\n",
    "z = 4\n",
    "p = 2"
   ]
  },
  {
   "cell_type": "code",
   "execution_count": 3,
   "id": "1502bf63-ecaf-428e-bf1f-35f774d44b9f",
   "metadata": {},
   "outputs": [
    {
     "data": {
      "text/plain": [
       "True"
      ]
     },
     "execution_count": 3,
     "metadata": {},
     "output_type": "execute_result"
    }
   ],
   "source": [
    "x == x"
   ]
  },
  {
   "cell_type": "code",
   "execution_count": 9,
   "id": "2fcf730d-96e5-4bdd-ae0e-278c1a58ca95",
   "metadata": {},
   "outputs": [
    {
     "data": {
      "text/plain": [
       "True"
      ]
     },
     "execution_count": 9,
     "metadata": {},
     "output_type": "execute_result"
    }
   ],
   "source": [
    "y != z\n",
    "#IS NOT EQUAL TO SIGN IN PYTHON !=\n",
    "\n",
    "Comparison operators\n",
    "==\n",
    "!=\n",
    "<\n",
    ">\n",
    ">=\n",
    "<="
   ]
  },
  {
   "cell_type": "markdown",
   "id": "458304ca-35e9-4a01-9d92-039789497d4c",
   "metadata": {},
   "source": [
    "# Logical Operators\n",
    "#### Logical operators allow you to combine multiple conditions into one complex condition. These operators are commonly used to combine relational conditions and make decisions based on multiple criteria."
   ]
  },
  {
   "cell_type": "code",
   "execution_count": 17,
   "id": "888fa5eb-04da-438c-89e0-05e544b5a4f5",
   "metadata": {},
   "outputs": [
    {
     "data": {
      "text/plain": [
       "False"
      ]
     },
     "execution_count": 17,
     "metadata": {},
     "output_type": "execute_result"
    }
   ],
   "source": [
    "x <= p and y >= z\n",
    "#both conditions must be true in AND"
   ]
  },
  {
   "cell_type": "code",
   "execution_count": null,
   "id": "31cb6385-6513-422d-80a3-89ba90e24370",
   "metadata": {},
   "outputs": [],
   "source": [
    "x = 1\n",
    "y = 2\n",
    "z = 4\n",
    "p = 2"
   ]
  },
  {
   "cell_type": "code",
   "execution_count": 19,
   "id": "7ebd53f4-5f0d-4e2c-bcd8-c3e1b1f87433",
   "metadata": {},
   "outputs": [
    {
     "data": {
      "text/plain": [
       "True"
      ]
     },
     "execution_count": 19,
     "metadata": {},
     "output_type": "execute_result"
    }
   ],
   "source": [
    "x <= p or y >= z\n",
    "#we use or when at least one condition is true"
   ]
  },
  {
   "cell_type": "code",
   "execution_count": null,
   "id": "5587d970-dcc4-4b6b-8236-83fbdf44f3ff",
   "metadata": {},
   "outputs": [],
   "source": [
    "not x <= 1"
   ]
  },
  {
   "cell_type": "code",
   "execution_count": null,
   "id": "e8ba561f-cf2f-4d63-92d5-6e0ac4222d5a",
   "metadata": {},
   "outputs": [],
   "source": [
    "not x > 3"
   ]
  },
  {
   "cell_type": "code",
   "execution_count": null,
   "id": "090e3e1d-4cab-4fa4-9f20-0adf670002ce",
   "metadata": {},
   "outputs": [],
   "source": [
    "not x > 3 or not x <= 1"
   ]
  },
  {
   "cell_type": "code",
   "execution_count": null,
   "id": "7d7bde58-7b75-466b-aead-1d530fe0f93e",
   "metadata": {},
   "outputs": [],
   "source": [
    "not x > 3 and not x <= 1"
   ]
  },
  {
   "cell_type": "code",
   "execution_count": 23,
   "id": "78f23370-0b43-4596-9a95-ca66bfeb4a17",
   "metadata": {},
   "outputs": [
    {
     "name": "stdin",
     "output_type": "stream",
     "text": [
      "Enter your password:  \n"
     ]
    },
    {
     "name": "stdout",
     "output_type": "stream",
     "text": [
      "Password cannot be empty!\n"
     ]
    }
   ],
   "source": [
    "#use case of not\n",
    "password = input(\"Enter your password: \")\n",
    "\n",
    "if not password:\n",
    "    print(\"Password cannot be empty!\")\n",
    "else:\n",
    "    print(\"Password is valid.\")"
   ]
  },
  {
   "cell_type": "code",
   "execution_count": 25,
   "id": "7e0e10b3-9ab1-4a29-b5ee-b3ee3313fb3d",
   "metadata": {},
   "outputs": [
    {
     "name": "stdin",
     "output_type": "stream",
     "text": [
      "Enter you name:  shahmir\n"
     ]
    },
    {
     "name": "stdout",
     "output_type": "stream",
     "text": [
      "Hi shahmir\n"
     ]
    }
   ],
   "source": [
    "x = input(\"Enter you name: \")\n",
    "print(\"Hi\", x)"
   ]
  },
  {
   "cell_type": "code",
   "execution_count": 27,
   "id": "2fb0e975-fb2b-48a9-a083-6492cb922d5b",
   "metadata": {},
   "outputs": [
    {
     "name": "stdin",
     "output_type": "stream",
     "text": [
      "num1:  3\n",
      "num2:  4\n"
     ]
    },
    {
     "name": "stdout",
     "output_type": "stream",
     "text": [
      "your answer is:  7\n"
     ]
    }
   ],
   "source": [
    "x = int(input(\"num1: \"))\n",
    "y = int(input(\"num2: \"))\n",
    "z = x + y\n",
    "print(\"your answer is: \", z)"
   ]
  },
  {
   "cell_type": "code",
   "execution_count": null,
   "id": "2818ff77-194d-4b61-a73d-e20cab3eb1eb",
   "metadata": {},
   "outputs": [],
   "source": [
    "\n",
    "if age >= 18:\n",
    "    print(\"you are eligible\")\n",
    "elif education == \"masters\":\n",
    "    print\n",
    "elif \n",
    "\n",
    "elif\n",
    "\n",
    "else: \n",
    "    print()"
   ]
  },
  {
   "cell_type": "markdown",
   "id": "12d2766e-db14-4e82-8aed-417fdda7ceb9",
   "metadata": {},
   "source": [
    "## IF-ELIF-ELSE"
   ]
  },
  {
   "cell_type": "code",
   "execution_count": 31,
   "id": "7d38e5b7-76c4-49f4-849d-7aac670fa25f",
   "metadata": {},
   "outputs": [
    {
     "name": "stdout",
     "output_type": "stream",
     "text": [
      "start you car\n"
     ]
    }
   ],
   "source": [
    "# signal light example\n",
    "\n",
    "light = \"grey\"\n",
    "\n",
    "if light == \"red\":\n",
    "    print(\"stop\")\n",
    "elif light == \"green\":\n",
    "    print(\"go\")\n",
    "elif light == \"orange\":\n",
    "    print(\"wait\")\n",
    "else:\n",
    "    print(\"start you car\")"
   ]
  },
  {
   "cell_type": "code",
   "execution_count": 57,
   "id": "04259273-1c60-4aa6-b3e8-f7aa7456130f",
   "metadata": {},
   "outputs": [
    {
     "name": "stdin",
     "output_type": "stream",
     "text": [
      "Enter command:  red\n"
     ]
    },
    {
     "name": "stdout",
     "output_type": "stream",
     "text": [
      "stop\n"
     ]
    }
   ],
   "source": [
    "# signal light example\n",
    "\n",
    "light = input(\"Enter command: \")\n",
    "\n",
    "if light == \"red\":\n",
    "    print(\"stop\")\n",
    "elif light == \"green\":\n",
    "    print(\"go\")\n",
    "elif light == \"orange\":\n",
    "    print(\"wait\")\n"
   ]
  },
  {
   "cell_type": "code",
   "execution_count": null,
   "id": "dc8a966d-56e4-48e3-8674-69188d09f7ce",
   "metadata": {},
   "outputs": [],
   "source": []
  },
  {
   "cell_type": "code",
   "execution_count": null,
   "id": "2776f703-69b2-4aa8-b244-67cb20851fa5",
   "metadata": {},
   "outputs": [],
   "source": []
  },
  {
   "cell_type": "code",
   "execution_count": 35,
   "id": "ba624279-eb6c-4725-90f7-efb19da01dac",
   "metadata": {},
   "outputs": [
    {
     "name": "stdout",
     "output_type": "stream",
     "text": [
      "you are not eligible\n"
     ]
    }
   ],
   "source": [
    "# or and (Job Application)\n",
    "province = \"punjab\"\n",
    "education = \"graduate\"\n",
    "age = 25\n",
    "\n",
    "if province == \"sindh\" and (age >= 18 and age <= 25):\n",
    "    print(\"you are eligible\")\n",
    "else:\n",
    "    print(\"you are not eligible\")"
   ]
  },
  {
   "cell_type": "code",
   "execution_count": 39,
   "id": "da9c6e8a-2abc-47ca-b142-9bc9310d247d",
   "metadata": {},
   "outputs": [
    {
     "name": "stdout",
     "output_type": "stream",
     "text": [
      "you are eligible\n"
     ]
    }
   ],
   "source": [
    "# or and (Job Application)\n",
    "province = \"punjab\"\n",
    "education = \"graduate\"\n",
    "age = 25\n",
    "\n",
    "if province == \"punjab\" or education == \"master\":\n",
    "    print(\"you are eligible\")\n",
    "else:\n",
    "    print(\"you are not eligible\")"
   ]
  },
  {
   "cell_type": "code",
   "execution_count": 63,
   "id": "7f874feb-9637-48a7-b501-5dbd8e4e8d2b",
   "metadata": {},
   "outputs": [
    {
     "name": "stdout",
     "output_type": "stream",
     "text": [
      "you are not eligible\n"
     ]
    }
   ],
   "source": [
    "# or and (Job Application)\n",
    "province = \"sindh\"\n",
    "education = \"graduate\"\n",
    "age = 25\n",
    "gender = \"male\"\n",
    "\n",
    "if (province == \"sindh\") and (age >= 18 and age <= 25) and education == \"matric\":\n",
    "    print(\"you are eligible\")\n",
    "elif (province == \"sindh\") and (age >= 18 and age <= 25) and education == \"graduate\":\n",
    "    print(\"you are also eligible\")\n",
    "else:\n",
    "    print(\"you are not eligible\")"
   ]
  },
  {
   "cell_type": "code",
   "execution_count": 53,
   "id": "2ef7f95a-2ace-4fb8-a62a-32fd554bd87f",
   "metadata": {},
   "outputs": [
    {
     "name": "stdout",
     "output_type": "stream",
     "text": [
      "A\n"
     ]
    }
   ],
   "source": [
    "#student grading\n",
    "\n",
    "marks = 101\n",
    "\n",
    "if marks >= 90 and marks <100:\n",
    "    print(\"A+\")\n",
    "elif marks >= 80 and marks <= 90:\n",
    "    print(\"A\")\n",
    "elif marks >= 70:\n",
    "    print(\"B\")\n",
    "elif marks >= 60:\n",
    "    print(\"C\")\n",
    "else:\n",
    "    print(\"Try again\")"
   ]
  },
  {
   "cell_type": "code",
   "execution_count": null,
   "id": "91eb526d-db19-4f92-8d97-dee157d29161",
   "metadata": {},
   "outputs": [],
   "source": [
    "#student grading\n",
    "\n",
    "marks = 101\n",
    "\n",
    "if marks >= 90 and marks <100:\n",
    "    print(\"A+\")\n",
    "elif marks >= 80 and marks <= 90:\n",
    "    print(\"A\")\n",
    "elif marks >= 70:\n",
    "    print(\"B\")\n",
    "elif marks >= 60:\n",
    "    print(\"C\")\n",
    "else:\n",
    "    print(\"Try again\")"
   ]
  },
  {
   "cell_type": "code",
   "execution_count": null,
   "id": "24be8793-3398-40a7-b0e6-5bf06daea219",
   "metadata": {},
   "outputs": [],
   "source": [
    "x =\n",
    "y =\n",
    "z =\n",
    "\n",
    "if x>=y and x>=z:\n",
    "    print(x, \"is greater\")"
   ]
  },
  {
   "cell_type": "code",
   "execution_count": null,
   "id": "2a238a6a-027c-4968-b8e3-f7d72bb68a32",
   "metadata": {},
   "outputs": [],
   "source": []
  },
  {
   "cell_type": "markdown",
   "id": "16e444fd-2dc4-43f3-94c3-3273ede3093a",
   "metadata": {},
   "source": [
    "## Practise Questions"
   ]
  },
  {
   "cell_type": "code",
   "execution_count": null,
   "id": "ce356c07-d3c6-4911-b20d-679e9152e673",
   "metadata": {},
   "outputs": [],
   "source": []
  },
  {
   "cell_type": "code",
   "execution_count": null,
   "id": "f34617f8-c038-48dc-ad34-f2ce9c2a6966",
   "metadata": {},
   "outputs": [],
   "source": [
    "#WAP to check if a number entered by user is even or odd?\n",
    "num = int(input(\"enter number: \"))\n",
    "rem = num % 2\n"
   ]
  },
  {
   "cell_type": "code",
   "execution_count": null,
   "id": "f3ef9b6f-8f5d-46cf-9ba7-a06487e8bde3",
   "metadata": {},
   "outputs": [],
   "source": []
  },
  {
   "cell_type": "code",
   "execution_count": null,
   "id": "8ef41a2b-58c9-436d-8e9c-4472045e3f43",
   "metadata": {},
   "outputs": [],
   "source": [
    "# WAP to check if number is a multiple of 5 or not\n",
    "x = int(input(\"enter number: \"))\n",
    "y = x%5\n",
    "\n"
   ]
  },
  {
   "cell_type": "code",
   "execution_count": null,
   "id": "98532267-679d-423f-95f6-411d75ec5256",
   "metadata": {},
   "outputs": [],
   "source": [
    "#WAP to check which number is greater from three provided numbers by user\n",
    "x = \n",
    "y = \n",
    "z = \n"
   ]
  },
  {
   "cell_type": "code",
   "execution_count": null,
   "id": "e6fbb454-7c05-466b-ac4d-fb00ea12bb43",
   "metadata": {},
   "outputs": [],
   "source": []
  },
  {
   "cell_type": "code",
   "execution_count": null,
   "id": "082c636e-b974-4513-9d55-99f2d4efb29b",
   "metadata": {},
   "outputs": [],
   "source": []
  },
  {
   "cell_type": "code",
   "execution_count": null,
   "id": "ee3c1f3c-eec2-4ba5-838d-b5a846284920",
   "metadata": {},
   "outputs": [],
   "source": []
  },
  {
   "cell_type": "code",
   "execution_count": null,
   "id": "1776ad14-0396-4184-8de4-09e300c3a84b",
   "metadata": {},
   "outputs": [],
   "source": []
  },
  {
   "cell_type": "code",
   "execution_count": null,
   "id": "218679f7-e762-4c13-be7f-caa0ec9f9906",
   "metadata": {},
   "outputs": [],
   "source": []
  },
  {
   "cell_type": "code",
   "execution_count": null,
   "id": "47bba970-34a8-41b7-bf84-6bb5bba5d8b6",
   "metadata": {},
   "outputs": [],
   "source": []
  },
  {
   "cell_type": "code",
   "execution_count": null,
   "id": "0f9858af-3f18-40f1-87b8-9676cca08eb7",
   "metadata": {},
   "outputs": [],
   "source": []
  },
  {
   "cell_type": "code",
   "execution_count": null,
   "id": "1cbb82d2-d384-4598-b2a9-49d043651015",
   "metadata": {},
   "outputs": [],
   "source": []
  },
  {
   "cell_type": "code",
   "execution_count": null,
   "id": "6917664e-9544-4f03-804d-aaeee3510cf9",
   "metadata": {},
   "outputs": [],
   "source": []
  },
  {
   "cell_type": "code",
   "execution_count": null,
   "id": "df3a9131-72cb-49bb-8c28-a8e6fe456943",
   "metadata": {},
   "outputs": [],
   "source": []
  },
  {
   "cell_type": "code",
   "execution_count": null,
   "id": "7291f8ec-9803-4432-b719-3bdc7b5aa9d2",
   "metadata": {},
   "outputs": [],
   "source": []
  },
  {
   "cell_type": "code",
   "execution_count": null,
   "id": "62bfc122-09a2-4385-b443-92a7280334f1",
   "metadata": {},
   "outputs": [],
   "source": []
  },
  {
   "cell_type": "code",
   "execution_count": null,
   "id": "e2f5442d-b523-4739-ae20-c03befdb7156",
   "metadata": {},
   "outputs": [],
   "source": []
  }
 ],
 "metadata": {
  "kernelspec": {
   "display_name": "Python 3 (ipykernel)",
   "language": "python",
   "name": "python3"
  },
  "language_info": {
   "codemirror_mode": {
    "name": "ipython",
    "version": 3
   },
   "file_extension": ".py",
   "mimetype": "text/x-python",
   "name": "python",
   "nbconvert_exporter": "python",
   "pygments_lexer": "ipython3",
   "version": "3.12.4"
  }
 },
 "nbformat": 4,
 "nbformat_minor": 5
}
