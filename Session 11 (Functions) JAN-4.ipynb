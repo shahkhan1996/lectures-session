{
 "cells": [
  {
   "cell_type": "markdown",
   "id": "166fee90-65a7-4d2c-95ee-02806e4c52ed",
   "metadata": {},
   "source": [
    "### Functions\n",
    "\n",
    "In Python, a function is a reusable block of code that performs a specific task. Functions allow us to group related tasks together meaning that you can break down complex programs into smaller, more manageable pieces.\n",
    "\n"
   ]
  },
  {
   "cell_type": "markdown",
   "id": "b0e2947e-d86a-4073-a339-7542ec3aed3a",
   "metadata": {},
   "source": [
    "### Why Use Functions?\n",
    "\n",
    "- Reusability: Once a function is defined, you can call it multiple times without having to rewrite the same code.\n",
    "- Organization: Functions allow you to organize your code logically into blocks, making it easier to understand.\n",
    "- Abstraction: Functions can hide complex implementation details, exposing only what’s necessary."
   ]
  },
  {
   "cell_type": "markdown",
   "id": "70936566-37f3-4167-9a24-ccd3234ef17c",
   "metadata": {},
   "source": [
    "### Defining a Function"
   ]
  },
  {
   "cell_type": "code",
   "execution_count": null,
   "id": "1f3198b8-3233-4f01-abd2-1ceaa6774fc8",
   "metadata": {},
   "outputs": [],
   "source": [
    "def function_name(parameters): #parameters/arguments (optional)\n",
    "    # Function body\n",
    "    # Code to be executed\n",
    "    return value #(depends on condition)"
   ]
  },
  {
   "cell_type": "code",
   "execution_count": 5,
   "id": "b120e953-0fd4-4806-b229-46f0d30b7f6f",
   "metadata": {},
   "outputs": [],
   "source": [
    "def greet():\n",
    "    print('Welcome')"
   ]
  },
  {
   "cell_type": "code",
   "execution_count": 8,
   "id": "a1e6dad0-7877-46f5-8a16-4eb0d61b82c4",
   "metadata": {},
   "outputs": [
    {
     "name": "stdout",
     "output_type": "stream",
     "text": [
      "Welcome\n",
      "Welcome\n",
      "Welcome\n"
     ]
    }
   ],
   "source": [
    "greet()\n",
    "greet()\n",
    "greet()"
   ]
  },
  {
   "cell_type": "code",
   "execution_count": null,
   "id": "db3f6138-4b07-4e20-a6e7-69ffa20daef2",
   "metadata": {},
   "outputs": [],
   "source": [
    "#syntax \n",
    "def greet():\n",
    "    print('Hello! User')\n",
    "\n",
    "greet()"
   ]
  },
  {
   "cell_type": "code",
   "execution_count": 9,
   "id": "b4a36bc7-ea18-42f4-a3a0-25084485df25",
   "metadata": {},
   "outputs": [
    {
     "name": "stdout",
     "output_type": "stream",
     "text": [
      "Hello World\n"
     ]
    }
   ],
   "source": [
    "#my first function in python\n",
    "def message():\n",
    "    print('Hello World')\n",
    "\n",
    "message()"
   ]
  },
  {
   "cell_type": "code",
   "execution_count": 10,
   "id": "8ebd8c4c-7893-407e-92e4-c43d152f4778",
   "metadata": {},
   "outputs": [
    {
     "ename": "SyntaxError",
     "evalue": "expected '(' (2352193185.py, line 1)",
     "output_type": "error",
     "traceback": [
      "\u001b[1;36m  Cell \u001b[1;32mIn[10], line 1\u001b[1;36m\u001b[0m\n\u001b[1;33m    def message:\u001b[0m\n\u001b[1;37m               ^\u001b[0m\n\u001b[1;31mSyntaxError\u001b[0m\u001b[1;31m:\u001b[0m expected '('\n"
     ]
    }
   ],
   "source": [
    "def message:\n",
    "    print('Hello World')\n",
    "\n",
    "message"
   ]
  },
  {
   "cell_type": "code",
   "execution_count": 16,
   "id": "d54d08a6-e022-46e8-b012-edc085576997",
   "metadata": {},
   "outputs": [
    {
     "name": "stdout",
     "output_type": "stream",
     "text": [
      "Hello ali\n",
      "Hello aymen\n"
     ]
    }
   ],
   "source": [
    "def greet(name):\n",
    "    print('Hello', name)\n",
    "\n",
    "greet('ali')\n",
    "greet('aymen')"
   ]
  },
  {
   "cell_type": "code",
   "execution_count": 14,
   "id": "fa5cbd62-40fc-4122-b97b-2f281028dea1",
   "metadata": {},
   "outputs": [],
   "source": [
    "#Function with Parameters\n",
    "def greet(name):\n",
    "    return print('Hello',name)"
   ]
  },
  {
   "cell_type": "code",
   "execution_count": null,
   "id": "fe1046ee-17db-4248-a153-c231f4d3e86c",
   "metadata": {},
   "outputs": [],
   "source": [
    "#Function with Parameters\n",
    "def greet(name):\n",
    "    print('Hello',name)\n",
    "    return\n",
    "\n",
    "greet('abc')"
   ]
  },
  {
   "cell_type": "code",
   "execution_count": null,
   "id": "a4b3f342-4502-46f5-8d4a-ea1483ca894e",
   "metadata": {},
   "outputs": [],
   "source": []
  },
  {
   "cell_type": "code",
   "execution_count": 15,
   "id": "68c13f59-44df-44e0-a656-9b1fb9f43d64",
   "metadata": {},
   "outputs": [
    {
     "name": "stdout",
     "output_type": "stream",
     "text": [
      "Hello abbas\n"
     ]
    }
   ],
   "source": [
    "greet('abbas')"
   ]
  },
  {
   "cell_type": "code",
   "execution_count": 17,
   "id": "0944bd2a-300e-4f04-ae1c-17009872a869",
   "metadata": {},
   "outputs": [
    {
     "name": "stdout",
     "output_type": "stream",
     "text": [
      "Hello abc\n"
     ]
    }
   ],
   "source": [
    "#Function with Parameters\n",
    "def greet(name):\n",
    "    print('Hello',name)\n",
    "    return \n",
    "\n",
    "greet('abc')"
   ]
  },
  {
   "cell_type": "code",
   "execution_count": 18,
   "id": "3104b0ed-85a5-407d-90ec-b3876c1c7ca8",
   "metadata": {},
   "outputs": [
    {
     "name": "stdout",
     "output_type": "stream",
     "text": [
      "Hello abc\n"
     ]
    },
    {
     "data": {
      "text/plain": [
       "0"
      ]
     },
     "execution_count": 18,
     "metadata": {},
     "output_type": "execute_result"
    }
   ],
   "source": [
    "def greet(name):\n",
    "    print('Hello',name)\n",
    "    return 0\n",
    "\n",
    "greet('abc')"
   ]
  },
  {
   "cell_type": "code",
   "execution_count": null,
   "id": "efe33fd2-c08c-4e8a-8f95-3099198057c9",
   "metadata": {},
   "outputs": [],
   "source": [
    "#Function with Parameters\n",
    "def greet(name):\n",
    "    print(f\"Hello, {name}!\")"
   ]
  },
  {
   "cell_type": "code",
   "execution_count": 20,
   "id": "8a01bcb0-cdfb-4ad4-a73f-be1ecd730092",
   "metadata": {},
   "outputs": [
    {
     "name": "stdout",
     "output_type": "stream",
     "text": [
      "Hello, qasim!\n",
      "Hello, zeeshan!\n"
     ]
    }
   ],
   "source": [
    "#Function with Parameters\n",
    "def greet(name):\n",
    "    print(f\"Hello, {name}!\")\n",
    "\n",
    "greet('qasim')\n",
    "greet('zeeshan')"
   ]
  },
  {
   "cell_type": "code",
   "execution_count": 21,
   "id": "c2170b91-1488-4253-8953-ec1e7c03dfb8",
   "metadata": {},
   "outputs": [
    {
     "name": "stdout",
     "output_type": "stream",
     "text": [
      "welcome Guest\n"
     ]
    }
   ],
   "source": [
    "def greet(name=\"Guest\"):\n",
    "    print('welcome',name)\n",
    "\n",
    "greet()"
   ]
  },
  {
   "cell_type": "code",
   "execution_count": 22,
   "id": "b076a7ed-6c5d-4528-bbd1-417f163edb80",
   "metadata": {},
   "outputs": [
    {
     "name": "stdout",
     "output_type": "stream",
     "text": [
      "welcome habib\n"
     ]
    }
   ],
   "source": [
    "greet('habib')"
   ]
  },
  {
   "cell_type": "code",
   "execution_count": null,
   "id": "09de010c-2f7b-43dd-81c0-34e4a2c50529",
   "metadata": {},
   "outputs": [],
   "source": [
    "#Default Arguments\n",
    "def greet(name=\"Guest\"):\n",
    "    print(f\"Hello, {name}!\")\n",
    "\n",
    "greet()\n",
    "greet('ali')\n",
    "greet()\n",
    "greet()"
   ]
  },
  {
   "cell_type": "code",
   "execution_count": 23,
   "id": "4aac7389-14fa-4de9-80b7-f6f263ed9094",
   "metadata": {},
   "outputs": [
    {
     "data": {
      "text/plain": [
       "6"
      ]
     },
     "execution_count": 23,
     "metadata": {},
     "output_type": "execute_result"
    }
   ],
   "source": [
    "def add(a=2,b=4):\n",
    "    return a+b\n",
    "\n",
    "add()"
   ]
  },
  {
   "cell_type": "code",
   "execution_count": 25,
   "id": "b8a72e17-eb72-4996-b20a-74d827fcd7c6",
   "metadata": {},
   "outputs": [
    {
     "name": "stdout",
     "output_type": "stream",
     "text": [
      "55\n"
     ]
    }
   ],
   "source": [
    "def add(a=2,b=4):\n",
    "    print(a+b)\n",
    "\n",
    "add(22,33)"
   ]
  },
  {
   "cell_type": "code",
   "execution_count": 28,
   "id": "60a5a177-0cb1-44d2-84ed-017234d72d34",
   "metadata": {},
   "outputs": [
    {
     "name": "stdout",
     "output_type": "stream",
     "text": [
      "6\n",
      "6\n"
     ]
    },
    {
     "data": {
      "text/plain": [
       "6"
      ]
     },
     "execution_count": 28,
     "metadata": {},
     "output_type": "execute_result"
    }
   ],
   "source": [
    "def add(a=2,b=4):\n",
    "    print(b+a)\n",
    "    print(a+b)\n",
    "    return a+b\n",
    "    return b+a\n",
    "\n",
    "add()"
   ]
  },
  {
   "cell_type": "code",
   "execution_count": 31,
   "id": "b183a42b-4a3f-4182-ad93-5a35c2019c75",
   "metadata": {},
   "outputs": [
    {
     "name": "stdout",
     "output_type": "stream",
     "text": [
      "6\n",
      "6\n"
     ]
    },
    {
     "data": {
      "text/plain": [
       "11"
      ]
     },
     "execution_count": 31,
     "metadata": {},
     "output_type": "execute_result"
    }
   ],
   "source": [
    "def add(a=2,b=4,c=5):\n",
    "    print(b+a)\n",
    "    print(a+b)\n",
    "    return a+b+c\n",
    "    return a-b\n",
    "\n",
    "add()"
   ]
  },
  {
   "cell_type": "code",
   "execution_count": 32,
   "id": "83814c67-cf68-4759-a8db-993de45139f1",
   "metadata": {},
   "outputs": [
    {
     "ename": "IndentationError",
     "evalue": "unexpected indent (3476774600.py, line 5)",
     "output_type": "error",
     "traceback": [
      "\u001b[1;36m  Cell \u001b[1;32mIn[32], line 5\u001b[1;36m\u001b[0m\n\u001b[1;33m    return a+b\u001b[0m\n\u001b[1;37m    ^\u001b[0m\n\u001b[1;31mIndentationError\u001b[0m\u001b[1;31m:\u001b[0m unexpected indent\n"
     ]
    }
   ],
   "source": [
    "def add(a=2,b=4,c=22):\n",
    "    print(b+a)\n",
    "    print(a+b)\n",
    "    return a-b\n",
    "        return a+b\n",
    "\n",
    "add()"
   ]
  },
  {
   "cell_type": "code",
   "execution_count": 24,
   "id": "e28cd3b5-7fc2-4e55-aa67-db871f602707",
   "metadata": {},
   "outputs": [
    {
     "data": {
      "text/plain": [
       "12"
      ]
     },
     "execution_count": 24,
     "metadata": {},
     "output_type": "execute_result"
    }
   ],
   "source": [
    "add(7,5)"
   ]
  },
  {
   "cell_type": "code",
   "execution_count": null,
   "id": "ec09c85f-496a-484b-b89c-de98e534c3ff",
   "metadata": {},
   "outputs": [],
   "source": [
    "# Multiple Parameters\n",
    "def add(a, b):\n",
    "    return a + b\n"
   ]
  },
  {
   "cell_type": "code",
   "execution_count": 33,
   "id": "5b9060d0-590a-4928-bf65-44fbd4c0a9f9",
   "metadata": {},
   "outputs": [
    {
     "ename": "TypeError",
     "evalue": "unsupported operand type(s) for +: 'float' and 'str'",
     "output_type": "error",
     "traceback": [
      "\u001b[1;31m---------------------------------------------------------------------------\u001b[0m",
      "\u001b[1;31mTypeError\u001b[0m                                 Traceback (most recent call last)",
      "Cell \u001b[1;32mIn[33], line 5\u001b[0m\n\u001b[0;32m      2\u001b[0m \u001b[38;5;28;01mdef\u001b[39;00m \u001b[38;5;21madd\u001b[39m(a, b):\n\u001b[0;32m      3\u001b[0m     \u001b[38;5;28;01mreturn\u001b[39;00m \u001b[38;5;28mint\u001b[39m(a \u001b[38;5;241m+\u001b[39m b)\n\u001b[1;32m----> 5\u001b[0m add(\u001b[38;5;241m3.2\u001b[39m,\u001b[38;5;124m'\u001b[39m\u001b[38;5;124mabc\u001b[39m\u001b[38;5;124m'\u001b[39m)\n",
      "Cell \u001b[1;32mIn[33], line 3\u001b[0m, in \u001b[0;36madd\u001b[1;34m(a, b)\u001b[0m\n\u001b[0;32m      2\u001b[0m \u001b[38;5;28;01mdef\u001b[39;00m \u001b[38;5;21madd\u001b[39m(a, b):\n\u001b[1;32m----> 3\u001b[0m     \u001b[38;5;28;01mreturn\u001b[39;00m \u001b[38;5;28mint\u001b[39m(a \u001b[38;5;241m+\u001b[39m b)\n",
      "\u001b[1;31mTypeError\u001b[0m: unsupported operand type(s) for +: 'float' and 'str'"
     ]
    }
   ],
   "source": [
    "# Multiple Parameters\n",
    "def add(a, b):\n",
    "    return int(a + b)\n",
    "    \n",
    "add(3.2,'abc')"
   ]
  },
  {
   "cell_type": "code",
   "execution_count": null,
   "id": "4962c92a-632e-486f-8e6d-da9ee71783db",
   "metadata": {},
   "outputs": [],
   "source": []
  },
  {
   "cell_type": "code",
   "execution_count": null,
   "id": "8331c603-d8aa-45f4-aaa6-8082a66bbbdb",
   "metadata": {},
   "outputs": [],
   "source": [
    "def fruits(*abc):\n",
    "    return abc\n",
    "\n",
    "fruits('apple','orange','cherry')"
   ]
  },
  {
   "cell_type": "code",
   "execution_count": null,
   "id": "2217e9cd-d2dc-4e38-a6e9-a70a3ce922f6",
   "metadata": {},
   "outputs": [],
   "source": [
    "def fruits(*abc):\n",
    "    return abc\n",
    "\n",
    "fruits(a='apple',b='orange',c='cherry')"
   ]
  },
  {
   "cell_type": "code",
   "execution_count": null,
   "id": "189d8f6e-c5ed-4ee5-a904-a4dd60d3bb74",
   "metadata": {},
   "outputs": [],
   "source": [
    "def fruits(*abc):\n",
    "    return list(abc)\n",
    "\n",
    "fruits('apple','orange','cherry')"
   ]
  },
  {
   "cell_type": "code",
   "execution_count": null,
   "id": "1f6844c3-3952-45b5-9406-19c192a24eb0",
   "metadata": {},
   "outputs": [],
   "source": [
    "def subtract(a, b):\n",
    "    print(return a - b)\n",
    "\n",
    "subtract(b=3, a=10)"
   ]
  },
  {
   "cell_type": "code",
   "execution_count": null,
   "id": "e851a672-2721-4305-92bf-6f835026df2a",
   "metadata": {},
   "outputs": [],
   "source": [
    "# def subtract(a, b):\n",
    "\n",
    "return(22-2)\n",
    "\n",
    "# subtract(b=3, a=10)"
   ]
  },
  {
   "cell_type": "code",
   "execution_count": null,
   "id": "2480a7a7-1360-4c80-9e1d-e8ad37b5ca1e",
   "metadata": {},
   "outputs": [],
   "source": [
    "def greet(**xyz):\n",
    "    return xyz\n",
    "\n",
    "greet(name='umair', age=22)"
   ]
  },
  {
   "cell_type": "code",
   "execution_count": null,
   "id": "e876ec5d-3688-4c91-a0a5-7441d3e2e6cd",
   "metadata": {},
   "outputs": [],
   "source": [
    "def greet(**abc):\n",
    "    print(f\"Hello, {abc['name']}!\")\n",
    "\n",
    "greet(name=\"Alice\")"
   ]
  },
  {
   "cell_type": "code",
   "execution_count": null,
   "id": "8bdef283-80d3-48c6-8b01-9143125c1698",
   "metadata": {},
   "outputs": [],
   "source": [
    "def job(**kwargs):\n",
    "    print('Job Title:', kwargs)\n",
    "\n",
    "job()"
   ]
  },
  {
   "cell_type": "code",
   "execution_count": null,
   "id": "d0bf930b-c3cc-492f-bf37-d9bc1f64ac51",
   "metadata": {},
   "outputs": [],
   "source": [
    "def job(**kwargs):\n",
    "    print('Job Title:', kwargs['title'])\n",
    "\n",
    "job(title='Sales')"
   ]
  },
  {
   "cell_type": "code",
   "execution_count": null,
   "id": "063ead2e-a817-4b49-8315-3ee69e1645bd",
   "metadata": {},
   "outputs": [],
   "source": [
    "def xyz(**pqr):\n",
    "    for i,v in pqr.items():\n",
    "        print(f\"{i}:{v}\")\n",
    "\n",
    "xyz(age=22, name='ali', job='data analyst', salary=\"500k\")"
   ]
  },
  {
   "cell_type": "code",
   "execution_count": null,
   "id": "db40b875-f7ef-41e3-b04d-b9ac84328c85",
   "metadata": {},
   "outputs": [],
   "source": []
  },
  {
   "cell_type": "code",
   "execution_count": null,
   "id": "7f7c6e90-ad3c-4828-acc9-6c3ff5ca3551",
   "metadata": {},
   "outputs": [],
   "source": []
  },
  {
   "cell_type": "code",
   "execution_count": 34,
   "id": "173a9c8c-85ea-4d0f-a7e0-d77fbc0c0fa8",
   "metadata": {},
   "outputs": [
    {
     "data": {
      "text/plain": [
       "200"
      ]
     },
     "execution_count": 34,
     "metadata": {},
     "output_type": "execute_result"
    }
   ],
   "source": [
    "# Positional Arguments\n",
    "def subtract(a, b):\n",
    "    return b-a\n",
    "    \n",
    "subtract(22,222)"
   ]
  },
  {
   "cell_type": "code",
   "execution_count": 35,
   "id": "0d7e7c67-75d2-44e3-b380-86cff12b7dc2",
   "metadata": {},
   "outputs": [
    {
     "data": {
      "text/plain": [
       "7"
      ]
     },
     "execution_count": 35,
     "metadata": {},
     "output_type": "execute_result"
    }
   ],
   "source": [
    "# Keyword Arguments\n",
    "def subtract(a, b):\n",
    "    return a - b\n",
    "\n",
    "subtract(b=3, a=10)"
   ]
  },
  {
   "cell_type": "code",
   "execution_count": 36,
   "id": "2b2f3320-9c47-4d3c-9a2d-49dfe38912fa",
   "metadata": {},
   "outputs": [
    {
     "data": {
      "text/plain": [
       "7"
      ]
     },
     "execution_count": 36,
     "metadata": {},
     "output_type": "execute_result"
    }
   ],
   "source": [
    "def subtract(a, b=5):\n",
    "    return a - b\n",
    "\n",
    "subtract(b=3, a=10)"
   ]
  },
  {
   "cell_type": "code",
   "execution_count": 37,
   "id": "9d2e94b1-8075-4aca-a0a3-5a3f0406b25b",
   "metadata": {},
   "outputs": [
    {
     "data": {
      "text/plain": [
       "5"
      ]
     },
     "execution_count": 37,
     "metadata": {},
     "output_type": "execute_result"
    }
   ],
   "source": [
    "def subtract(a, b=5):\n",
    "    return a - b\n",
    "\n",
    "subtract(a=10)"
   ]
  },
  {
   "cell_type": "code",
   "execution_count": 38,
   "id": "d3f08bea-848f-40a1-8612-0f52b95b65bd",
   "metadata": {},
   "outputs": [
    {
     "ename": "TypeError",
     "evalue": "subtract() missing 1 required positional argument: 'b'",
     "output_type": "error",
     "traceback": [
      "\u001b[1;31m---------------------------------------------------------------------------\u001b[0m",
      "\u001b[1;31mTypeError\u001b[0m                                 Traceback (most recent call last)",
      "Cell \u001b[1;32mIn[38], line 4\u001b[0m\n\u001b[0;32m      1\u001b[0m \u001b[38;5;28;01mdef\u001b[39;00m \u001b[38;5;21msubtract\u001b[39m(a, b):\n\u001b[0;32m      2\u001b[0m     \u001b[38;5;28;01mreturn\u001b[39;00m a \u001b[38;5;241m-\u001b[39m b\n\u001b[1;32m----> 4\u001b[0m subtract(a\u001b[38;5;241m=\u001b[39m\u001b[38;5;241m10\u001b[39m)\n",
      "\u001b[1;31mTypeError\u001b[0m: subtract() missing 1 required positional argument: 'b'"
     ]
    }
   ],
   "source": [
    "def subtract(a, b):\n",
    "    return a - b\n",
    "\n",
    "subtract(a=10)"
   ]
  },
  {
   "cell_type": "code",
   "execution_count": null,
   "id": "9bdf5ad0-94aa-4991-bf71-29a89aa9e2c8",
   "metadata": {},
   "outputs": [],
   "source": [
    "# Variable-length Arguments"
   ]
  },
  {
   "cell_type": "code",
   "execution_count": 52,
   "id": "23a4964e-4685-413d-ae34-e94de030feca",
   "metadata": {},
   "outputs": [
    {
     "ename": "TypeError",
     "evalue": "unsupported operand type(s) for +: 'int' and 'str'",
     "output_type": "error",
     "traceback": [
      "\u001b[1;31m---------------------------------------------------------------------------\u001b[0m",
      "\u001b[1;31mTypeError\u001b[0m                                 Traceback (most recent call last)",
      "Cell \u001b[1;32mIn[52], line 5\u001b[0m\n\u001b[0;32m      2\u001b[0m     \u001b[38;5;28;01mreturn\u001b[39;00m \u001b[38;5;28msum\u001b[39m(abc)\n\u001b[0;32m      4\u001b[0m \u001b[38;5;66;03m# add(1,2,5,6,7)\u001b[39;00m\n\u001b[1;32m----> 5\u001b[0m add(\u001b[38;5;241m1\u001b[39m,\u001b[38;5;241m2\u001b[39m,\u001b[38;5;124m'\u001b[39m\u001b[38;5;124mabc\u001b[39m\u001b[38;5;124m'\u001b[39m)\n",
      "Cell \u001b[1;32mIn[52], line 2\u001b[0m, in \u001b[0;36madd\u001b[1;34m(*abc)\u001b[0m\n\u001b[0;32m      1\u001b[0m \u001b[38;5;28;01mdef\u001b[39;00m \u001b[38;5;21madd\u001b[39m(\u001b[38;5;241m*\u001b[39mabc):\n\u001b[1;32m----> 2\u001b[0m     \u001b[38;5;28;01mreturn\u001b[39;00m \u001b[38;5;28msum\u001b[39m(abc)\n",
      "\u001b[1;31mTypeError\u001b[0m: unsupported operand type(s) for +: 'int' and 'str'"
     ]
    }
   ],
   "source": [
    "def add(*abc):\n",
    "    return sum(abc)\n",
    "\n",
    "# add(1,2,5,6,7)\n",
    "add(1,2,'abc')"
   ]
  },
  {
   "cell_type": "code",
   "execution_count": 41,
   "id": "d5dff0a3-0866-43f9-a0aa-e452546bf282",
   "metadata": {},
   "outputs": [
    {
     "ename": "TypeError",
     "evalue": "sum() takes at most 2 arguments (3 given)",
     "output_type": "error",
     "traceback": [
      "\u001b[1;31m---------------------------------------------------------------------------\u001b[0m",
      "\u001b[1;31mTypeError\u001b[0m                                 Traceback (most recent call last)",
      "Cell \u001b[1;32mIn[41], line 4\u001b[0m\n\u001b[0;32m      1\u001b[0m \u001b[38;5;66;03m# def add(*abc):\u001b[39;00m\n\u001b[0;32m      2\u001b[0m \u001b[38;5;66;03m#     return\u001b[39;00m\n\u001b[1;32m----> 4\u001b[0m \u001b[38;5;28msum\u001b[39m(\u001b[38;5;241m1\u001b[39m,\u001b[38;5;241m2\u001b[39m,\u001b[38;5;241m4\u001b[39m)\n",
      "\u001b[1;31mTypeError\u001b[0m: sum() takes at most 2 arguments (3 given)"
     ]
    }
   ],
   "source": [
    "# def add(*abc):\n",
    "#     return\n",
    "\n",
    "sum(1,2,4)"
   ]
  },
  {
   "cell_type": "code",
   "execution_count": 44,
   "id": "dd6eb5e5-7ec7-478a-b66b-236f67f155fc",
   "metadata": {},
   "outputs": [
    {
     "ename": "TypeError",
     "evalue": "'int' object is not iterable",
     "output_type": "error",
     "traceback": [
      "\u001b[1;31m---------------------------------------------------------------------------\u001b[0m",
      "\u001b[1;31mTypeError\u001b[0m                                 Traceback (most recent call last)",
      "Cell \u001b[1;32mIn[44], line 1\u001b[0m\n\u001b[1;32m----> 1\u001b[0m \u001b[38;5;28msum\u001b[39m(\u001b[38;5;241m1\u001b[39m,\u001b[38;5;241m2\u001b[39m)\n",
      "\u001b[1;31mTypeError\u001b[0m: 'int' object is not iterable"
     ]
    }
   ],
   "source": [
    "sum(1,2)"
   ]
  },
  {
   "cell_type": "code",
   "execution_count": 46,
   "id": "34b09954-217a-4a6c-b637-3f4ba2b32502",
   "metadata": {},
   "outputs": [
    {
     "ename": "TypeError",
     "evalue": "'int' object is not iterable",
     "output_type": "error",
     "traceback": [
      "\u001b[1;31m---------------------------------------------------------------------------\u001b[0m",
      "\u001b[1;31mTypeError\u001b[0m                                 Traceback (most recent call last)",
      "Cell \u001b[1;32mIn[46], line 1\u001b[0m\n\u001b[1;32m----> 1\u001b[0m \u001b[38;5;28mprint\u001b[39m(\u001b[38;5;28msum\u001b[39m(\u001b[38;5;241m1\u001b[39m,\u001b[38;5;241m2\u001b[39m))\n",
      "\u001b[1;31mTypeError\u001b[0m: 'int' object is not iterable"
     ]
    }
   ],
   "source": [
    "print(sum(1,2))"
   ]
  },
  {
   "cell_type": "code",
   "execution_count": 45,
   "id": "c3baa91e-4ef8-4eef-8e72-b4324bd8ca25",
   "metadata": {},
   "outputs": [
    {
     "data": {
      "text/plain": [
       "10"
      ]
     },
     "execution_count": 45,
     "metadata": {},
     "output_type": "execute_result"
    }
   ],
   "source": [
    "x = (1,2,3,4)\n",
    "y= 22\n",
    "sum(x)"
   ]
  },
  {
   "cell_type": "code",
   "execution_count": 47,
   "id": "70dbf070-2aa4-4483-a650-8cd743b136a8",
   "metadata": {},
   "outputs": [
    {
     "data": {
      "text/plain": [
       "18"
      ]
     },
     "execution_count": 47,
     "metadata": {},
     "output_type": "execute_result"
    }
   ],
   "source": [
    "sum((1,4,6,7))"
   ]
  },
  {
   "cell_type": "code",
   "execution_count": 48,
   "id": "2711f23c-fdf7-4659-932a-56efdf3ff5fc",
   "metadata": {},
   "outputs": [
    {
     "data": {
      "text/plain": [
       "11"
      ]
     },
     "execution_count": 48,
     "metadata": {},
     "output_type": "execute_result"
    }
   ],
   "source": [
    "sum([1,2,3,5],2)"
   ]
  },
  {
   "cell_type": "code",
   "execution_count": 49,
   "id": "736fce60-1738-446b-a71a-9f4cd75a7586",
   "metadata": {},
   "outputs": [
    {
     "data": {
      "text/plain": [
       "13"
      ]
     },
     "execution_count": 49,
     "metadata": {},
     "output_type": "execute_result"
    }
   ],
   "source": [
    "sum([1,2,3,5],2)"
   ]
  },
  {
   "cell_type": "code",
   "execution_count": 50,
   "id": "c63a0a27-99f3-46bd-b099-ca9446f5380e",
   "metadata": {},
   "outputs": [
    {
     "ename": "TypeError",
     "evalue": "sum() takes at most 2 arguments (3 given)",
     "output_type": "error",
     "traceback": [
      "\u001b[1;31m---------------------------------------------------------------------------\u001b[0m",
      "\u001b[1;31mTypeError\u001b[0m                                 Traceback (most recent call last)",
      "Cell \u001b[1;32mIn[50], line 1\u001b[0m\n\u001b[1;32m----> 1\u001b[0m \u001b[38;5;28msum\u001b[39m([\u001b[38;5;241m1\u001b[39m,\u001b[38;5;241m2\u001b[39m,\u001b[38;5;241m3\u001b[39m,\u001b[38;5;241m5\u001b[39m],\u001b[38;5;241m2\u001b[39m,\u001b[38;5;241m4\u001b[39m)\n",
      "\u001b[1;31mTypeError\u001b[0m: sum() takes at most 2 arguments (3 given)"
     ]
    }
   ],
   "source": [
    "sum([1,2,3,5],2,4)"
   ]
  },
  {
   "cell_type": "code",
   "execution_count": null,
   "id": "68fe7a14-98ac-4d39-9fc3-35eb4486686a",
   "metadata": {},
   "outputs": [],
   "source": [
    "# *args collects extra positional arguments into a tuple.\n",
    "def add(*args):\n",
    "    return sum(args)\n",
    "\n",
    "add(1,2,3,4,56)\n",
    "# print(add(1, 2, 3))\n",
    "# print(add(4, 5, 6, 7))\n"
   ]
  },
  {
   "cell_type": "code",
   "execution_count": null,
   "id": "71f7a83a-32ab-4851-8ef0-a6a2bce63015",
   "metadata": {},
   "outputs": [],
   "source": [
    "def greet(*args):\n",
    "    for name in args:\n",
    "        print(f\"Hello, {name}!\")\n",
    "        \n",
    "greet(\"Alice\", \"Bob\", \"Charlie\")\n"
   ]
  },
  {
   "cell_type": "code",
   "execution_count": 53,
   "id": "16af3bc4-3406-4890-898d-325f8402672f",
   "metadata": {},
   "outputs": [
    {
     "name": "stdout",
     "output_type": "stream",
     "text": [
      "Hello!, basit\n"
     ]
    }
   ],
   "source": [
    "def greet(**xyz):\n",
    "    print(f\"Hello!, {xyz['name']}\")\n",
    "\n",
    "greet(name='basit')"
   ]
  },
  {
   "cell_type": "code",
   "execution_count": 54,
   "id": "9dc79c14-6de9-42f7-8794-36449589e774",
   "metadata": {},
   "outputs": [
    {
     "ename": "NameError",
     "evalue": "name 'xyz' is not defined",
     "output_type": "error",
     "traceback": [
      "\u001b[1;31m---------------------------------------------------------------------------\u001b[0m",
      "\u001b[1;31mNameError\u001b[0m                                 Traceback (most recent call last)",
      "Cell \u001b[1;32mIn[54], line 4\u001b[0m\n\u001b[0;32m      1\u001b[0m \u001b[38;5;28;01mdef\u001b[39;00m \u001b[38;5;21mgreet\u001b[39m(\u001b[38;5;241m*\u001b[39m\u001b[38;5;241m*\u001b[39mxyz):\n\u001b[0;32m      2\u001b[0m     \u001b[38;5;28mprint\u001b[39m(\u001b[38;5;124mf\u001b[39m\u001b[38;5;124m\"\u001b[39m\u001b[38;5;124mHello!, \u001b[39m\u001b[38;5;132;01m{\u001b[39;00mxyz[\u001b[38;5;124m'\u001b[39m\u001b[38;5;124mname\u001b[39m\u001b[38;5;124m'\u001b[39m]\u001b[38;5;132;01m}\u001b[39;00m\u001b[38;5;124m\"\u001b[39m)\n\u001b[1;32m----> 4\u001b[0m greet(xyz)\n",
      "\u001b[1;31mNameError\u001b[0m: name 'xyz' is not defined"
     ]
    }
   ],
   "source": [
    "def greet(**xyz):\n",
    "    print(f\"Hello!, {xyz['name']}\")\n",
    "\n",
    "greet(xyz)"
   ]
  },
  {
   "cell_type": "code",
   "execution_count": 55,
   "id": "05fa7cc5-44a2-4d8d-a50f-d9cc10c142ce",
   "metadata": {},
   "outputs": [
    {
     "ename": "SyntaxError",
     "evalue": "positional argument follows keyword argument (3972851776.py, line 4)",
     "output_type": "error",
     "traceback": [
      "\u001b[1;36m  Cell \u001b[1;32mIn[55], line 4\u001b[1;36m\u001b[0m\n\u001b[1;33m    greet(name='basit','ali')\u001b[0m\n\u001b[1;37m                            ^\u001b[0m\n\u001b[1;31mSyntaxError\u001b[0m\u001b[1;31m:\u001b[0m positional argument follows keyword argument\n"
     ]
    }
   ],
   "source": [
    "def greet(**xyz):\n",
    "    print(f\"Hello!, {xyz['name']}\")\n",
    "\n",
    "greet(name='basit','ali')"
   ]
  },
  {
   "cell_type": "code",
   "execution_count": 56,
   "id": "9faa96b6-4539-4068-b040-64c51463b27c",
   "metadata": {},
   "outputs": [
    {
     "name": "stdout",
     "output_type": "stream",
     "text": [
      "Hello!, basit\n"
     ]
    }
   ],
   "source": [
    "def greet(**xyz):\n",
    "    print(f\"Hello!, {xyz['name']}\")\n",
    "\n",
    "greet(name='basit',abc='ali')"
   ]
  },
  {
   "cell_type": "code",
   "execution_count": 57,
   "id": "db26961a-d155-4e48-be32-3ca3e0729ee4",
   "metadata": {},
   "outputs": [
    {
     "name": "stdout",
     "output_type": "stream",
     "text": [
      "Hello!, ali\n"
     ]
    }
   ],
   "source": [
    "def greet(**xyz):\n",
    "    print(f\"Hello!, {xyz['abc']}\")\n",
    "\n",
    "greet(name='basit',abc='ali')"
   ]
  },
  {
   "cell_type": "code",
   "execution_count": 58,
   "id": "7ee8fbfe-3c94-4a43-b69c-dc7f8a305750",
   "metadata": {},
   "outputs": [
    {
     "ename": "SyntaxError",
     "evalue": "keyword argument repeated: name (1624490747.py, line 4)",
     "output_type": "error",
     "traceback": [
      "\u001b[1;36m  Cell \u001b[1;32mIn[58], line 4\u001b[1;36m\u001b[0m\n\u001b[1;33m    greet(name='basit',name='ali')\u001b[0m\n\u001b[1;37m                       ^\u001b[0m\n\u001b[1;31mSyntaxError\u001b[0m\u001b[1;31m:\u001b[0m keyword argument repeated: name\n"
     ]
    }
   ],
   "source": [
    "def greet(**xyz):\n",
    "    print(f\"Hello!, {xyz['name']}\")\n",
    "\n",
    "greet(name='basit',name='ali')"
   ]
  },
  {
   "cell_type": "code",
   "execution_count": null,
   "id": "9accdd84-3eff-4a78-9423-bfdcd0c12fb5",
   "metadata": {},
   "outputs": [],
   "source": [
    "def greet(**xyz):\n",
    "    print(f\"Hello!, {xyz['name']}\")\n",
    "\n",
    "greet(name='basit',abc='ali')"
   ]
  },
  {
   "cell_type": "code",
   "execution_count": 60,
   "id": "68cebfed-5597-45af-97cd-d1516f63c601",
   "metadata": {},
   "outputs": [
    {
     "ename": "SyntaxError",
     "evalue": "positional argument follows keyword argument (774707235.py, line 5)",
     "output_type": "error",
     "traceback": [
      "\u001b[1;36m  Cell \u001b[1;32mIn[60], line 5\u001b[1;36m\u001b[0m\n\u001b[1;33m    greet(name=\"Alice\",'ali')\u001b[0m\n\u001b[1;37m                            ^\u001b[0m\n\u001b[1;31mSyntaxError\u001b[0m\u001b[1;31m:\u001b[0m positional argument follows keyword argument\n"
     ]
    }
   ],
   "source": [
    "# **kwargs collects extra keyword arguments into a dictionary.\n",
    "def greet(**kwargs):\n",
    "    print(f\"Hello, {kwargs['name']}!\")\n",
    "\n",
    "greet(name=\"Alice\",'ali')"
   ]
  },
  {
   "cell_type": "code",
   "execution_count": 61,
   "id": "e57733a3-10c0-4726-82a9-569c066fae1d",
   "metadata": {},
   "outputs": [
    {
     "name": "stdout",
     "output_type": "stream",
     "text": [
      "Hello, Alice!\n"
     ]
    }
   ],
   "source": [
    "def greet(**kwargs):\n",
    "    print(f\"Hello, {kwargs['name']}!\")\n",
    "\n",
    "greet(name=\"Alice\")"
   ]
  },
  {
   "cell_type": "code",
   "execution_count": null,
   "id": "a8cecdd1-e0b0-4392-8cfe-930b48a6e8c4",
   "metadata": {},
   "outputs": [],
   "source": []
  },
  {
   "cell_type": "code",
   "execution_count": null,
   "id": "bb3f7e43-5c90-4b66-a241-327a6b0ba61b",
   "metadata": {},
   "outputs": [],
   "source": [
    "def greet(**abc):\n",
    "    print(f\"Hello, {abc['name']}!\")\n",
    "\n",
    "greet(name=\"Alice\")"
   ]
  },
  {
   "cell_type": "code",
   "execution_count": 64,
   "id": "62fbacba-4faf-4b4b-90d8-fff6db0fce6e",
   "metadata": {},
   "outputs": [
    {
     "name": "stdout",
     "output_type": "stream",
     "text": [
      "Job Title: {}\n"
     ]
    }
   ],
   "source": [
    "def job(**kwargs):\n",
    "    print('Job Title:', kwargs)\n",
    "\n",
    "job()"
   ]
  },
  {
   "cell_type": "code",
   "execution_count": null,
   "id": "7e25b041-b51f-42c7-9603-a7757f498317",
   "metadata": {},
   "outputs": [],
   "source": []
  },
  {
   "cell_type": "code",
   "execution_count": 65,
   "id": "567db82c-a00a-44a4-b703-880068b9f946",
   "metadata": {},
   "outputs": [
    {
     "name": "stdout",
     "output_type": "stream",
     "text": [
      "Job Title: Sales\n",
      "Job Title: accountant\n",
      "Job Title: businessman\n"
     ]
    }
   ],
   "source": [
    "def job(**kwargs):\n",
    "    print('Job Title:', kwargs['title'])\n",
    "\n",
    "job(title='Sales')\n",
    "job(title='accountant')\n",
    "job(title='businessman')"
   ]
  },
  {
   "cell_type": "code",
   "execution_count": 66,
   "id": "c81b172c-59e8-492d-a002-db79115925f1",
   "metadata": {},
   "outputs": [
    {
     "name": "stdout",
     "output_type": "stream",
     "text": [
      "Job Title: {'title': 'Sales'}\n",
      "Job Title: {'title': 'accountant'}\n",
      "Job Title: {'title': 'businessman'}\n"
     ]
    }
   ],
   "source": [
    "def job(**kwargs):\n",
    "    print('Job Title:', kwargs)\n",
    "\n",
    "job(title='Sales')\n",
    "job(title='accountant')\n",
    "job(title='businessman')"
   ]
  },
  {
   "cell_type": "code",
   "execution_count": null,
   "id": "e0ae2b5c-49a2-4801-8daf-f05ec75cc7a0",
   "metadata": {},
   "outputs": [],
   "source": [
    "def describe_person(**kwargs):\n",
    "    for key, value in kwargs.items():\n",
    "        print(f\"{key}: {value}\")\n",
    "        \n",
    "describe_person(name=\"Alice\", age=30, job=\"Engineer\")\n"
   ]
  },
  {
   "cell_type": "code",
   "execution_count": 67,
   "id": "6bd369a0-510d-4b07-9dcf-eaf019242c67",
   "metadata": {},
   "outputs": [
    {
     "name": "stdout",
     "output_type": "stream",
     "text": [
      "name:Alice\n",
      "age:30\n",
      "job:Engineer\n"
     ]
    }
   ],
   "source": [
    "def pqr(**kwargs):\n",
    "    for abc, xyz in kwargs.items():\n",
    "        print(f\"{abc}:{xyz}\")\n",
    "\n",
    "pqr(name=\"Alice\", age=30, job=\"Engineer\")"
   ]
  },
  {
   "cell_type": "code",
   "execution_count": 68,
   "id": "0d850cf0-c5f0-49df-a8c1-7f3bd89bc157",
   "metadata": {},
   "outputs": [
    {
     "name": "stdout",
     "output_type": "stream",
     "text": [
      "{'name': 'Alice', 'age': 30, 'job': 'Engineer'}\n"
     ]
    }
   ],
   "source": [
    "def pqr(**kwargs):\n",
    "    print(kwargs)\n",
    "\n",
    "pqr(name=\"Alice\", age=30, job=\"Engineer\")"
   ]
  },
  {
   "cell_type": "code",
   "execution_count": null,
   "id": "bd3d3eb2-d425-46da-bd0e-3eb7d2b99dbb",
   "metadata": {},
   "outputs": [],
   "source": []
  },
  {
   "cell_type": "code",
   "execution_count": null,
   "id": "4fe4a8f0-fc51-4cad-a82d-8b3f680d0302",
   "metadata": {},
   "outputs": [],
   "source": []
  },
  {
   "cell_type": "code",
   "execution_count": null,
   "id": "ab5c521e-49c2-4245-b5c0-ee13750a8b8a",
   "metadata": {},
   "outputs": [],
   "source": []
  },
  {
   "cell_type": "code",
   "execution_count": null,
   "id": "5158b52e-c51f-44f4-8655-af7dd223980b",
   "metadata": {},
   "outputs": [],
   "source": []
  },
  {
   "cell_type": "code",
   "execution_count": null,
   "id": "044ec70a-9d04-4dc9-a2c4-dbe73f5deeae",
   "metadata": {},
   "outputs": [],
   "source": []
  },
  {
   "cell_type": "code",
   "execution_count": null,
   "id": "e23d80af-79f3-4e5b-ba2f-ed111a4e1bb4",
   "metadata": {},
   "outputs": [],
   "source": []
  },
  {
   "cell_type": "code",
   "execution_count": null,
   "id": "efb2b62a-50ee-4dc7-bba7-a30e43e8c8fb",
   "metadata": {},
   "outputs": [],
   "source": []
  },
  {
   "cell_type": "code",
   "execution_count": null,
   "id": "6b9212f7-e742-4d00-8057-210deee304c8",
   "metadata": {},
   "outputs": [],
   "source": []
  },
  {
   "cell_type": "code",
   "execution_count": null,
   "id": "6b732cba-235a-4494-ab61-dd408bd1ab82",
   "metadata": {},
   "outputs": [],
   "source": []
  },
  {
   "cell_type": "code",
   "execution_count": null,
   "id": "94d5169f-4d3c-4c64-b6f6-377d05e1a12e",
   "metadata": {},
   "outputs": [],
   "source": []
  }
 ],
 "metadata": {
  "kernelspec": {
   "display_name": "Python 3 (ipykernel)",
   "language": "python",
   "name": "python3"
  },
  "language_info": {
   "codemirror_mode": {
    "name": "ipython",
    "version": 3
   },
   "file_extension": ".py",
   "mimetype": "text/x-python",
   "name": "python",
   "nbconvert_exporter": "python",
   "pygments_lexer": "ipython3",
   "version": "3.12.7"
  }
 },
 "nbformat": 4,
 "nbformat_minor": 5
}
