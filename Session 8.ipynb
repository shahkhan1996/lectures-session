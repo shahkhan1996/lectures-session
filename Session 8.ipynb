{
 "cells": [
  {
   "cell_type": "markdown",
   "id": "38decbd2-188b-49ed-bab7-5b44ca2bb9f6",
   "metadata": {},
   "source": [
    "## Identity Operators (IS - IS NOT)\n",
    "#### Identity operators are used to compare the memory location of two objects. These are different from the relational operators because they check if two variables refer to the same object, not if their values are equal. (returns True or False) (optimization, performance enhancement)"
   ]
  },
  {
   "cell_type": "code",
   "execution_count": 22,
   "id": "73dce654-229e-43b0-8de9-1490ff6d8456",
   "metadata": {},
   "outputs": [
    {
     "name": "stdout",
     "output_type": "stream",
     "text": [
      "True\n",
      "140705466689976\n",
      "140705466689976\n"
     ]
    }
   ],
   "source": [
    "#basic example (immutable)\n",
    "#is\n",
    "a = 1 \n",
    "b = 1\n",
    "#save one copy\n",
    "\n",
    "print(a is b)\n",
    "\n",
    "#function id\n",
    "print(id(a))\n",
    "print(id(b))"
   ]
  },
  {
   "cell_type": "code",
   "execution_count": 25,
   "id": "24f2337b-9973-4fad-aa7a-ebc98759cd01",
   "metadata": {},
   "outputs": [
    {
     "data": {
      "text/plain": [
       "2223238970608"
      ]
     },
     "execution_count": 25,
     "metadata": {},
     "output_type": "execute_result"
    }
   ],
   "source": [
    "a = \"python\"\n",
    "b = \"python\"\n",
    "\n",
    "# print(a is b)\n",
    "id(a)\n",
    "id(b)"
   ]
  },
  {
   "cell_type": "code",
   "execution_count": null,
   "id": "64221611-0eb1-494a-872b-af4a6147820a",
   "metadata": {},
   "outputs": [],
   "source": [
    "a = \"python\"\n",
    "b = \"python\"\n",
    "\n",
    "# print(a is b)\n",
    "id(a)\n",
    "id(b)"
   ]
  },
  {
   "cell_type": "code",
   "execution_count": 27,
   "id": "5d583132-36b4-440e-8024-63898bbc7bc5",
   "metadata": {},
   "outputs": [
    {
     "name": "stdout",
     "output_type": "stream",
     "text": [
      "True\n",
      "2223238970608\n",
      "2223238970608\n"
     ]
    }
   ],
   "source": [
    "a = \"python\"\n",
    "b = \"python\"\n",
    "\n",
    "print(a is b)\n",
    "print(id(a))\n",
    "print(id(b))"
   ]
  },
  {
   "cell_type": "code",
   "execution_count": 29,
   "id": "8dbc3438-dd40-4c3e-b967-92e6143ba77f",
   "metadata": {},
   "outputs": [
    {
     "name": "stdin",
     "output_type": "stream",
     "text": [
      "enter python\n",
      "enter python\n"
     ]
    },
    {
     "name": "stdout",
     "output_type": "stream",
     "text": [
      "False\n",
      "2223338804720\n",
      "2223338802224\n"
     ]
    }
   ],
   "source": [
    "#input\n",
    "x = input(\"enter\")\n",
    "y = input(\"enter\")\n",
    "\n",
    "print(x is y)\n",
    "print(id(x))\n",
    "print(id(y))"
   ]
  },
  {
   "cell_type": "code",
   "execution_count": 30,
   "id": "d839f6af-d506-4db3-a5c5-c37a96029ae5",
   "metadata": {},
   "outputs": [
    {
     "name": "stdin",
     "output_type": "stream",
     "text": [
      "enter 1\n",
      "enter 1\n"
     ]
    },
    {
     "name": "stdout",
     "output_type": "stream",
     "text": [
      "True\n",
      "140705466689976\n",
      "140705466689976\n"
     ]
    }
   ],
   "source": [
    "x = int(input(\"enter\"))\n",
    "y = int(input(\"enter\"))\n",
    "\n",
    "print(x is y)\n",
    "print(id(x))\n",
    "print(id(y))"
   ]
  },
  {
   "cell_type": "code",
   "execution_count": null,
   "id": "63f2460c-08df-436a-a05a-048c7593603c",
   "metadata": {},
   "outputs": [],
   "source": [
    "x = int(input(\"enter\"))\n",
    "y = int(input(\"enter\"))\n",
    "\n",
    "print(x is y)"
   ]
  },
  {
   "cell_type": "code",
   "execution_count": 32,
   "id": "8a7709ec-4da4-4cb6-a428-a94398cdb515",
   "metadata": {},
   "outputs": [
    {
     "name": "stdout",
     "output_type": "stream",
     "text": [
      "True\n",
      "False\n"
     ]
    }
   ],
   "source": [
    "# Identity with mutable objects\n",
    "a = [1,2,3]\n",
    "b = [1,2,3]\n",
    "c = [1,2,3]\n",
    "print(a == b) \n",
    "print(a is b)"
   ]
  },
  {
   "cell_type": "code",
   "execution_count": 33,
   "id": "d87bfc2a-0eaf-4218-865f-616a4fedc227",
   "metadata": {},
   "outputs": [
    {
     "name": "stdout",
     "output_type": "stream",
     "text": [
      "False\n",
      "2223350943424\n",
      "2223350972288\n"
     ]
    }
   ],
   "source": [
    "# Identity with mutable objects\n",
    "a = [1,2,3]\n",
    "b = [1,2,3]\n",
    "c = [1,2,3]\n",
    "\n",
    "print(a is b)\n",
    "print(id(a)) #location\n",
    "print(id(b)) #location"
   ]
  },
  {
   "cell_type": "code",
   "execution_count": 35,
   "id": "c1c702ec-f255-4162-84c0-45ae51553005",
   "metadata": {},
   "outputs": [
    {
     "name": "stdout",
     "output_type": "stream",
     "text": [
      "True\n",
      "2223350550528\n",
      "2223350550528\n"
     ]
    }
   ],
   "source": [
    "# Identity with mutable objects\n",
    "a = [1,2,3]\n",
    "b = a #python assigned same location\n",
    "c = [1,2,3]\n",
    "\n",
    "print(a is b)\n",
    "print(id(a))\n",
    "print(id(b))"
   ]
  },
  {
   "cell_type": "code",
   "execution_count": 41,
   "id": "f1ff6b6e-b89c-46a2-a555-6a6c4947c804",
   "metadata": {},
   "outputs": [
    {
     "name": "stdout",
     "output_type": "stream",
     "text": [
      "True\n",
      "True\n",
      "140705466698136\n",
      "140705466698136\n"
     ]
    }
   ],
   "source": [
    "# Integer Memory Range (Caching Behavior) -5 to 256 faster results\n",
    "\n",
    "a = 256\n",
    "b = 256\n",
    "print(a == b)\n",
    "print(a is b)\n",
    "print(id(a))\n",
    "print(id(b))"
   ]
  },
  {
   "cell_type": "code",
   "execution_count": 42,
   "id": "f1cd4d62-8fde-44cc-becd-fde8e0d22193",
   "metadata": {},
   "outputs": [
    {
     "name": "stdout",
     "output_type": "stream",
     "text": [
      "True\n",
      "False\n",
      "2223349575536\n",
      "2223349571728\n"
     ]
    }
   ],
   "source": [
    "x = 257\n",
    "y = 257\n",
    "\n",
    "print(x == y)\n",
    "print(x is y)\n",
    "print(id(x))\n",
    "print(id(y))"
   ]
  },
  {
   "cell_type": "code",
   "execution_count": null,
   "id": "ce571779-1412-4ed7-a9ce-72b894099f77",
   "metadata": {},
   "outputs": [],
   "source": []
  },
  {
   "cell_type": "code",
   "execution_count": 43,
   "id": "b288d474-03c7-4730-a227-f2abb18dfc42",
   "metadata": {},
   "outputs": [
    {
     "name": "stdout",
     "output_type": "stream",
     "text": [
      "False\n"
     ]
    }
   ],
   "source": [
    "#is not\n",
    "a = 256\n",
    "b = 256\n",
    "\n",
    "print(a is not b)"
   ]
  },
  {
   "cell_type": "code",
   "execution_count": 44,
   "id": "d17567eb-9cf5-4677-830c-e1f1685ee891",
   "metadata": {},
   "outputs": [
    {
     "name": "stdout",
     "output_type": "stream",
     "text": [
      "True\n"
     ]
    }
   ],
   "source": [
    "#is not\n",
    "a = 257\n",
    "b = 257\n",
    "\n",
    "print(a is not b)"
   ]
  },
  {
   "cell_type": "code",
   "execution_count": 45,
   "id": "2df1c237-5c8d-4a70-abeb-c3dd96461535",
   "metadata": {},
   "outputs": [
    {
     "name": "stdout",
     "output_type": "stream",
     "text": [
      "False\n",
      "2223350990832\n",
      "2223350992432\n"
     ]
    }
   ],
   "source": [
    "# short string / long string\n",
    "a = \"python is beautiful\"\n",
    "b = \"python is beautiful\"\n",
    "print(a is b)\n",
    "\n",
    "print(id(a))\n",
    "print(id(b))\n"
   ]
  },
  {
   "cell_type": "code",
   "execution_count": 46,
   "id": "8d9c877a-18ca-4e74-8981-e4c8aa2f9e9d",
   "metadata": {},
   "outputs": [
    {
     "name": "stdout",
     "output_type": "stream",
     "text": [
      "True\n",
      "2223350990704\n",
      "2223350990704\n"
     ]
    }
   ],
   "source": [
    "a = \"pythonisbeautiful\"\n",
    "b = \"pythonisbeautiful\"\n",
    "print(a is b)\n",
    "\n",
    "print(id(a))\n",
    "print(id(b))\n"
   ]
  },
  {
   "cell_type": "code",
   "execution_count": 47,
   "id": "32440f56-abed-4102-8613-6bd82e5e5b95",
   "metadata": {},
   "outputs": [
    {
     "name": "stdout",
     "output_type": "stream",
     "text": [
      "True\n",
      "2223350994160\n",
      "2223350994160\n"
     ]
    }
   ],
   "source": [
    "x='python_world'\n",
    "y='python_world'\n",
    "\n",
    "print(x is y)\n",
    "\n",
    "print(id(x))\n",
    "print(id(y))"
   ]
  },
  {
   "cell_type": "code",
   "execution_count": null,
   "id": "06a4f928-cca1-4cd6-adf8-dcf28e61e9dc",
   "metadata": {},
   "outputs": [],
   "source": []
  },
  {
   "cell_type": "code",
   "execution_count": 49,
   "id": "f4ad71a5-7619-4991-b912-aed24d23e255",
   "metadata": {},
   "outputs": [
    {
     "name": "stdout",
     "output_type": "stream",
     "text": [
      "True\n",
      "False\n"
     ]
    }
   ],
   "source": [
    "# Difference between == and is:\n",
    "# a == b\n",
    "# a is b\n",
    "\n",
    "a = 555\n",
    "b = 555\n",
    "\n",
    "print(a == b)\n",
    "print(a is b)"
   ]
  },
  {
   "cell_type": "code",
   "execution_count": 57,
   "id": "74773a4e-6359-4d3a-a550-0bd4084a2e8f",
   "metadata": {},
   "outputs": [
    {
     "name": "stdout",
     "output_type": "stream",
     "text": [
      "88 bytes\n",
      "28 bytes\n",
      "67 bytes\n"
     ]
    }
   ],
   "source": [
    "import sys\n",
    "# sys.getsizeof()\n",
    "\n",
    "a = \"bytes\"\n",
    "\n",
    "x = [1, 2, 3]\n",
    "print(sys.getsizeof(x),a)\n",
    "\n",
    "y = 100\n",
    "print(sys.getsizeof(y),a)\n",
    "\n",
    "z = \"Hi, We are learning python\"\n",
    "print(sys.getsizeof(z),a)\n",
    "\n",
    "\n"
   ]
  },
  {
   "cell_type": "code",
   "execution_count": null,
   "id": "7ec7906e-6348-4e9b-b294-65a5e107c2ee",
   "metadata": {},
   "outputs": [],
   "source": [
    "!pip install sys"
   ]
  },
  {
   "cell_type": "code",
   "execution_count": 41,
   "id": "9885729f-b505-4d79-bd85-58f32663d294",
   "metadata": {},
   "outputs": [],
   "source": []
  },
  {
   "cell_type": "code",
   "execution_count": null,
   "id": "fff1ee4a-8c3f-4c46-9a2b-e07b70e248b9",
   "metadata": {},
   "outputs": [],
   "source": []
  },
  {
   "cell_type": "code",
   "execution_count": 29,
   "id": "aaab5a99-3a48-4082-8edd-97fc03a261c9",
   "metadata": {},
   "outputs": [],
   "source": [
    "#office example (practice)\n",
    "ali = ['manager','office location','salary']\n",
    "ahmed = ali\n",
    "khan = ['manager','office location','salary']\n"
   ]
  },
  {
   "cell_type": "code",
   "execution_count": null,
   "id": "3e3b492a-2716-48f8-97a8-96afe6895036",
   "metadata": {},
   "outputs": [],
   "source": []
  },
  {
   "cell_type": "code",
   "execution_count": null,
   "id": "e811fb5a-c246-41d7-a174-c7a8b8ef87dd",
   "metadata": {},
   "outputs": [],
   "source": []
  },
  {
   "cell_type": "code",
   "execution_count": null,
   "id": "c4b63f70-9f60-4ded-8699-751bc08f45c4",
   "metadata": {},
   "outputs": [],
   "source": []
  },
  {
   "cell_type": "code",
   "execution_count": null,
   "id": "8a3b726e-ac37-42b2-86a4-7eaab649e1c1",
   "metadata": {},
   "outputs": [],
   "source": []
  },
  {
   "cell_type": "markdown",
   "id": "9cbfe029-cf68-4fb5-a2aa-e89d9eb97708",
   "metadata": {},
   "source": [
    "## Membership Operators (IN - NOT IN)\n",
    "#### Membership operators are used to test whether a value is present in a sequence (such as a list, tuple, or string). These operators are often used in loops or conditions to check membership. (returns Ture or False)"
   ]
  },
  {
   "cell_type": "code",
   "execution_count": 58,
   "id": "f3e8dc8c-ed84-4fb0-a2e3-d3c6373a44c9",
   "metadata": {},
   "outputs": [
    {
     "ename": "TypeError",
     "evalue": "'in <string>' requires string as left operand, not int",
     "output_type": "error",
     "traceback": [
      "\u001b[1;31m---------------------------------------------------------------------------\u001b[0m",
      "\u001b[1;31mTypeError\u001b[0m                                 Traceback (most recent call last)",
      "Cell \u001b[1;32mIn[58], line 5\u001b[0m\n\u001b[0;32m      2\u001b[0m a \u001b[38;5;241m=\u001b[39m \u001b[38;5;124m\"\u001b[39m\u001b[38;5;124mpython\u001b[39m\u001b[38;5;124m\"\u001b[39m\n\u001b[0;32m      3\u001b[0m b \u001b[38;5;241m=\u001b[39m \u001b[38;5;124m\"\u001b[39m\u001b[38;5;124mpython\u001b[39m\u001b[38;5;124m\"\u001b[39m\n\u001b[1;32m----> 5\u001b[0m \u001b[38;5;28mprint\u001b[39m(y \u001b[38;5;129;01min\u001b[39;00m a)\n",
      "\u001b[1;31mTypeError\u001b[0m: 'in <string>' requires string as left operand, not int"
     ]
    }
   ],
   "source": [
    "#basic example\n",
    "a = \"python\"\n",
    "b = \"python\"\n",
    "\n",
    "print(y in a)\n"
   ]
  },
  {
   "cell_type": "code",
   "execution_count": 59,
   "id": "6018fb2c-35bf-4d89-badd-b750d0331d5e",
   "metadata": {},
   "outputs": [
    {
     "name": "stdout",
     "output_type": "stream",
     "text": [
      "True\n"
     ]
    }
   ],
   "source": [
    "#basic example\n",
    "a = \"python\"\n",
    "b = \"python\"\n",
    "\n",
    "print('y' in a)\n"
   ]
  },
  {
   "cell_type": "code",
   "execution_count": 60,
   "id": "a9ead230-3f3e-4c11-b6b7-fbfac669bc97",
   "metadata": {},
   "outputs": [
    {
     "name": "stdout",
     "output_type": "stream",
     "text": [
      "True\n"
     ]
    }
   ],
   "source": [
    "#returns true/false or customize action (if/loop/function etc) if value exists in sequence\n",
    "#cars list\n",
    "\n",
    "cars = ['mehran','ferrari','sportage']\n",
    "car\n",
    "print('ferrari' in cars)\n"
   ]
  },
  {
   "cell_type": "code",
   "execution_count": 62,
   "id": "6d34b87e-1e0c-4db4-92e4-009290a4e9be",
   "metadata": {},
   "outputs": [
    {
     "data": {
      "text/plain": [
       "'mehran'"
      ]
     },
     "execution_count": 62,
     "metadata": {},
     "output_type": "execute_result"
    }
   ],
   "source": [
    "cars = ['mehran','ferrari','sportage']\n",
    "cars[0]\n",
    "# print('ferrari' in cars)"
   ]
  },
  {
   "cell_type": "code",
   "execution_count": 63,
   "id": "5fdf501f-b411-4e90-bd50-b361ad934cfc",
   "metadata": {},
   "outputs": [
    {
     "data": {
      "text/plain": [
       "3"
      ]
     },
     "execution_count": 63,
     "metadata": {},
     "output_type": "execute_result"
    }
   ],
   "source": [
    "len(cars)"
   ]
  },
  {
   "cell_type": "code",
   "execution_count": null,
   "id": "b861d275-536c-43f9-ab36-18d4c6abcd5f",
   "metadata": {},
   "outputs": [],
   "source": [
    "a = ['mehran','ferrari','sportage']\n",
    "\n",
    "print('ferrari' in cars)"
   ]
  },
  {
   "cell_type": "code",
   "execution_count": null,
   "id": "594d0230-9ad3-418a-aa93-0116dee41767",
   "metadata": {},
   "outputs": [],
   "source": [
    "\n"
   ]
  },
  {
   "cell_type": "code",
   "execution_count": 64,
   "id": "61058247-63f0-4459-bc34-da7aff5b983b",
   "metadata": {},
   "outputs": [
    {
     "name": "stdout",
     "output_type": "stream",
     "text": [
      "True\n"
     ]
    }
   ],
   "source": [
    "#not in\n",
    "\n",
    "cars = ['mehran','ferrari','sportage']\n",
    "print('laptop' not in cars)"
   ]
  },
  {
   "cell_type": "code",
   "execution_count": 65,
   "id": "c1b78b82-6f7d-4b02-9884-44ebba7e242f",
   "metadata": {},
   "outputs": [
    {
     "name": "stdout",
     "output_type": "stream",
     "text": [
      "True\n",
      "False\n"
     ]
    }
   ],
   "source": [
    "# Difference between == and in:\n",
    "#a == b\n",
    "#1 in a/b\n",
    "\n",
    "a=['apple','mango','orange']\n",
    "b=['apple','mango','orange']\n",
    "\n",
    "print(a == b)\n",
    "print('mangoooooo' in a)"
   ]
  },
  {
   "cell_type": "code",
   "execution_count": 66,
   "id": "a6273c61-7878-4915-9adc-5436a42d8d33",
   "metadata": {},
   "outputs": [
    {
     "name": "stdout",
     "output_type": "stream",
     "text": [
      "True\n"
     ]
    }
   ],
   "source": [
    "# Edge Cases \"\"\n",
    "# Empty sequences []\n",
    "# Case-sensitivity apple Apple\n",
    "\n",
    "a = \"\"\n",
    "print(\"\" in a)\n"
   ]
  },
  {
   "cell_type": "code",
   "execution_count": 67,
   "id": "c3ba5571-5d35-48fd-8406-ff5531753e96",
   "metadata": {},
   "outputs": [
    {
     "name": "stdout",
     "output_type": "stream",
     "text": [
      "False\n"
     ]
    }
   ],
   "source": [
    "a = \"\"\n",
    "print(\"a\" in a)"
   ]
  },
  {
   "cell_type": "code",
   "execution_count": 68,
   "id": "67b69a2d-cfb8-45aa-8d97-c51b62384667",
   "metadata": {},
   "outputs": [
    {
     "name": "stdout",
     "output_type": "stream",
     "text": [
      "False\n"
     ]
    }
   ],
   "source": [
    "# Empty sequences []\n",
    "\n",
    "a = []\n",
    "print(1 in a)"
   ]
  },
  {
   "cell_type": "code",
   "execution_count": 70,
   "id": "784aedf0-4e32-4e7d-9d4e-3f3f55b421e9",
   "metadata": {},
   "outputs": [
    {
     "name": "stdout",
     "output_type": "stream",
     "text": [
      "False\n"
     ]
    }
   ],
   "source": [
    "a = []\n",
    "print([] in a) #important to note"
   ]
  },
  {
   "cell_type": "code",
   "execution_count": 72,
   "id": "e690e45b-aa99-47f5-a863-4b97df3dc1c4",
   "metadata": {},
   "outputs": [
    {
     "name": "stdout",
     "output_type": "stream",
     "text": [
      "False\n"
     ]
    }
   ],
   "source": [
    "a = []\n",
    "print([0] in a) #important to note"
   ]
  },
  {
   "cell_type": "code",
   "execution_count": 73,
   "id": "8c79e2b1-1b3d-4db0-8729-47903595acc7",
   "metadata": {},
   "outputs": [
    {
     "name": "stdout",
     "output_type": "stream",
     "text": [
      "False\n"
     ]
    }
   ],
   "source": [
    "a = [0]\n",
    "print([0] in a) #important to note"
   ]
  },
  {
   "cell_type": "code",
   "execution_count": 71,
   "id": "db7b11bc-0388-4733-92c8-f449489c1b3c",
   "metadata": {},
   "outputs": [
    {
     "ename": "SyntaxError",
     "evalue": "invalid syntax (4185853102.py, line 2)",
     "output_type": "error",
     "traceback": [
      "\u001b[1;36m  Cell \u001b[1;32mIn[71], line 2\u001b[1;36m\u001b[0m\n\u001b[1;33m    print([0:] in a) #important to note\u001b[0m\n\u001b[1;37m            ^\u001b[0m\n\u001b[1;31mSyntaxError\u001b[0m\u001b[1;31m:\u001b[0m invalid syntax\n"
     ]
    }
   ],
   "source": [
    "a = []\n",
    "print([0:] in a) #important to note"
   ]
  },
  {
   "cell_type": "code",
   "execution_count": 69,
   "id": "a530e428-7b20-41ac-abb4-b97884d2c77d",
   "metadata": {},
   "outputs": [
    {
     "name": "stdout",
     "output_type": "stream",
     "text": [
      "False\n"
     ]
    }
   ],
   "source": [
    "# Case-sensitivity apple Apple\n",
    "\n",
    "a = \"python\"\n",
    "print('Python' in a)"
   ]
  },
  {
   "cell_type": "code",
   "execution_count": 63,
   "id": "4929f3a1-6047-43e7-a600-506a3f75c44e",
   "metadata": {},
   "outputs": [],
   "source": [
    "#practice\n",
    "#find out students class\n",
    "name = ['ali','ahmed','shah']\n",
    "campus = ['A','B','C']\n"
   ]
  },
  {
   "cell_type": "markdown",
   "id": "ef1f7863-d7d4-4506-bf9a-5959fc0453bf",
   "metadata": {},
   "source": [
    "## Tuple () (Data Structure)"
   ]
  },
  {
   "cell_type": "code",
   "execution_count": null,
   "id": "76d06604-db8b-46d3-8308-32c9533a2e7a",
   "metadata": {},
   "outputs": [],
   "source": [
    "()\n",
    "\n",
    "#Ordered\n",
    "a = ('ali', 14, 'student')\n",
    "\n",
    "#Allow duplicates:\n",
    "#Can store mixed data types:\n",
    "#Indexing and Slicing:\n",
    "#empty_tuple\n",
    "# single_element_tuple = (5,)\n",
    "#nested tuple\n",
    "#Immutable\n"
   ]
  },
  {
   "cell_type": "code",
   "execution_count": 74,
   "id": "636f1952-4537-44c7-a96c-815f21ffa74b",
   "metadata": {},
   "outputs": [
    {
     "data": {
      "text/plain": [
       "('ali', 14, 'student')"
      ]
     },
     "execution_count": 74,
     "metadata": {},
     "output_type": "execute_result"
    }
   ],
   "source": [
    "#Ordered\n",
    "a = ('ali', 14, 'student')\n",
    "a"
   ]
  },
  {
   "cell_type": "code",
   "execution_count": 75,
   "id": "d25bb49a-34d5-4e87-936d-c5df36dc0967",
   "metadata": {},
   "outputs": [
    {
     "data": {
      "text/plain": [
       "tuple"
      ]
     },
     "execution_count": 75,
     "metadata": {},
     "output_type": "execute_result"
    }
   ],
   "source": [
    "type(a)"
   ]
  },
  {
   "cell_type": "code",
   "execution_count": 76,
   "id": "8377e4e8-d131-4426-ba78-0c2801ef4a42",
   "metadata": {},
   "outputs": [
    {
     "data": {
      "text/plain": [
       "list"
      ]
     },
     "execution_count": 76,
     "metadata": {},
     "output_type": "execute_result"
    }
   ],
   "source": [
    "type([])"
   ]
  },
  {
   "cell_type": "code",
   "execution_count": 77,
   "id": "eaa85807-b96b-4197-a30c-7fffb73a71bb",
   "metadata": {},
   "outputs": [
    {
     "data": {
      "text/plain": [
       "tuple"
      ]
     },
     "execution_count": 77,
     "metadata": {},
     "output_type": "execute_result"
    }
   ],
   "source": [
    "type(())"
   ]
  },
  {
   "cell_type": "code",
   "execution_count": 78,
   "id": "814df068-3ca0-44d8-b51b-ccca07981239",
   "metadata": {},
   "outputs": [
    {
     "data": {
      "text/plain": [
       "str"
      ]
     },
     "execution_count": 78,
     "metadata": {},
     "output_type": "execute_result"
    }
   ],
   "source": [
    "type(\"\")"
   ]
  },
  {
   "cell_type": "code",
   "execution_count": 80,
   "id": "0f4532b4-d100-40b6-8ce3-4be314ae57e4",
   "metadata": {},
   "outputs": [
    {
     "data": {
      "text/plain": [
       "('ali', 14, 141.2, 'father name')"
      ]
     },
     "execution_count": 80,
     "metadata": {},
     "output_type": "execute_result"
    }
   ],
   "source": [
    "#Can store mixed data types:\n",
    "a = ('ali', 14, 141.2,'father name')\n",
    "a"
   ]
  },
  {
   "cell_type": "code",
   "execution_count": 81,
   "id": "26114ec7-dbad-43a6-8efd-230073c86673",
   "metadata": {},
   "outputs": [
    {
     "ename": "TypeError",
     "evalue": "'tuple' object is not callable",
     "output_type": "error",
     "traceback": [
      "\u001b[1;31m---------------------------------------------------------------------------\u001b[0m",
      "\u001b[1;31mTypeError\u001b[0m                                 Traceback (most recent call last)",
      "Cell \u001b[1;32mIn[81], line 2\u001b[0m\n\u001b[0;32m      1\u001b[0m a \u001b[38;5;241m=\u001b[39m (\u001b[38;5;124m'\u001b[39m\u001b[38;5;124mali\u001b[39m\u001b[38;5;124m'\u001b[39m, \u001b[38;5;241m14\u001b[39m, \u001b[38;5;241m141.2\u001b[39m,\u001b[38;5;124m'\u001b[39m\u001b[38;5;124mfather name\u001b[39m\u001b[38;5;124m'\u001b[39m)\n\u001b[1;32m----> 2\u001b[0m a(\u001b[38;5;241m2\u001b[39m)\n",
      "\u001b[1;31mTypeError\u001b[0m: 'tuple' object is not callable"
     ]
    }
   ],
   "source": [
    "a = ('ali', 14, 141.2,'father name')\n",
    "a(2)"
   ]
  },
  {
   "cell_type": "code",
   "execution_count": 82,
   "id": "d85f3efb-e099-4baa-adac-caf0caf649cc",
   "metadata": {},
   "outputs": [
    {
     "data": {
      "text/plain": [
       "141.2"
      ]
     },
     "execution_count": 82,
     "metadata": {},
     "output_type": "execute_result"
    }
   ],
   "source": [
    "a = ('ali', 14, 141.2,'father name')\n",
    "a[2]"
   ]
  },
  {
   "cell_type": "code",
   "execution_count": 83,
   "id": "8211046f-25dc-4e1a-aac5-5bcffdcaec7a",
   "metadata": {},
   "outputs": [
    {
     "ename": "TypeError",
     "evalue": "'tuple' object does not support item assignment",
     "output_type": "error",
     "traceback": [
      "\u001b[1;31m---------------------------------------------------------------------------\u001b[0m",
      "\u001b[1;31mTypeError\u001b[0m                                 Traceback (most recent call last)",
      "Cell \u001b[1;32mIn[83], line 2\u001b[0m\n\u001b[0;32m      1\u001b[0m a \u001b[38;5;241m=\u001b[39m (\u001b[38;5;124m'\u001b[39m\u001b[38;5;124mali\u001b[39m\u001b[38;5;124m'\u001b[39m, \u001b[38;5;241m14\u001b[39m, \u001b[38;5;241m141.2\u001b[39m,\u001b[38;5;124m'\u001b[39m\u001b[38;5;124mfather name\u001b[39m\u001b[38;5;124m'\u001b[39m)\n\u001b[1;32m----> 2\u001b[0m a[\u001b[38;5;241m2\u001b[39m]\u001b[38;5;241m=\u001b[39m\u001b[38;5;124m'\u001b[39m\u001b[38;5;124m166.3\u001b[39m\u001b[38;5;124m'\u001b[39m\n",
      "\u001b[1;31mTypeError\u001b[0m: 'tuple' object does not support item assignment"
     ]
    }
   ],
   "source": [
    "a = ('ali', 14, 141.2,'father name')\n",
    "a[2]='166.3'"
   ]
  },
  {
   "cell_type": "code",
   "execution_count": 84,
   "id": "331b817c-b18a-49ea-9e3f-bcce62b817ed",
   "metadata": {},
   "outputs": [
    {
     "data": {
      "text/plain": [
       "['__add__',\n",
       " '__class__',\n",
       " '__class_getitem__',\n",
       " '__contains__',\n",
       " '__delattr__',\n",
       " '__dir__',\n",
       " '__doc__',\n",
       " '__eq__',\n",
       " '__format__',\n",
       " '__ge__',\n",
       " '__getattribute__',\n",
       " '__getitem__',\n",
       " '__getnewargs__',\n",
       " '__getstate__',\n",
       " '__gt__',\n",
       " '__hash__',\n",
       " '__init__',\n",
       " '__init_subclass__',\n",
       " '__iter__',\n",
       " '__le__',\n",
       " '__len__',\n",
       " '__lt__',\n",
       " '__mul__',\n",
       " '__ne__',\n",
       " '__new__',\n",
       " '__reduce__',\n",
       " '__reduce_ex__',\n",
       " '__repr__',\n",
       " '__rmul__',\n",
       " '__setattr__',\n",
       " '__sizeof__',\n",
       " '__str__',\n",
       " '__subclasshook__',\n",
       " 'count',\n",
       " 'index']"
      ]
     },
     "execution_count": 84,
     "metadata": {},
     "output_type": "execute_result"
    }
   ],
   "source": [
    "# dir\n",
    "dir(a)"
   ]
  },
  {
   "cell_type": "code",
   "execution_count": 85,
   "id": "537a62a1-09de-410e-a143-7e526f98884c",
   "metadata": {},
   "outputs": [
    {
     "data": {
      "text/plain": [
       "14"
      ]
     },
     "execution_count": 85,
     "metadata": {},
     "output_type": "execute_result"
    }
   ],
   "source": [
    "#indexing\n",
    "a = ('ali', 14, 141.2,'father name')\n",
    "a[1]"
   ]
  },
  {
   "cell_type": "code",
   "execution_count": 86,
   "id": "873eb8ad-f096-48d9-a62d-ffc2de0a2a11",
   "metadata": {},
   "outputs": [
    {
     "data": {
      "text/plain": [
       "('ali', 14, 141.2)"
      ]
     },
     "execution_count": 86,
     "metadata": {},
     "output_type": "execute_result"
    }
   ],
   "source": [
    "#slicing\n",
    "a = ('ali', 14, 141.2,'father name')\n",
    "a[0:3]"
   ]
  }
 ],
 "metadata": {
  "kernelspec": {
   "display_name": "Python 3 (ipykernel)",
   "language": "python",
   "name": "python3"
  },
  "language_info": {
   "codemirror_mode": {
    "name": "ipython",
    "version": 3
   },
   "file_extension": ".py",
   "mimetype": "text/x-python",
   "name": "python",
   "nbconvert_exporter": "python",
   "pygments_lexer": "ipython3",
   "version": "3.12.7"
  }
 },
 "nbformat": 4,
 "nbformat_minor": 5
}
