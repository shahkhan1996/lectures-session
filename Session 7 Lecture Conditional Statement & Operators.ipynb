{
 "cells": [
  {
   "cell_type": "markdown",
   "id": "49ac7d57-3a51-4435-92e3-0e0c7dd2ce43",
   "metadata": {},
   "source": [
    "#### Logical operator NOT"
   ]
  },
  {
   "cell_type": "code",
   "execution_count": null,
   "id": "ece39fd1-27d2-4b11-9ddd-be8f21c29c47",
   "metadata": {},
   "outputs": [],
   "source": [
    "#example\n"
   ]
  },
  {
   "cell_type": "code",
   "execution_count": 52,
   "id": "78f23370-0b43-4596-9a95-ca66bfeb4a17",
   "metadata": {},
   "outputs": [],
   "source": [
    "#use case of not\n"
   ]
  },
  {
   "cell_type": "markdown",
   "id": "b81b7815-d39e-461c-b1e7-687b3ae35289",
   "metadata": {},
   "source": [
    "## NESTED IF"
   ]
  },
  {
   "cell_type": "markdown",
   "id": "fdf629dc-5d62-4d8a-9449-34f8409fe5d3",
   "metadata": {},
   "source": [
    "### IF-IF"
   ]
  },
  {
   "cell_type": "code",
   "execution_count": null,
   "id": "f02f18ef-3d74-405e-91d1-573b2eed1db1",
   "metadata": {},
   "outputs": [],
   "source": []
  },
  {
   "cell_type": "markdown",
   "id": "208f5650-4d39-4708-82bb-3168f8e99bdc",
   "metadata": {},
   "source": [
    "### IF-IF-ELIF"
   ]
  },
  {
   "cell_type": "code",
   "execution_count": null,
   "id": "e96a915e-51ad-4904-9897-2435185aa1a1",
   "metadata": {},
   "outputs": [],
   "source": []
  },
  {
   "cell_type": "markdown",
   "id": "6ad60706-8ecb-424c-847e-b8832dc0fe98",
   "metadata": {},
   "source": [
    "### IF-IF-ELSE"
   ]
  },
  {
   "cell_type": "code",
   "execution_count": null,
   "id": "352f2e4e-9ac3-4569-8445-a32ea3963e2c",
   "metadata": {},
   "outputs": [],
   "source": []
  },
  {
   "cell_type": "markdown",
   "id": "20ea0dda-9d82-4558-864d-2abde1897324",
   "metadata": {},
   "source": [
    "### IF-IF-IF-ELSE"
   ]
  },
  {
   "cell_type": "code",
   "execution_count": null,
   "id": "a149b18d-10bb-4f17-b845-51f36a4aa06d",
   "metadata": {},
   "outputs": [],
   "source": []
  },
  {
   "cell_type": "markdown",
   "id": "1e17c6bb-c5fa-4e4b-9978-e27f8f574536",
   "metadata": {},
   "source": [
    "### IF-IF-IF-ELSE-ELSE-IF"
   ]
  },
  {
   "cell_type": "code",
   "execution_count": null,
   "id": "f7a80bd8-bfd0-4b45-af7b-c132c55fffbd",
   "metadata": {},
   "outputs": [],
   "source": []
  },
  {
   "cell_type": "markdown",
   "id": "60f66cf4-1bb7-43c9-82c6-92f8d10486eb",
   "metadata": {},
   "source": [
    "### IF-IF-IF-ELSE-ELIF"
   ]
  },
  {
   "cell_type": "code",
   "execution_count": null,
   "id": "3fa30b6f-c10d-4fa7-a24e-79076bb0b7c5",
   "metadata": {},
   "outputs": [],
   "source": []
  },
  {
   "cell_type": "markdown",
   "id": "34c6a5c9-27c7-4499-bb61-f41d257c3558",
   "metadata": {},
   "source": [
    "### IF-IF-IF-ELIF-IF"
   ]
  },
  {
   "cell_type": "code",
   "execution_count": null,
   "id": "637d7fb1-1df8-439e-b1f8-4ef2c6fa997e",
   "metadata": {},
   "outputs": [],
   "source": []
  },
  {
   "cell_type": "markdown",
   "id": "38decbd2-188b-49ed-bab7-5b44ca2bb9f6",
   "metadata": {},
   "source": [
    "## Identity Operators\n",
    "#### Identity operators are used to compare the memory location of two objects. These are different from the relational operators because they check if two variables refer to the same object, not if their values are equal."
   ]
  },
  {
   "cell_type": "code",
   "execution_count": 33,
   "id": "aaab5a99-3a48-4082-8edd-97fc03a261c9",
   "metadata": {},
   "outputs": [],
   "source": [
    "#family example\n",
    "\n"
   ]
  },
  {
   "cell_type": "code",
   "execution_count": null,
   "id": "3e3b492a-2716-48f8-97a8-96afe6895036",
   "metadata": {},
   "outputs": [],
   "source": []
  },
  {
   "cell_type": "code",
   "execution_count": 32,
   "id": "1dc21a4f-9c8c-4a7c-8425-20a21e90748a",
   "metadata": {},
   "outputs": [],
   "source": [
    "# Integer Memory Range (Caching Behavior) -5 to 256 faster results\n"
   ]
  },
  {
   "cell_type": "code",
   "execution_count": 31,
   "id": "c0705187-4444-4481-ac58-222b17878ba3",
   "metadata": {},
   "outputs": [],
   "source": [
    "# short string / long string\n"
   ]
  },
  {
   "cell_type": "code",
   "execution_count": null,
   "id": "07411461-4106-403c-ac82-4b69fb8385bd",
   "metadata": {},
   "outputs": [],
   "source": [
    "# Difference between == and in:\n"
   ]
  },
  {
   "cell_type": "code",
   "execution_count": 43,
   "id": "9c1a5b46-580f-4f9e-80a2-e73b6fa78339",
   "metadata": {},
   "outputs": [],
   "source": [
    "#combination of identity operators and logical operators, find out family\n"
   ]
  },
  {
   "cell_type": "markdown",
   "id": "9cbfe029-cf68-4fb5-a2aa-e89d9eb97708",
   "metadata": {},
   "source": [
    "## Membership Operators\n",
    "#### Membership operators are used to test whether a value is present in a sequence (such as a list, tuple, or string). These operators are often used in loops or conditions to check membership."
   ]
  },
  {
   "cell_type": "code",
   "execution_count": null,
   "id": "a9ead230-3f3e-4c11-b6b7-fbfac669bc97",
   "metadata": {},
   "outputs": [],
   "source": [
    "#returns true/false or customize action (if/loop/function etc) if value exists in sequence\n",
    "#cars list\n"
   ]
  },
  {
   "cell_type": "code",
   "execution_count": null,
   "id": "594d0230-9ad3-418a-aa93-0116dee41767",
   "metadata": {},
   "outputs": [],
   "source": [
    "#fruits word string\n"
   ]
  },
  {
   "cell_type": "code",
   "execution_count": null,
   "id": "61058247-63f0-4459-bc34-da7aff5b983b",
   "metadata": {},
   "outputs": [],
   "source": [
    "#not in\n"
   ]
  },
  {
   "cell_type": "code",
   "execution_count": null,
   "id": "c1b78b82-6f7d-4b02-9884-44ebba7e242f",
   "metadata": {},
   "outputs": [],
   "source": [
    "# Difference between == and in:\n"
   ]
  },
  {
   "cell_type": "code",
   "execution_count": 9,
   "id": "a6273c61-7878-4915-9adc-5436a42d8d33",
   "metadata": {},
   "outputs": [],
   "source": [
    "# Edge Cases\n",
    "# Empty sequences\n",
    "# Case-sensitivity\n",
    "\n"
   ]
  },
  {
   "cell_type": "code",
   "execution_count": null,
   "id": "4929f3a1-6047-43e7-a600-506a3f75c44e",
   "metadata": {},
   "outputs": [],
   "source": [
    "#combination of identity operators and logical operators, find out students section\n"
   ]
  },
  {
   "cell_type": "code",
   "execution_count": null,
   "id": "c90a2f8d-3c56-4496-9907-ddf34a053916",
   "metadata": {},
   "outputs": [],
   "source": []
  },
  {
   "cell_type": "code",
   "execution_count": null,
   "id": "76d06604-db8b-46d3-8308-32c9533a2e7a",
   "metadata": {},
   "outputs": [],
   "source": []
  }
 ],
 "metadata": {
  "kernelspec": {
   "display_name": "Python 3 (ipykernel)",
   "language": "python",
   "name": "python3"
  },
  "language_info": {
   "codemirror_mode": {
    "name": "ipython",
    "version": 3
   },
   "file_extension": ".py",
   "mimetype": "text/x-python",
   "name": "python",
   "nbconvert_exporter": "python",
   "pygments_lexer": "ipython3",
   "version": "3.12.7"
  }
 },
 "nbformat": 4,
 "nbformat_minor": 5
}
