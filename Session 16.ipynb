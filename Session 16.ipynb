{
 "cells": [
  {
   "cell_type": "code",
   "execution_count": 1,
   "id": "466b4372-993f-4f50-8436-4fdb9f45db95",
   "metadata": {},
   "outputs": [],
   "source": [
    "def add():\n",
    "    print(\"Add both values:\", 5+6)"
   ]
  },
  {
   "cell_type": "code",
   "execution_count": 2,
   "id": "e9d6c727-ec78-45f6-b0b6-1ea164cc86bf",
   "metadata": {},
   "outputs": [],
   "source": [
    "def BODMAS(value):\n",
    "    def subtract():\n",
    "        print(\"subtract the value: \", 10-4)\n",
    "        value()\n",
    "        print(\"I am doing all exercise by using BODMAS rule\")\n",
    "\n",
    "    def division():\n",
    "        print(\"division\" , 10/2)\n",
    "        value()\n",
    "        print(\"I am doing all exercise by by using BODMAS rule\")\n",
    "        # return subtract\n",
    "    return division"
   ]
  },
  {
   "cell_type": "code",
   "execution_count": 3,
   "id": "24816786-02eb-4ff0-a961-61811abe9403",
   "metadata": {},
   "outputs": [],
   "source": [
    "func_call = BODMAS(add)"
   ]
  },
  {
   "cell_type": "code",
   "execution_count": 4,
   "id": "d3b6631a-9ad5-46ba-998d-e3db537a9769",
   "metadata": {},
   "outputs": [
    {
     "name": "stdout",
     "output_type": "stream",
     "text": [
      "division 5.0\n",
      "Add both values: 11\n",
      "I am doing all exercise by by using BODMAS rule\n"
     ]
    }
   ],
   "source": [
    "func_call()"
   ]
  },
  {
   "cell_type": "code",
   "execution_count": null,
   "id": "ff1462d0-1492-41d5-b607-db57944483a0",
   "metadata": {},
   "outputs": [],
   "source": [
    "def BODMAS(value):\n",
    "    def subtract():\n",
    "        print(\"subtract the value: \", 10-4)\n",
    "        value()\n",
    "        print(\"I am doing all exercise by using BODMAS rule\")\n",
    "\n",
    "    def division():\n",
    "        print(\"division\" , 10/2)\n",
    "        subtract()\n",
    "        print(\"I am doing all exercise by by using BODMAS rule\")\n",
    "        # return subtract\n",
    "    return division"
   ]
  },
  {
   "cell_type": "code",
   "execution_count": null,
   "id": "ff81dac6-0bab-4215-97be-1ad3b7ea1da8",
   "metadata": {},
   "outputs": [],
   "source": [
    "func_call = BODMAS(add)"
   ]
  },
  {
   "cell_type": "code",
   "execution_count": null,
   "id": "29b6c190-cfaf-4c77-9a8e-60954e7e685e",
   "metadata": {},
   "outputs": [],
   "source": [
    "func_call()"
   ]
  },
  {
   "cell_type": "code",
   "execution_count": 5,
   "id": "d50d897d-8bd5-46a1-a1ab-fd74bb358f99",
   "metadata": {},
   "outputs": [
    {
     "name": "stdout",
     "output_type": "stream",
     "text": [
      "division 5.0\n",
      "Add both values: 11\n",
      "I am doing all exercise by by using BODMAS rule\n"
     ]
    }
   ],
   "source": [
    "@BODMAS #with syntatic sugar\n",
    "def add(): #BODMAS(add)\n",
    "    print(\"Add both values:\", 5+6)\n",
    "\n",
    "add()"
   ]
  },
  {
   "cell_type": "code",
   "execution_count": 6,
   "id": "7da29595-743e-4096-a82f-04074e50aff7",
   "metadata": {},
   "outputs": [],
   "source": [
    "@BODMAS\n",
    "def welcome(): #BODMAS(welcome)\n",
    "    print('hi,xyz')\n",
    "def study():\n",
    "    print('abc')"
   ]
  },
  {
   "cell_type": "code",
   "execution_count": 7,
   "id": "fe754192-03d2-4089-b0c5-79ba6a9c3f4a",
   "metadata": {},
   "outputs": [
    {
     "name": "stdout",
     "output_type": "stream",
     "text": [
      "division 5.0\n",
      "hi,xyz\n",
      "I am doing all exercise by by using BODMAS rule\n"
     ]
    }
   ],
   "source": [
    "welcome()"
   ]
  },
  {
   "cell_type": "code",
   "execution_count": 8,
   "id": "5ddc94b9-030f-4a1a-98cc-d74f0128e637",
   "metadata": {},
   "outputs": [
    {
     "name": "stdout",
     "output_type": "stream",
     "text": [
      "abc\n"
     ]
    }
   ],
   "source": [
    "study()"
   ]
  },
  {
   "cell_type": "code",
   "execution_count": 9,
   "id": "e2b42eee-50cf-4289-a209-407c7f9615a3",
   "metadata": {},
   "outputs": [],
   "source": [
    "@BODMAS\n",
    "def welcome():\n",
    "    print('hi,xyz')\n",
    "\n",
    "@BODMAS\n",
    "def study():\n",
    "    print('abc')"
   ]
  },
  {
   "cell_type": "code",
   "execution_count": null,
   "id": "d82cb3d6-14ae-4df7-8c54-169f0ec40698",
   "metadata": {},
   "outputs": [],
   "source": [
    "welcome()"
   ]
  },
  {
   "cell_type": "code",
   "execution_count": 10,
   "id": "438791ba-ac6e-4cc7-85e3-0c705820e796",
   "metadata": {},
   "outputs": [
    {
     "name": "stdout",
     "output_type": "stream",
     "text": [
      "division 5.0\n",
      "abc\n",
      "I am doing all exercise by by using BODMAS rule\n"
     ]
    }
   ],
   "source": [
    "study()"
   ]
  },
  {
   "cell_type": "code",
   "execution_count": 11,
   "id": "ba00d020-1c84-4b67-84dd-148c4c0d1a51",
   "metadata": {},
   "outputs": [
    {
     "name": "stdout",
     "output_type": "stream",
     "text": [
      "my this class grade is 90%\n"
     ]
    }
   ],
   "source": [
    "#noraml function\n",
    "def studyhard(result):\n",
    "    print(f\"my this class grade is {result}%\")\n",
    "\n",
    "studyhard(90)"
   ]
  },
  {
   "cell_type": "code",
   "execution_count": 13,
   "id": "c5b79dc8-09ae-4265-b57a-bce0377aaa5d",
   "metadata": {},
   "outputs": [],
   "source": [
    "#arguments in nested func\n",
    "def subjects(original_function):\n",
    "    def student():\n",
    "        print(\"Ayaan is learning maths\")\n",
    "        original_function()\n",
    "        print(\"*******Ayaan is also learning another subjects********\")\n",
    "    return student"
   ]
  },
  {
   "cell_type": "code",
   "execution_count": 14,
   "id": "055a64de-e1f3-4be8-8ddb-dddd99281a0f",
   "metadata": {},
   "outputs": [
    {
     "ename": "TypeError",
     "evalue": "subjects.<locals>.student() takes 0 positional arguments but 1 was given",
     "output_type": "error",
     "traceback": [
      "\u001b[1;31m---------------------------------------------------------------------------\u001b[0m",
      "\u001b[1;31mTypeError\u001b[0m                                 Traceback (most recent call last)",
      "Cell \u001b[1;32mIn[14], line 5\u001b[0m\n\u001b[0;32m      2\u001b[0m \u001b[38;5;129m@subjects\u001b[39m \u001b[38;5;66;03m#subjects(studyhard)\u001b[39;00m\n\u001b[0;32m      3\u001b[0m \u001b[38;5;28;01mdef\u001b[39;00m \u001b[38;5;21mstudyhard\u001b[39m(result): \u001b[38;5;66;03m#subjects function returns the student function, which will now replace studyhard when you call studyhard(90)\u001b[39;00m\n\u001b[0;32m      4\u001b[0m     \u001b[38;5;28mprint\u001b[39m(\u001b[38;5;124mf\u001b[39m\u001b[38;5;124m\"\u001b[39m\u001b[38;5;124mmy this class result is \u001b[39m\u001b[38;5;132;01m{\u001b[39;00mresult\u001b[38;5;132;01m}\u001b[39;00m\u001b[38;5;124m%\u001b[39m\u001b[38;5;124m\"\u001b[39m)\n\u001b[1;32m----> 5\u001b[0m studyhard(\u001b[38;5;241m90\u001b[39m)\n",
      "\u001b[1;31mTypeError\u001b[0m: subjects.<locals>.student() takes 0 positional arguments but 1 was given"
     ]
    }
   ],
   "source": [
    "# Decorated Function \n",
    "@subjects #subjects(studyhard)\n",
    "def studyhard(result): #subjects function returns the student function, which will now replace studyhard when you call studyhard(90)\n",
    "    print(f\"my this class result is {result}%\")\n",
    "studyhard(90)"
   ]
  },
  {
   "cell_type": "code",
   "execution_count": 15,
   "id": "2b7fc09c-fd97-4e5c-acbb-2fc3c999e11e",
   "metadata": {},
   "outputs": [],
   "source": [
    "# Decorator Function\n",
    "def subjects(original_function):\n",
    "    def student(args):\n",
    "        print(\"Ayaan is learning maths\")\n",
    "        original_function(args)\n",
    "        print(\"Ayaan is also learning another subjects\")\n",
    "    return student"
   ]
  },
  {
   "cell_type": "code",
   "execution_count": 16,
   "id": "e70f1800-d356-4d03-8d6a-ef43d83dd053",
   "metadata": {},
   "outputs": [
    {
     "name": "stdout",
     "output_type": "stream",
     "text": [
      "Ayaan is learning maths\n",
      "my this class grade is 90%\n",
      "Ayaan is also learning another subjects\n"
     ]
    }
   ],
   "source": [
    "# Decorated Function\n",
    "@subjects\n",
    "def studyhard(result):\n",
    "    print(f\"my this class grade is {result}%\")\n",
    "studyhard(90)"
   ]
  },
  {
   "cell_type": "code",
   "execution_count": 18,
   "id": "5ca9b2ca-6b15-41cd-9ecf-e1ceb1e9a702",
   "metadata": {},
   "outputs": [],
   "source": [
    "def subjects(original_function):\n",
    "    def student(args):\n",
    "        print(\"Ayaan is learning maths\")\n",
    "        original_function()\n",
    "        print(\"Ayaan is also learning another subjects\")\n",
    "    return student"
   ]
  },
  {
   "cell_type": "code",
   "execution_count": 19,
   "id": "e17c1d1a-e24c-4cb2-9143-a9300a1b4817",
   "metadata": {},
   "outputs": [
    {
     "name": "stdout",
     "output_type": "stream",
     "text": [
      "Ayaan is learning maths\n"
     ]
    },
    {
     "ename": "TypeError",
     "evalue": "studyhard() missing 1 required positional argument: 'result'",
     "output_type": "error",
     "traceback": [
      "\u001b[1;31m---------------------------------------------------------------------------\u001b[0m",
      "\u001b[1;31mTypeError\u001b[0m                                 Traceback (most recent call last)",
      "Cell \u001b[1;32mIn[19], line 4\u001b[0m\n\u001b[0;32m      1\u001b[0m \u001b[38;5;129m@subjects\u001b[39m\n\u001b[0;32m      2\u001b[0m \u001b[38;5;28;01mdef\u001b[39;00m \u001b[38;5;21mstudyhard\u001b[39m(result):\n\u001b[0;32m      3\u001b[0m     \u001b[38;5;28mprint\u001b[39m(\u001b[38;5;124mf\u001b[39m\u001b[38;5;124m\"\u001b[39m\u001b[38;5;124mmy this class grade is \u001b[39m\u001b[38;5;132;01m{\u001b[39;00mresult\u001b[38;5;132;01m}\u001b[39;00m\u001b[38;5;124m%\u001b[39m\u001b[38;5;124m\"\u001b[39m)\n\u001b[1;32m----> 4\u001b[0m studyhard(\u001b[38;5;241m90\u001b[39m)\n",
      "Cell \u001b[1;32mIn[18], line 4\u001b[0m, in \u001b[0;36msubjects.<locals>.student\u001b[1;34m(args)\u001b[0m\n\u001b[0;32m      2\u001b[0m \u001b[38;5;28;01mdef\u001b[39;00m \u001b[38;5;21mstudent\u001b[39m(args):\n\u001b[0;32m      3\u001b[0m     \u001b[38;5;28mprint\u001b[39m(\u001b[38;5;124m\"\u001b[39m\u001b[38;5;124mAyaan is learning maths\u001b[39m\u001b[38;5;124m\"\u001b[39m)\n\u001b[1;32m----> 4\u001b[0m     original_function()\n\u001b[0;32m      5\u001b[0m     \u001b[38;5;28mprint\u001b[39m(\u001b[38;5;124m\"\u001b[39m\u001b[38;5;124mAyaan is also learning another subjects\u001b[39m\u001b[38;5;124m\"\u001b[39m)\n",
      "\u001b[1;31mTypeError\u001b[0m: studyhard() missing 1 required positional argument: 'result'"
     ]
    }
   ],
   "source": [
    "@subjects\n",
    "def studyhard(result):\n",
    "    print(f\"my this class grade is {result}%\")\n",
    "studyhard(90)"
   ]
  },
  {
   "cell_type": "code",
   "execution_count": null,
   "id": "b6a00690-0eea-42a4-97f5-48d77c4cfa01",
   "metadata": {},
   "outputs": [],
   "source": [
    "def subjects(original_function):\n",
    "    def student(args):\n",
    "        print(\"Ayaan is learning maths\")\n",
    "        original_function()\n",
    "        print(\"Ayaan is also learning another subjects\")\n",
    "    return student"
   ]
  },
  {
   "cell_type": "code",
   "execution_count": null,
   "id": "b1042ab6-7a8f-4f71-aebc-9eeef4e8abe2",
   "metadata": {},
   "outputs": [],
   "source": [
    "@subjects\n",
    "def studyhard(result):\n",
    "    print(f\"my this class grade is {result}%\")\n",
    "studyhard(90)"
   ]
  },
  {
   "cell_type": "code",
   "execution_count": 20,
   "id": "eccff651-d913-455b-b4d1-c520a1120dbd",
   "metadata": {},
   "outputs": [],
   "source": [
    "# Decorator Function\n",
    "def subjects(original_function):\n",
    "    def student(arg):\n",
    "        print(\"Ayaan is learning maths\")\n",
    "        original_function(arg)\n",
    "        print(\"Ayaan is also learning another subjects\")\n",
    "    return student"
   ]
  },
  {
   "cell_type": "code",
   "execution_count": 21,
   "id": "31670446-0db1-496a-90e8-59befb26af96",
   "metadata": {},
   "outputs": [
    {
     "ename": "TypeError",
     "evalue": "subjects.<locals>.student() takes 1 positional argument but 2 were given",
     "output_type": "error",
     "traceback": [
      "\u001b[1;31m---------------------------------------------------------------------------\u001b[0m",
      "\u001b[1;31mTypeError\u001b[0m                                 Traceback (most recent call last)",
      "Cell \u001b[1;32mIn[21], line 5\u001b[0m\n\u001b[0;32m      2\u001b[0m \u001b[38;5;129m@subjects\u001b[39m\n\u001b[0;32m      3\u001b[0m \u001b[38;5;28;01mdef\u001b[39;00m \u001b[38;5;21mstudy\u001b[39m(result, per):\n\u001b[0;32m      4\u001b[0m     \u001b[38;5;28mprint\u001b[39m(\u001b[38;5;124mf\u001b[39m\u001b[38;5;124m\"\u001b[39m\u001b[38;5;124mmy this class grade is \u001b[39m\u001b[38;5;132;01m{\u001b[39;00mresult\u001b[38;5;132;01m}\u001b[39;00m\u001b[38;5;124m% and next time InshaAllah will get\u001b[39m\u001b[38;5;132;01m{\u001b[39;00mper\u001b[38;5;132;01m}\u001b[39;00m\u001b[38;5;124m%\u001b[39m\u001b[38;5;124m\"\u001b[39m)\n\u001b[1;32m----> 5\u001b[0m study(\u001b[38;5;241m90\u001b[39m,\u001b[38;5;241m99\u001b[39m)\n",
      "\u001b[1;31mTypeError\u001b[0m: subjects.<locals>.student() takes 1 positional argument but 2 were given"
     ]
    }
   ],
   "source": [
    "# Decorated Function\n",
    "@subjects\n",
    "def study(result, per):\n",
    "    print(f\"my this class grade is {result}% and next time InshaAllah will get{per}%\")\n",
    "study(90,99)"
   ]
  },
  {
   "cell_type": "code",
   "execution_count": 27,
   "id": "d009c072-5c6b-4866-891a-b84e9af62501",
   "metadata": {},
   "outputs": [],
   "source": [
    "# Decorator Function\n",
    "def subjects(original_function):\n",
    "    def student(*args):\n",
    "        print(\"Ayaan is learning maths\")\n",
    "        original_function(*args)\n",
    "        print(\"Ayaan is also learning another subjects\")\n",
    "    return student"
   ]
  },
  {
   "cell_type": "code",
   "execution_count": 23,
   "id": "78056c88-5233-4ffa-ac12-4c8169a56812",
   "metadata": {},
   "outputs": [
    {
     "name": "stdout",
     "output_type": "stream",
     "text": [
      "Ayaan is learning maths\n",
      "my this class grade is 90% and next time InshaAllah will get 99%\n",
      "Ayaan is also learning another subjects\n"
     ]
    }
   ],
   "source": [
    "# Decorated Function\n",
    "@subjects\n",
    "def study(result, per):\n",
    "    print(f\"my this class grade is {result}% and next time InshaAllah will get {per}%\")\n",
    "study(90,99)"
   ]
  },
  {
   "cell_type": "code",
   "execution_count": 26,
   "id": "fe16b48d-71a6-4bb7-8dc7-bac515ca448a",
   "metadata": {},
   "outputs": [
    {
     "name": "stdout",
     "output_type": "stream",
     "text": [
      "Ayaan is learning maths\n"
     ]
    },
    {
     "ename": "TypeError",
     "evalue": "study() takes 2 positional arguments but 3 were given",
     "output_type": "error",
     "traceback": [
      "\u001b[1;31m---------------------------------------------------------------------------\u001b[0m",
      "\u001b[1;31mTypeError\u001b[0m                                 Traceback (most recent call last)",
      "Cell \u001b[1;32mIn[26], line 4\u001b[0m\n\u001b[0;32m      1\u001b[0m \u001b[38;5;129m@subjects\u001b[39m\n\u001b[0;32m      2\u001b[0m \u001b[38;5;28;01mdef\u001b[39;00m \u001b[38;5;21mstudy\u001b[39m(result, per):\n\u001b[0;32m      3\u001b[0m     \u001b[38;5;28mprint\u001b[39m(\u001b[38;5;124mf\u001b[39m\u001b[38;5;124m\"\u001b[39m\u001b[38;5;124mmy this class grade is \u001b[39m\u001b[38;5;132;01m{\u001b[39;00mresult\u001b[38;5;132;01m}\u001b[39;00m\u001b[38;5;124m% and next time InshaAllah will get \u001b[39m\u001b[38;5;132;01m{\u001b[39;00mper\u001b[38;5;132;01m}\u001b[39;00m\u001b[38;5;124m%\u001b[39m\u001b[38;5;124m\"\u001b[39m)\n\u001b[1;32m----> 4\u001b[0m study(\u001b[38;5;241m90\u001b[39m,\u001b[38;5;241m99\u001b[39m,\u001b[38;5;241m120\u001b[39m)\n",
      "Cell \u001b[1;32mIn[22], line 5\u001b[0m, in \u001b[0;36msubjects.<locals>.student\u001b[1;34m(*args)\u001b[0m\n\u001b[0;32m      3\u001b[0m \u001b[38;5;28;01mdef\u001b[39;00m \u001b[38;5;21mstudent\u001b[39m(\u001b[38;5;241m*\u001b[39margs):\n\u001b[0;32m      4\u001b[0m     \u001b[38;5;28mprint\u001b[39m(\u001b[38;5;124m\"\u001b[39m\u001b[38;5;124mAyaan is learning maths\u001b[39m\u001b[38;5;124m\"\u001b[39m)\n\u001b[1;32m----> 5\u001b[0m     original_function(\u001b[38;5;241m*\u001b[39margs)\n\u001b[0;32m      6\u001b[0m     \u001b[38;5;28mprint\u001b[39m(\u001b[38;5;124m\"\u001b[39m\u001b[38;5;124mAyaan is also learning another subjects\u001b[39m\u001b[38;5;124m\"\u001b[39m)\n",
      "\u001b[1;31mTypeError\u001b[0m: study() takes 2 positional arguments but 3 were given"
     ]
    }
   ],
   "source": [
    "@subjects\n",
    "def study(result, per):\n",
    "    print(f\"my this class grade is {result}% and next time InshaAllah will get {per}%\")\n",
    "study(90,99,120)"
   ]
  },
  {
   "cell_type": "code",
   "execution_count": 25,
   "id": "0b9cc312-1388-47a5-b598-df4d58b5a4be",
   "metadata": {},
   "outputs": [
    {
     "name": "stdout",
     "output_type": "stream",
     "text": [
      "Ayaan is learning maths\n",
      "my this class grade is 90% and next time InshaAllah will get 99% here is 120\n",
      "Ayaan is also learning another subjects\n"
     ]
    }
   ],
   "source": [
    "@subjects\n",
    "def study(result, per,x):\n",
    "    print(f\"my this class grade is {result}% and next time InshaAllah will get {per}% here is {x}\")\n",
    "study(90,99,120)"
   ]
  },
  {
   "cell_type": "code",
   "execution_count": 28,
   "id": "7ecbb044-31c6-4147-b08c-5c684530c592",
   "metadata": {},
   "outputs": [
    {
     "ename": "TypeError",
     "evalue": "subjects.<locals>.student() got an unexpected keyword argument 'result'",
     "output_type": "error",
     "traceback": [
      "\u001b[1;31m---------------------------------------------------------------------------\u001b[0m",
      "\u001b[1;31mTypeError\u001b[0m                                 Traceback (most recent call last)",
      "Cell \u001b[1;32mIn[28], line 1\u001b[0m\n\u001b[1;32m----> 1\u001b[0m study(result \u001b[38;5;241m=\u001b[39m \u001b[38;5;241m70\u001b[39m, per \u001b[38;5;241m=\u001b[39m \u001b[38;5;241m80\u001b[39m)\n",
      "\u001b[1;31mTypeError\u001b[0m: subjects.<locals>.student() got an unexpected keyword argument 'result'"
     ]
    }
   ],
   "source": [
    "study(result = 70, per = 80)"
   ]
  },
  {
   "cell_type": "code",
   "execution_count": 30,
   "id": "15943672-b5a5-40c3-87ed-aa350f21098b",
   "metadata": {},
   "outputs": [
    {
     "ename": "SyntaxError",
     "evalue": "iterable argument unpacking follows keyword argument unpacking (503089610.py, line 5)",
     "output_type": "error",
     "traceback": [
      "\u001b[1;36m  Cell \u001b[1;32mIn[30], line 5\u001b[1;36m\u001b[0m\n\u001b[1;33m    original_function(**kwargs,*args)\u001b[0m\n\u001b[1;37m                              ^\u001b[0m\n\u001b[1;31mSyntaxError\u001b[0m\u001b[1;31m:\u001b[0m iterable argument unpacking follows keyword argument unpacking\n"
     ]
    }
   ],
   "source": [
    "# Decorator Function\n",
    "def subjects(original_function):\n",
    "    def student(*args,**kwargs):\n",
    "        print(\"Ayaan is learning maths\")\n",
    "        original_function(**kwargs,*args)\n",
    "        print(\"Ayaan is also learning another subjects\")\n",
    "    return student"
   ]
  },
  {
   "cell_type": "code",
   "execution_count": 31,
   "id": "4e1d80a4-c0a2-476c-80ba-8497ab6ac86b",
   "metadata": {},
   "outputs": [],
   "source": [
    "# Decorator Function\n",
    "def subjects(original_function):\n",
    "    def student(*args,**kwargs):\n",
    "        print(\"Ayaan is learning maths\")\n",
    "        original_function(*args,**kwargs)\n",
    "        print(\"Ayaan is also learning another subjects\")\n",
    "    return student"
   ]
  },
  {
   "cell_type": "code",
   "execution_count": 32,
   "id": "5ea1903d-6bca-4015-aab3-6f482fcb3c90",
   "metadata": {},
   "outputs": [
    {
     "name": "stdout",
     "output_type": "stream",
     "text": [
      "Ayaan is learning maths\n",
      "my this class grade is 90% and next time InshaAllah will get 99%\n",
      "Ayaan is also learning another subjects\n"
     ]
    }
   ],
   "source": [
    "# Decorated Function\n",
    "@subjects\n",
    "def study(result, per):\n",
    "    print(f\"my this class grade is {result}% and next time InshaAllah will get {per}%\")\n",
    "study(90,99) # Positional argument"
   ]
  },
  {
   "cell_type": "code",
   "execution_count": 33,
   "id": "8ab21a7d-6f5c-4812-9b83-9ba8b2b6a230",
   "metadata": {},
   "outputs": [
    {
     "name": "stdout",
     "output_type": "stream",
     "text": [
      "Ayaan is learning maths\n",
      "my this class grade is 70% and next time InshaAllah will get 80%\n",
      "Ayaan is also learning another subjects\n"
     ]
    }
   ],
   "source": [
    "study(result = 70, per = 80) # Keywords argument"
   ]
  },
  {
   "cell_type": "code",
   "execution_count": 34,
   "id": "e6f08f48-5cf0-4c8b-81f0-52ac93af6eeb",
   "metadata": {},
   "outputs": [
    {
     "ename": "SyntaxError",
     "evalue": "positional argument follows keyword argument (4283696615.py, line 1)",
     "output_type": "error",
     "traceback": [
      "\u001b[1;36m  Cell \u001b[1;32mIn[34], line 1\u001b[1;36m\u001b[0m\n\u001b[1;33m    study(result=22, 88)\u001b[0m\n\u001b[1;37m                       ^\u001b[0m\n\u001b[1;31mSyntaxError\u001b[0m\u001b[1;31m:\u001b[0m positional argument follows keyword argument\n"
     ]
    }
   ],
   "source": [
    "study(result=22, 88)"
   ]
  },
  {
   "cell_type": "code",
   "execution_count": 35,
   "id": "46d676a5-22cc-4a8b-8051-6771e1bb6f31",
   "metadata": {},
   "outputs": [],
   "source": [
    "# Decorator Function\n",
    "def subjects(original_function):\n",
    "    def student(*args,**kwargs):\n",
    "        print(\"Ayaan is learning maths\")\n",
    "        original_function(*args,**kwargs)\n",
    "        print(\"Ayaan is also learning another subjects\")\n",
    "    return student"
   ]
  },
  {
   "cell_type": "code",
   "execution_count": 37,
   "id": "6fc4d3a0-df27-45c6-b56b-18bc768a23c1",
   "metadata": {},
   "outputs": [],
   "source": [
    "# Decorated Function\n",
    "@subjects\n",
    "def study(result, per):\n",
    "    print(f\"my this class grade is {result}% and next time InshaAllah will get {per}%\")"
   ]
  },
  {
   "cell_type": "code",
   "execution_count": null,
   "id": "0257d7f3-aed4-46f0-982d-2f2f6234594d",
   "metadata": {},
   "outputs": [],
   "source": [
    "# one keyword and one positional argument\n",
    "study(70, per=80)"
   ]
  },
  {
   "cell_type": "code",
   "execution_count": null,
   "id": "b9299e74-2804-40d1-b009-23e6ba409583",
   "metadata": {},
   "outputs": [],
   "source": [
    "study(result=70, 80)"
   ]
  },
  {
   "cell_type": "code",
   "execution_count": 38,
   "id": "7174fc2c-d1ca-4b61-bc16-0b399eeca35f",
   "metadata": {},
   "outputs": [
    {
     "name": "stdout",
     "output_type": "stream",
     "text": [
      "Ayaan is learning maths\n"
     ]
    },
    {
     "ename": "TypeError",
     "evalue": "study() takes 2 positional arguments but 3 were given",
     "output_type": "error",
     "traceback": [
      "\u001b[1;31m---------------------------------------------------------------------------\u001b[0m",
      "\u001b[1;31mTypeError\u001b[0m                                 Traceback (most recent call last)",
      "Cell \u001b[1;32mIn[38], line 1\u001b[0m\n\u001b[1;32m----> 1\u001b[0m study(\u001b[38;5;241m22\u001b[39m,\u001b[38;5;241m22\u001b[39m,\u001b[38;5;241m22\u001b[39m)\n",
      "Cell \u001b[1;32mIn[35], line 5\u001b[0m, in \u001b[0;36msubjects.<locals>.student\u001b[1;34m(*args, **kwargs)\u001b[0m\n\u001b[0;32m      3\u001b[0m \u001b[38;5;28;01mdef\u001b[39;00m \u001b[38;5;21mstudent\u001b[39m(\u001b[38;5;241m*\u001b[39margs,\u001b[38;5;241m*\u001b[39m\u001b[38;5;241m*\u001b[39mkwargs):\n\u001b[0;32m      4\u001b[0m     \u001b[38;5;28mprint\u001b[39m(\u001b[38;5;124m\"\u001b[39m\u001b[38;5;124mAyaan is learning maths\u001b[39m\u001b[38;5;124m\"\u001b[39m)\n\u001b[1;32m----> 5\u001b[0m     original_function(\u001b[38;5;241m*\u001b[39margs,\u001b[38;5;241m*\u001b[39m\u001b[38;5;241m*\u001b[39mkwargs)\n\u001b[0;32m      6\u001b[0m     \u001b[38;5;28mprint\u001b[39m(\u001b[38;5;124m\"\u001b[39m\u001b[38;5;124mAyaan is also learning another subjects\u001b[39m\u001b[38;5;124m\"\u001b[39m)\n",
      "\u001b[1;31mTypeError\u001b[0m: study() takes 2 positional arguments but 3 were given"
     ]
    }
   ],
   "source": [
    "study(22,22,22)"
   ]
  },
  {
   "cell_type": "code",
   "execution_count": 39,
   "id": "6714f9c0-8e25-4fff-bc69-fd57482d40ff",
   "metadata": {},
   "outputs": [
    {
     "name": "stdout",
     "output_type": "stream",
     "text": [
      "Ayaan is learning maths\n"
     ]
    },
    {
     "ename": "TypeError",
     "evalue": "study() got an unexpected keyword argument 'x'",
     "output_type": "error",
     "traceback": [
      "\u001b[1;31m---------------------------------------------------------------------------\u001b[0m",
      "\u001b[1;31mTypeError\u001b[0m                                 Traceback (most recent call last)",
      "Cell \u001b[1;32mIn[39], line 1\u001b[0m\n\u001b[1;32m----> 1\u001b[0m study(\u001b[38;5;241m22\u001b[39m,\u001b[38;5;241m22\u001b[39m,x\u001b[38;5;241m=\u001b[39m\u001b[38;5;241m22\u001b[39m)\n",
      "Cell \u001b[1;32mIn[35], line 5\u001b[0m, in \u001b[0;36msubjects.<locals>.student\u001b[1;34m(*args, **kwargs)\u001b[0m\n\u001b[0;32m      3\u001b[0m \u001b[38;5;28;01mdef\u001b[39;00m \u001b[38;5;21mstudent\u001b[39m(\u001b[38;5;241m*\u001b[39margs,\u001b[38;5;241m*\u001b[39m\u001b[38;5;241m*\u001b[39mkwargs):\n\u001b[0;32m      4\u001b[0m     \u001b[38;5;28mprint\u001b[39m(\u001b[38;5;124m\"\u001b[39m\u001b[38;5;124mAyaan is learning maths\u001b[39m\u001b[38;5;124m\"\u001b[39m)\n\u001b[1;32m----> 5\u001b[0m     original_function(\u001b[38;5;241m*\u001b[39margs,\u001b[38;5;241m*\u001b[39m\u001b[38;5;241m*\u001b[39mkwargs)\n\u001b[0;32m      6\u001b[0m     \u001b[38;5;28mprint\u001b[39m(\u001b[38;5;124m\"\u001b[39m\u001b[38;5;124mAyaan is also learning another subjects\u001b[39m\u001b[38;5;124m\"\u001b[39m)\n",
      "\u001b[1;31mTypeError\u001b[0m: study() got an unexpected keyword argument 'x'"
     ]
    }
   ],
   "source": [
    "study(22,22,x=22)"
   ]
  },
  {
   "cell_type": "markdown",
   "id": "acb1d6ee-5d19-48eb-a8b4-5dcdd4ed150f",
   "metadata": {},
   "source": [
    "## Error Handling"
   ]
  },
  {
   "cell_type": "markdown",
   "id": "f88d5496-6f0a-411a-b7b6-8763f5b1dd22",
   "metadata": {},
   "source": [
    "### try, except, else, finally"
   ]
  },
  {
   "cell_type": "code",
   "execution_count": 40,
   "id": "a0bb2b1e-e310-42f3-990d-c0a3bfb451f4",
   "metadata": {},
   "outputs": [
    {
     "ename": "ZeroDivisionError",
     "evalue": "division by zero",
     "output_type": "error",
     "traceback": [
      "\u001b[1;31m---------------------------------------------------------------------------\u001b[0m",
      "\u001b[1;31mZeroDivisionError\u001b[0m                         Traceback (most recent call last)",
      "Cell \u001b[1;32mIn[40], line 1\u001b[0m\n\u001b[1;32m----> 1\u001b[0m \u001b[38;5;28mprint\u001b[39m(\u001b[38;5;241m2\u001b[39m\u001b[38;5;241m/\u001b[39m\u001b[38;5;241m0\u001b[39m)\n",
      "\u001b[1;31mZeroDivisionError\u001b[0m: division by zero"
     ]
    }
   ],
   "source": [
    "print(2/0)"
   ]
  },
  {
   "cell_type": "code",
   "execution_count": 41,
   "id": "c1b1357c-97fa-49b8-9f13-38f311077565",
   "metadata": {},
   "outputs": [
    {
     "name": "stdout",
     "output_type": "stream",
     "text": [
      "cannot divide by zero\n"
     ]
    }
   ],
   "source": [
    "try:                   #provide multiple logic in try block\n",
    "    print(2/0)\n",
    "except:\n",
    "    print('cannot divide by zero')"
   ]
  },
  {
   "cell_type": "code",
   "execution_count": 42,
   "id": "e789c692-46cb-4500-b533-36a5ad18e489",
   "metadata": {},
   "outputs": [
    {
     "name": "stdout",
     "output_type": "stream",
     "text": [
      "0.4\n"
     ]
    }
   ],
   "source": [
    "print(2/5)"
   ]
  },
  {
   "cell_type": "code",
   "execution_count": 43,
   "id": "b3fc7c36-81c1-4739-9820-3f134bb3af3c",
   "metadata": {},
   "outputs": [
    {
     "name": "stdout",
     "output_type": "stream",
     "text": [
      "0.4\n"
     ]
    }
   ],
   "source": [
    "try:                   #provide multiple logic in try block\n",
    "    print(2/5)\n",
    "except:\n",
    "    print('cannot divide by zero')"
   ]
  },
  {
   "cell_type": "code",
   "execution_count": 44,
   "id": "29eea5c4-365d-4742-9f93-905677038edf",
   "metadata": {},
   "outputs": [
    {
     "name": "stdout",
     "output_type": "stream",
     "text": [
      "0.4\n",
      "error\n",
      "1.0\n"
     ]
    }
   ],
   "source": [
    "print(2/5)\n",
    "\n",
    "try:\n",
    "    print(2/0)\n",
    "except ZeroDivisionError:\n",
    "    print('error')\n",
    "\n",
    "print(2/2)"
   ]
  },
  {
   "cell_type": "code",
   "execution_count": 46,
   "id": "528d7efc-9f94-4f04-a952-3b6fcf468e21",
   "metadata": {},
   "outputs": [
    {
     "name": "stdin",
     "output_type": "stream",
     "text": [
      "Enter Number:  abc\n"
     ]
    },
    {
     "name": "stdout",
     "output_type": "stream",
     "text": [
      "invalid number\n"
     ]
    }
   ],
   "source": [
    "try:\n",
    "    x = int(input('Enter Number: '))\n",
    "    print('valid number')\n",
    "except ValueError:\n",
    "    print('invalid number')"
   ]
  },
  {
   "cell_type": "code",
   "execution_count": 48,
   "id": "cd0da9b9-6598-4e78-bb1a-dd339bc10908",
   "metadata": {},
   "outputs": [
    {
     "name": "stdin",
     "output_type": "stream",
     "text": [
      "Enter Number:  abc\n"
     ]
    },
    {
     "ename": "NameError",
     "evalue": "name 'valueerror' is not defined",
     "output_type": "error",
     "traceback": [
      "\u001b[1;31m---------------------------------------------------------------------------\u001b[0m",
      "\u001b[1;31mValueError\u001b[0m                                Traceback (most recent call last)",
      "Cell \u001b[1;32mIn[48], line 2\u001b[0m\n\u001b[0;32m      1\u001b[0m \u001b[38;5;28;01mtry\u001b[39;00m:\n\u001b[1;32m----> 2\u001b[0m     x \u001b[38;5;241m=\u001b[39m \u001b[38;5;28mint\u001b[39m(\u001b[38;5;28minput\u001b[39m(\u001b[38;5;124m'\u001b[39m\u001b[38;5;124mEnter Number: \u001b[39m\u001b[38;5;124m'\u001b[39m))\n\u001b[0;32m      3\u001b[0m     \u001b[38;5;28mprint\u001b[39m(\u001b[38;5;124m'\u001b[39m\u001b[38;5;124mvalid number\u001b[39m\u001b[38;5;124m'\u001b[39m)\n",
      "\u001b[1;31mValueError\u001b[0m: invalid literal for int() with base 10: 'abc'",
      "\nDuring handling of the above exception, another exception occurred:\n",
      "\u001b[1;31mNameError\u001b[0m                                 Traceback (most recent call last)",
      "Cell \u001b[1;32mIn[48], line 4\u001b[0m\n\u001b[0;32m      2\u001b[0m     x \u001b[38;5;241m=\u001b[39m \u001b[38;5;28mint\u001b[39m(\u001b[38;5;28minput\u001b[39m(\u001b[38;5;124m'\u001b[39m\u001b[38;5;124mEnter Number: \u001b[39m\u001b[38;5;124m'\u001b[39m))\n\u001b[0;32m      3\u001b[0m     \u001b[38;5;28mprint\u001b[39m(\u001b[38;5;124m'\u001b[39m\u001b[38;5;124mvalid number\u001b[39m\u001b[38;5;124m'\u001b[39m)\n\u001b[1;32m----> 4\u001b[0m \u001b[38;5;28;01mexcept\u001b[39;00m valueerror:\n\u001b[0;32m      5\u001b[0m     \u001b[38;5;28mprint\u001b[39m(\u001b[38;5;124m'\u001b[39m\u001b[38;5;124minvalid number\u001b[39m\u001b[38;5;124m'\u001b[39m)\n",
      "\u001b[1;31mNameError\u001b[0m: name 'valueerror' is not defined"
     ]
    }
   ],
   "source": [
    "try:\n",
    "    x = int(input('Enter Number: '))\n",
    "    print('valid number')\n",
    "except valueerror:\n",
    "    print('invalid number')"
   ]
  },
  {
   "cell_type": "code",
   "execution_count": 51,
   "id": "dfa5ad5a-2548-4306-b9fd-54c6ac94bd79",
   "metadata": {},
   "outputs": [
    {
     "name": "stdin",
     "output_type": "stream",
     "text": [
      "Enter a number:  abc\n"
     ]
    },
    {
     "name": "stdout",
     "output_type": "stream",
     "text": [
      "invalid number\n"
     ]
    }
   ],
   "source": [
    "try: \n",
    "    x = int(input(\"Enter a number: \"))\n",
    "    y = 10 / x\n",
    "    print(f\"Result: {y}\")\n",
    "except ZeroDivisionError:         #more than one exception\n",
    "    print('cannot divide by zero')\n",
    "except ValueError:\n",
    "    print('invalid number')"
   ]
  },
  {
   "cell_type": "code",
   "execution_count": null,
   "id": "27a51a3f-de64-4741-9b5a-659e060093b0",
   "metadata": {},
   "outputs": [],
   "source": [
    "try: \n",
    "    x = int(input(\"Enter a number: \"))\n",
    "    y = 10 / x\n",
    "    print(f\"Result: {y}\")\n",
    "except ZeroDivisionError:           #more than one exception\n",
    "    print('cannot divide by zero')\n",
    "except ValueError:\n",
    "    print('invalid number')"
   ]
  },
  {
   "cell_type": "code",
   "execution_count": 53,
   "id": "c9030296-986f-4a89-9cc1-286f7312e6fe",
   "metadata": {},
   "outputs": [
    {
     "name": "stdin",
     "output_type": "stream",
     "text": [
      "Enter a number:  ac\n"
     ]
    },
    {
     "name": "stdout",
     "output_type": "stream",
     "text": [
      "invalid input: invalid literal for int() with base 10: 'ac'\n"
     ]
    }
   ],
   "source": [
    "try:\n",
    "    x = int(input(\"Enter a number: \"))\n",
    "    y = 10 / x\n",
    "    print(f\"Result: {y}\")\n",
    "except Exception as error: #used to hanlde python built-in exceptions #alias\n",
    "    print('invalid input:', error)"
   ]
  },
  {
   "cell_type": "code",
   "execution_count": 54,
   "id": "a2ad7ed4-f3bd-4063-a54e-5bc30bbb0bea",
   "metadata": {},
   "outputs": [
    {
     "name": "stdin",
     "output_type": "stream",
     "text": [
      "Enter a number:  0\n"
     ]
    },
    {
     "name": "stdout",
     "output_type": "stream",
     "text": [
      "An unexpected error occurred: <class 'Exception'>\n"
     ]
    }
   ],
   "source": [
    "try:\n",
    "    x = int(input(\"Enter a number: \"))\n",
    "    y = 10 / x\n",
    "    print(f\"Result: {y}\")\n",
    "except Exception:\n",
    "    print(f\"An unexpected error occurred: {Exception}\")"
   ]
  },
  {
   "cell_type": "code",
   "execution_count": null,
   "id": "433ff71a-ba74-4931-9b28-b3f063c0c967",
   "metadata": {},
   "outputs": [],
   "source": [
    "try:\n",
    "    x = int(input(\"Enter a number: \"))\n",
    "    y = 10 / x\n",
    "    print(f\"Result: {y}\")\n",
    "except Exception as error:\n",
    "    print(f\"An unexpected error occurred: {error}\")"
   ]
  },
  {
   "cell_type": "code",
   "execution_count": 55,
   "id": "27fee6c9-0b79-42e7-a23e-8e75cbc5890d",
   "metadata": {},
   "outputs": [
    {
     "name": "stdin",
     "output_type": "stream",
     "text": [
      "Enter a number:  2\n"
     ]
    },
    {
     "name": "stdout",
     "output_type": "stream",
     "text": [
      "You entered the number: 2\n"
     ]
    }
   ],
   "source": [
    "try:\n",
    "    number = int(input(\"Enter a number: \"))\n",
    "except ValueError:\n",
    "    print(\"That's not a valid number!\")\n",
    "else: #optional\n",
    "    print(f\"You entered the number: {number}\")"
   ]
  },
  {
   "cell_type": "code",
   "execution_count": null,
   "id": "79a5ff33-25f1-44da-bb3f-f84c6d2ac48f",
   "metadata": {},
   "outputs": [],
   "source": [
    "try:\n",
    "    number = int(input(\"Enter a number: \"))\n",
    "except ValueError:\n",
    "    print(\"That's not a valid number!\")\n",
    "else: #optional\n",
    "    print(f\"You entered the number: {number}\")"
   ]
  },
  {
   "cell_type": "code",
   "execution_count": 56,
   "id": "e6b47f9e-bea7-4890-84b4-d45748efaff4",
   "metadata": {},
   "outputs": [
    {
     "name": "stdin",
     "output_type": "stream",
     "text": [
      "Enter a number:  2\n"
     ]
    },
    {
     "name": "stdout",
     "output_type": "stream",
     "text": [
      "You entered the number: 2\n"
     ]
    }
   ],
   "source": [
    "try:\n",
    "    number = int(input(\"Enter a number: \"))\n",
    "    print(f\"You entered the number: {number}\") #without else\n",
    "except ValueError:\n",
    "    print(\"That's not a valid number!\")\n",
    "# else: #optional\n",
    "#     print(f\"You entered the number: {number}\")"
   ]
  },
  {
   "cell_type": "code",
   "execution_count": 57,
   "id": "376ba87f-4002-4a20-9968-19b3599b247e",
   "metadata": {},
   "outputs": [
    {
     "name": "stdin",
     "output_type": "stream",
     "text": [
      "Enter a number:  22\n"
     ]
    },
    {
     "name": "stdout",
     "output_type": "stream",
     "text": [
      "You entered the number: 22\n",
      "Thanks for using this app\n"
     ]
    }
   ],
   "source": [
    "try:\n",
    "    number = int(input(\"Enter a number: \"))\n",
    "except ValueError:\n",
    "    print(\"That's not a valid number!\")\n",
    "else: #optional\n",
    "    print(f\"You entered the number: {number}\")\n",
    "finally:\n",
    "    print('Thanks for using this app')"
   ]
  },
  {
   "cell_type": "code",
   "execution_count": 60,
   "id": "5f19b163-c74c-4e63-91da-908086d2d61d",
   "metadata": {},
   "outputs": [
    {
     "name": "stdin",
     "output_type": "stream",
     "text": [
      "enter 1st num:  2\n",
      "enter 2nd num:  e\n"
     ]
    },
    {
     "name": "stdout",
     "output_type": "stream",
     "text": [
      "invalid number\n",
      "thank you\n"
     ]
    }
   ],
   "source": [
    "# Write a program to handle division of two numbers\n",
    "\n",
    "try:\n",
    "    x = int(input('enter 1st num: '))\n",
    "    y = int(input('enter 2nd num: '))\n",
    "\n",
    "    result = x/y\n",
    "\n",
    "except ZeroDivisionError:\n",
    "    print('cannot divided by zero')\n",
    "except ValueError:\n",
    "    print('invalid number')\n",
    "else:\n",
    "    print(f\"your number is {result}\")\n",
    "finally:\n",
    "    print('thank you')"
   ]
  },
  {
   "cell_type": "markdown",
   "id": "ba1e6df8-940b-4a47-8228-cc070c392147",
   "metadata": {},
   "source": [
    "Write a program that checks if a number is even or odd. \n",
    "If the user inputs a non-numeric value, display an error message. \n",
    "If the number is even, print \"Even\", otherwise print \"Odd\". Finally, always print \"Check complete\"."
   ]
  },
  {
   "cell_type": "markdown",
   "id": "1b917ce1-a674-4a12-9f22-f40c628e9727",
   "metadata": {},
   "source": [
    "Write a program that asks the user for an index and tries to access that index in a predefined list. Handle IndexError if the user enters an index that doesn't exist, and handle ValueError if the user inputs a non-numeric value."
   ]
  },
  {
   "cell_type": "code",
   "execution_count": null,
   "id": "039ad460-d572-40c1-b7d3-43751070a52f",
   "metadata": {},
   "outputs": [],
   "source": [
    "lst = [10,20,30,40,50,60]"
   ]
  },
  {
   "cell_type": "markdown",
   "id": "4837ac6d-9935-42ef-858e-9a5cb9c2944c",
   "metadata": {},
   "source": [
    "Write a program that checks if a number is divisble by 5. If the user inputs a non-numeric value, display an error message. If the number is divisble by 5, print \"number is divisble\", otherwise print \"not divisible\". Finally, always print \"Check complete"
   ]
  },
  {
   "cell_type": "code",
   "execution_count": null,
   "id": "b77264f2-0b8d-4fb3-8518-04fafa0f2a9a",
   "metadata": {},
   "outputs": [],
   "source": [
    "try:\n",
    "    number = int(input(\"Enter a number: \"))\n",
    "    \n",
    "    if number % 2 == 0:\n",
    "        print(\"Even\")\n",
    "    else:\n",
    "        print(\"Odd\")\n",
    "except ValueError:\n",
    "    print(\"Error: Please enter a valid integer.\")\n",
    "finally:\n",
    "    print(\"Check complete.\")\n"
   ]
  },
  {
   "cell_type": "code",
   "execution_count": null,
   "id": "1662d83a-599b-4e9c-90bd-485d644a59c5",
   "metadata": {},
   "outputs": [],
   "source": [
    "my_list = [10, 20, 30, 40, 50]\n",
    "\n",
    "try:\n",
    "    index = int(input(\"Enter the index to access from the list: \"))\n",
    "    print(f\"The value at index {index} is {my_list[index]}\")\n",
    "except Exception as e:\n",
    "    print(\"error:\", e)\n",
    "except ValueError:\n",
    "    print(\"Error: Please enter a valid integer.\")\n",
    "finally:\n",
    "    print(\"Index access operation completed.\")"
   ]
  },
  {
   "cell_type": "code",
   "execution_count": null,
   "id": "689e50bb-4dff-408f-9548-0ec8bce2dafb",
   "metadata": {},
   "outputs": [],
   "source": []
  }
 ],
 "metadata": {
  "kernelspec": {
   "display_name": "Python 3 (ipykernel)",
   "language": "python",
   "name": "python3"
  },
  "language_info": {
   "codemirror_mode": {
    "name": "ipython",
    "version": 3
   },
   "file_extension": ".py",
   "mimetype": "text/x-python",
   "name": "python",
   "nbconvert_exporter": "python",
   "pygments_lexer": "ipython3",
   "version": "3.12.7"
  }
 },
 "nbformat": 4,
 "nbformat_minor": 5
}
