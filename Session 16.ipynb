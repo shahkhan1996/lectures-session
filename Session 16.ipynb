{
 "cells": [
  {
   "cell_type": "code",
   "execution_count": null,
   "id": "466b4372-993f-4f50-8436-4fdb9f45db95",
   "metadata": {},
   "outputs": [],
   "source": [
    "def add():\n",
    "    print(\"Add both values:\", 5+6)"
   ]
  },
  {
   "cell_type": "code",
   "execution_count": null,
   "id": "e9d6c727-ec78-45f6-b0b6-1ea164cc86bf",
   "metadata": {},
   "outputs": [],
   "source": [
    "def BODMAS(value):\n",
    "    def subtract():\n",
    "        print(\"subtract the value: \", 10-4)\n",
    "        value()\n",
    "        print(\"I am doing all exercise by using BODMAS rule\")\n",
    "\n",
    "    def division():\n",
    "        print(\"division\" , 10/2)\n",
    "        value()\n",
    "        print(\"I am doing all exercise by by using BODMAS rule\")\n",
    "        # return subtract\n",
    "    return division"
   ]
  },
  {
   "cell_type": "code",
   "execution_count": null,
   "id": "24816786-02eb-4ff0-a961-61811abe9403",
   "metadata": {},
   "outputs": [],
   "source": [
    "func_call = BODMAS(add)"
   ]
  },
  {
   "cell_type": "code",
   "execution_count": null,
   "id": "d3b6631a-9ad5-46ba-998d-e3db537a9769",
   "metadata": {},
   "outputs": [],
   "source": [
    "func_call()"
   ]
  },
  {
   "cell_type": "code",
   "execution_count": null,
   "id": "ff1462d0-1492-41d5-b607-db57944483a0",
   "metadata": {},
   "outputs": [],
   "source": [
    "def BODMAS(value):\n",
    "    def subtract():\n",
    "        print(\"subtract the value: \", 10-4)\n",
    "        value()\n",
    "        print(\"I am doing all exercise by using BODMAS rule\")\n",
    "\n",
    "    def division():\n",
    "        print(\"division\" , 10/2)\n",
    "        subtract()\n",
    "        print(\"I am doing all exercise by by using BODMAS rule\")\n",
    "        # return subtract\n",
    "    return division"
   ]
  },
  {
   "cell_type": "code",
   "execution_count": null,
   "id": "ff81dac6-0bab-4215-97be-1ad3b7ea1da8",
   "metadata": {},
   "outputs": [],
   "source": [
    "func_call = BODMAS(add)"
   ]
  },
  {
   "cell_type": "code",
   "execution_count": null,
   "id": "29b6c190-cfaf-4c77-9a8e-60954e7e685e",
   "metadata": {},
   "outputs": [],
   "source": [
    "func_call()"
   ]
  },
  {
   "cell_type": "code",
   "execution_count": null,
   "id": "d50d897d-8bd5-46a1-a1ab-fd74bb358f99",
   "metadata": {},
   "outputs": [],
   "source": [
    "@BODMAS #with syntatic sugar\n",
    "def add(): #BODMAS(add)\n",
    "    print(\"Add both values:\", 5+6)\n",
    "\n",
    "add()"
   ]
  },
  {
   "cell_type": "code",
   "execution_count": null,
   "id": "7da29595-743e-4096-a82f-04074e50aff7",
   "metadata": {},
   "outputs": [],
   "source": [
    "@BODMAS\n",
    "def welcome(): #BODMAS(welcome)\n",
    "    print('hi,xyz')\n",
    "def study():\n",
    "    print('abc')"
   ]
  },
  {
   "cell_type": "code",
   "execution_count": null,
   "id": "fe754192-03d2-4089-b0c5-79ba6a9c3f4a",
   "metadata": {},
   "outputs": [],
   "source": [
    "welcome()"
   ]
  },
  {
   "cell_type": "code",
   "execution_count": null,
   "id": "5ddc94b9-030f-4a1a-98cc-d74f0128e637",
   "metadata": {},
   "outputs": [],
   "source": [
    "study()"
   ]
  },
  {
   "cell_type": "code",
   "execution_count": null,
   "id": "e2b42eee-50cf-4289-a209-407c7f9615a3",
   "metadata": {},
   "outputs": [],
   "source": [
    "@BODMAS\n",
    "def welcome():\n",
    "    print('hi,xyz')\n",
    "\n",
    "@BODMAS\n",
    "def study():\n",
    "    print('abc')"
   ]
  },
  {
   "cell_type": "code",
   "execution_count": null,
   "id": "d82cb3d6-14ae-4df7-8c54-169f0ec40698",
   "metadata": {},
   "outputs": [],
   "source": [
    "welcome()"
   ]
  },
  {
   "cell_type": "code",
   "execution_count": null,
   "id": "438791ba-ac6e-4cc7-85e3-0c705820e796",
   "metadata": {},
   "outputs": [],
   "source": [
    "study()"
   ]
  },
  {
   "cell_type": "code",
   "execution_count": null,
   "id": "ba00d020-1c84-4b67-84dd-148c4c0d1a51",
   "metadata": {},
   "outputs": [],
   "source": [
    "#noraml function\n",
    "\n",
    "def studyhard(result):\n",
    "    print(f\"my this class grade is {result}%\")\n",
    "\n",
    "studyhard(90)"
   ]
  },
  {
   "cell_type": "code",
   "execution_count": null,
   "id": "c5b79dc8-09ae-4265-b57a-bce0377aaa5d",
   "metadata": {},
   "outputs": [],
   "source": [
    "#arguments in nested func\n",
    "def subjects(original_function):\n",
    "    def student():\n",
    "        print(\"Ayaan is learning maths\")\n",
    "        original_function()\n",
    "        print(\"*******Ayaan is also learning another subjects********\")\n",
    "    return student"
   ]
  },
  {
   "cell_type": "code",
   "execution_count": null,
   "id": "055a64de-e1f3-4be8-8ddb-dddd99281a0f",
   "metadata": {},
   "outputs": [],
   "source": [
    "# Decorated Function \n",
    "@subjects #subjects(study)\n",
    "def studyhard(result): #subjects function returns the student function, which will now replace studyhard when you call studyhard(90)\n",
    "    print(f\"my this class result is {result}%\")\n",
    "studyhard(90)"
   ]
  },
  {
   "cell_type": "code",
   "execution_count": null,
   "id": "2b7fc09c-fd97-4e5c-acbb-2fc3c999e11e",
   "metadata": {},
   "outputs": [],
   "source": [
    "# Decorator Function\n",
    "def subjects(original_function):\n",
    "    def student(args):\n",
    "        print(\"Ayaan is learning maths\")\n",
    "        original_function(args)\n",
    "        print(\"Ayaan is also learning another subjects\")\n",
    "    return student"
   ]
  },
  {
   "cell_type": "code",
   "execution_count": null,
   "id": "e70f1800-d356-4d03-8d6a-ef43d83dd053",
   "metadata": {},
   "outputs": [],
   "source": [
    "# Decorated Function\n",
    "@subjects\n",
    "def studyhard(result):\n",
    "    print(f\"my this class grade is {result}%\")\n",
    "studyhard(90)"
   ]
  },
  {
   "cell_type": "code",
   "execution_count": null,
   "id": "b6a00690-0eea-42a4-97f5-48d77c4cfa01",
   "metadata": {},
   "outputs": [],
   "source": [
    "def subjects(original_function):\n",
    "    def student(args):\n",
    "        print(\"Ayaan is learning maths\")\n",
    "        original_function()\n",
    "        print(\"Ayaan is also learning another subjects\")\n",
    "    return student"
   ]
  },
  {
   "cell_type": "code",
   "execution_count": null,
   "id": "b1042ab6-7a8f-4f71-aebc-9eeef4e8abe2",
   "metadata": {},
   "outputs": [],
   "source": [
    "@subjects\n",
    "def studyhard(result):\n",
    "    print(f\"my this class grade is {result}%\")\n",
    "studyhard(90)"
   ]
  },
  {
   "cell_type": "code",
   "execution_count": null,
   "id": "eccff651-d913-455b-b4d1-c520a1120dbd",
   "metadata": {},
   "outputs": [],
   "source": [
    "# Decorator Function\n",
    "def subjects(original_function):\n",
    "    def student(arg):\n",
    "        print(\"Ayaan is learning maths\")\n",
    "        original_function(arg)\n",
    "        print(\"Ayaan is also learning another subjects\")\n",
    "    return student\n",
    "\n",
    "\n"
   ]
  },
  {
   "cell_type": "code",
   "execution_count": null,
   "id": "31670446-0db1-496a-90e8-59befb26af96",
   "metadata": {},
   "outputs": [],
   "source": [
    "# Decorated Function\n",
    "@subjects\n",
    "def study(result, per):\n",
    "    print(f\"my this class grade is {result}% and next time InshaAllah will get{per}%\")\n",
    "study(90,99)"
   ]
  },
  {
   "cell_type": "code",
   "execution_count": null,
   "id": "d009c072-5c6b-4866-891a-b84e9af62501",
   "metadata": {},
   "outputs": [],
   "source": [
    "# Decorator Function\n",
    "def subjects(original_function):\n",
    "    def student(*args):\n",
    "        print(\"Ayaan is learning maths\")\n",
    "        original_function(*args)\n",
    "        print(\"Ayaan is also learning another subjects\")\n",
    "    return student"
   ]
  },
  {
   "cell_type": "code",
   "execution_count": null,
   "id": "78056c88-5233-4ffa-ac12-4c8169a56812",
   "metadata": {},
   "outputs": [],
   "source": [
    "# Decorated Function\n",
    "@subjects\n",
    "def study(result, per):\n",
    "    print(f\"my this class grade is {result}% and next time InshaAllah will get {per}%\")\n",
    "study(90,99)"
   ]
  },
  {
   "cell_type": "code",
   "execution_count": null,
   "id": "7ecbb044-31c6-4147-b08c-5c684530c592",
   "metadata": {},
   "outputs": [],
   "source": [
    "study(result = 70, per = 80)"
   ]
  },
  {
   "cell_type": "code",
   "execution_count": null,
   "id": "15943672-b5a5-40c3-87ed-aa350f21098b",
   "metadata": {},
   "outputs": [],
   "source": [
    "# Decorator Function\n",
    "def subjects(original_function):\n",
    "    def student(*args,**kwargs):\n",
    "        print(\"Ayaan is learning maths\")\n",
    "        original_function(*args,**kwargs)\n",
    "        print(\"Ayaan is also learning another subjects\")\n",
    "    return student"
   ]
  },
  {
   "cell_type": "code",
   "execution_count": null,
   "id": "5ea1903d-6bca-4015-aab3-6f482fcb3c90",
   "metadata": {},
   "outputs": [],
   "source": [
    "# Decorated Function\n",
    "@subjects\n",
    "def study(result, per):\n",
    "    print(f\"my this class grade is {result}% and next time InshaAllah will get {per}%\")\n",
    "study(90,99) # Positional argument"
   ]
  },
  {
   "cell_type": "code",
   "execution_count": null,
   "id": "8ab21a7d-6f5c-4812-9b83-9ba8b2b6a230",
   "metadata": {},
   "outputs": [],
   "source": [
    "study(result = 70, per = 80) # Keywords argument"
   ]
  },
  {
   "cell_type": "code",
   "execution_count": null,
   "id": "46d676a5-22cc-4a8b-8051-6771e1bb6f31",
   "metadata": {},
   "outputs": [],
   "source": [
    "# Decorator Function\n",
    "def subjects(original_function):\n",
    "    def student(*args,**kwargs):\n",
    "        print(\"Ayaan is learning maths\")\n",
    "        original_function(*args,**kwargs)\n",
    "        print(\"Ayaan is also learning another subjects\")\n",
    "    return student"
   ]
  },
  {
   "cell_type": "code",
   "execution_count": null,
   "id": "6fc4d3a0-df27-45c6-b56b-18bc768a23c1",
   "metadata": {},
   "outputs": [],
   "source": [
    "# Decorated Function\n",
    "@subjects\n",
    "def study(result, per):\n",
    "    print(f\"my this class grade is {result}% and next time InshaAllah will get {per}%\")"
   ]
  },
  {
   "cell_type": "code",
   "execution_count": null,
   "id": "0257d7f3-aed4-46f0-982d-2f2f6234594d",
   "metadata": {},
   "outputs": [],
   "source": [
    "# one keyword and one positional argument\n",
    "study(70, per=80)"
   ]
  },
  {
   "cell_type": "code",
   "execution_count": null,
   "id": "b9299e74-2804-40d1-b009-23e6ba409583",
   "metadata": {},
   "outputs": [],
   "source": [
    "study(result=70, 80)"
   ]
  },
  {
   "cell_type": "code",
   "execution_count": null,
   "id": "7174fc2c-d1ca-4b61-bc16-0b399eeca35f",
   "metadata": {},
   "outputs": [],
   "source": [
    "study(22,22,22)"
   ]
  },
  {
   "cell_type": "markdown",
   "id": "acb1d6ee-5d19-48eb-a8b4-5dcdd4ed150f",
   "metadata": {},
   "source": [
    "## Error Handling"
   ]
  },
  {
   "cell_type": "markdown",
   "id": "f88d5496-6f0a-411a-b7b6-8763f5b1dd22",
   "metadata": {},
   "source": [
    "### try, except, else, finally"
   ]
  },
  {
   "cell_type": "code",
   "execution_count": null,
   "id": "a0bb2b1e-e310-42f3-990d-c0a3bfb451f4",
   "metadata": {},
   "outputs": [],
   "source": [
    "print(2/0)"
   ]
  },
  {
   "cell_type": "code",
   "execution_count": null,
   "id": "c1b1357c-97fa-49b8-9f13-38f311077565",
   "metadata": {},
   "outputs": [],
   "source": [
    "try:                   #provide multiple logic in try block\n",
    "    print(2/0)\n",
    "except:\n",
    "    print('cannot divide by zero')"
   ]
  },
  {
   "cell_type": "code",
   "execution_count": null,
   "id": "b3fc7c36-81c1-4739-9820-3f134bb3af3c",
   "metadata": {},
   "outputs": [],
   "source": [
    "try:                   #provide multiple logic in try block\n",
    "    print(2/5)\n",
    "except:\n",
    "    print('cannot divide by zero')"
   ]
  },
  {
   "cell_type": "code",
   "execution_count": null,
   "id": "29eea5c4-365d-4742-9f93-905677038edf",
   "metadata": {},
   "outputs": [],
   "source": [
    "print(2/4)\n",
    "\n",
    "try:\n",
    "    print(2/0)\n",
    "except ZeroDivisionError:\n",
    "    print('error')\n",
    "\n",
    "print(2/2)"
   ]
  },
  {
   "cell_type": "code",
   "execution_count": null,
   "id": "528d7efc-9f94-4f04-a952-3b6fcf468e21",
   "metadata": {},
   "outputs": [],
   "source": [
    "try:\n",
    "    x = int(input('Enter Number: '))\n",
    "    print('valid number')\n",
    "except ValueError:\n",
    "    print('invalid number')"
   ]
  },
  {
   "cell_type": "code",
   "execution_count": 1,
   "id": "cd0da9b9-6598-4e78-bb1a-dd339bc10908",
   "metadata": {},
   "outputs": [
    {
     "name": "stdin",
     "output_type": "stream",
     "text": [
      "Enter Number:  a\n"
     ]
    },
    {
     "ename": "NameError",
     "evalue": "name 'valueerror' is not defined",
     "output_type": "error",
     "traceback": [
      "\u001b[1;31m---------------------------------------------------------------------------\u001b[0m",
      "\u001b[1;31mValueError\u001b[0m                                Traceback (most recent call last)",
      "Cell \u001b[1;32mIn[1], line 2\u001b[0m\n\u001b[0;32m      1\u001b[0m \u001b[38;5;28;01mtry\u001b[39;00m:\n\u001b[1;32m----> 2\u001b[0m     x \u001b[38;5;241m=\u001b[39m \u001b[38;5;28mint\u001b[39m(\u001b[38;5;28minput\u001b[39m(\u001b[38;5;124m'\u001b[39m\u001b[38;5;124mEnter Number: \u001b[39m\u001b[38;5;124m'\u001b[39m))\n\u001b[0;32m      3\u001b[0m     \u001b[38;5;28mprint\u001b[39m(\u001b[38;5;124m'\u001b[39m\u001b[38;5;124mvalid number\u001b[39m\u001b[38;5;124m'\u001b[39m)\n",
      "\u001b[1;31mValueError\u001b[0m: invalid literal for int() with base 10: 'a'",
      "\nDuring handling of the above exception, another exception occurred:\n",
      "\u001b[1;31mNameError\u001b[0m                                 Traceback (most recent call last)",
      "Cell \u001b[1;32mIn[1], line 4\u001b[0m\n\u001b[0;32m      2\u001b[0m     x \u001b[38;5;241m=\u001b[39m \u001b[38;5;28mint\u001b[39m(\u001b[38;5;28minput\u001b[39m(\u001b[38;5;124m'\u001b[39m\u001b[38;5;124mEnter Number: \u001b[39m\u001b[38;5;124m'\u001b[39m))\n\u001b[0;32m      3\u001b[0m     \u001b[38;5;28mprint\u001b[39m(\u001b[38;5;124m'\u001b[39m\u001b[38;5;124mvalid number\u001b[39m\u001b[38;5;124m'\u001b[39m)\n\u001b[1;32m----> 4\u001b[0m \u001b[38;5;28;01mexcept\u001b[39;00m valueerror:\n\u001b[0;32m      5\u001b[0m     \u001b[38;5;28mprint\u001b[39m(\u001b[38;5;124m'\u001b[39m\u001b[38;5;124minvalid number\u001b[39m\u001b[38;5;124m'\u001b[39m)\n",
      "\u001b[1;31mNameError\u001b[0m: name 'valueerror' is not defined"
     ]
    }
   ],
   "source": [
    "try:\n",
    "    x = int(input('Enter Number: '))\n",
    "    print('valid number')\n",
    "except valueerror:\n",
    "    print('invalid number')"
   ]
  },
  {
   "cell_type": "code",
   "execution_count": 2,
   "id": "dfa5ad5a-2548-4306-b9fd-54c6ac94bd79",
   "metadata": {},
   "outputs": [
    {
     "name": "stdin",
     "output_type": "stream",
     "text": [
      "Enter a number:  2\n"
     ]
    },
    {
     "name": "stdout",
     "output_type": "stream",
     "text": [
      "Result: 5.0\n"
     ]
    }
   ],
   "source": [
    "try: \n",
    "    x = int(input(\"Enter a number: \"))\n",
    "    y = 10 / x\n",
    "    print(f\"Result: {y}\")\n",
    "except ZeroDivisionError:           #more than one exception\n",
    "    print('cannot divide by zero')\n",
    "except ValueError:\n",
    "    print('invalid number')"
   ]
  },
  {
   "cell_type": "code",
   "execution_count": 3,
   "id": "27a51a3f-de64-4741-9b5a-659e060093b0",
   "metadata": {},
   "outputs": [
    {
     "name": "stdin",
     "output_type": "stream",
     "text": [
      "Enter a number:  0\n"
     ]
    },
    {
     "name": "stdout",
     "output_type": "stream",
     "text": [
      "cannot divide by zero\n"
     ]
    }
   ],
   "source": [
    "try: \n",
    "    x = int(input(\"Enter a number: \"))\n",
    "    y = 10 / x\n",
    "    print(f\"Result: {y}\")\n",
    "except ZeroDivisionError:           #more than one exception\n",
    "    print('cannot divide by zero')\n",
    "except ValueError:\n",
    "    print('invalid number')"
   ]
  },
  {
   "cell_type": "code",
   "execution_count": 5,
   "id": "c9030296-986f-4a89-9cc1-286f7312e6fe",
   "metadata": {},
   "outputs": [
    {
     "name": "stdin",
     "output_type": "stream",
     "text": [
      "Enter a number:  abc\n"
     ]
    },
    {
     "name": "stdout",
     "output_type": "stream",
     "text": [
      "invalid input: invalid literal for int() with base 10: 'abc'\n"
     ]
    }
   ],
   "source": [
    "try:\n",
    "    x = int(input(\"Enter a number: \"))\n",
    "    y = 10 / x\n",
    "    print(f\"Result: {y}\")\n",
    "except Exception as error: #used to hanlde python built-in exceptions #alias\n",
    "    print('invalid input:', error)"
   ]
  },
  {
   "cell_type": "code",
   "execution_count": 6,
   "id": "a2ad7ed4-f3bd-4063-a54e-5bc30bbb0bea",
   "metadata": {},
   "outputs": [
    {
     "name": "stdin",
     "output_type": "stream",
     "text": [
      "Enter a number:  abc\n"
     ]
    },
    {
     "name": "stdout",
     "output_type": "stream",
     "text": [
      "An unexpected error occurred: <class 'Exception'>\n"
     ]
    }
   ],
   "source": [
    "try:\n",
    "    x = int(input(\"Enter a number: \"))\n",
    "    y = 10 / x\n",
    "    print(f\"Result: {y}\")\n",
    "except Exception:\n",
    "    print(f\"An unexpected error occurred: {Exception}\")"
   ]
  },
  {
   "cell_type": "code",
   "execution_count": null,
   "id": "433ff71a-ba74-4931-9b28-b3f063c0c967",
   "metadata": {},
   "outputs": [],
   "source": [
    "try:\n",
    "    x = int(input(\"Enter a number: \"))\n",
    "    y = 10 / x\n",
    "    print(f\"Result: {y}\")\n",
    "except Exception as error:\n",
    "    print(f\"An unexpected error occurred: {error}\")"
   ]
  },
  {
   "cell_type": "code",
   "execution_count": 7,
   "id": "27fee6c9-0b79-42e7-a23e-8e75cbc5890d",
   "metadata": {},
   "outputs": [
    {
     "name": "stdin",
     "output_type": "stream",
     "text": [
      "Enter a number:  abc\n"
     ]
    },
    {
     "name": "stdout",
     "output_type": "stream",
     "text": [
      "That's not a valid number!\n"
     ]
    }
   ],
   "source": [
    "try:\n",
    "    number = int(input(\"Enter a number: \"))\n",
    "except ValueError:\n",
    "    print(\"That's not a valid number!\")\n",
    "else: #optional\n",
    "    print(f\"You entered the number: {number}\")"
   ]
  },
  {
   "cell_type": "code",
   "execution_count": 8,
   "id": "79a5ff33-25f1-44da-bb3f-f84c6d2ac48f",
   "metadata": {},
   "outputs": [
    {
     "name": "stdin",
     "output_type": "stream",
     "text": [
      "Enter a number:  22\n"
     ]
    },
    {
     "name": "stdout",
     "output_type": "stream",
     "text": [
      "You entered the number: 22\n"
     ]
    }
   ],
   "source": [
    "try:\n",
    "    number = int(input(\"Enter a number: \"))\n",
    "except ValueError:\n",
    "    print(\"That's not a valid number!\")\n",
    "else: #optional\n",
    "    print(f\"You entered the number: {number}\")"
   ]
  },
  {
   "cell_type": "code",
   "execution_count": 9,
   "id": "e6b47f9e-bea7-4890-84b4-d45748efaff4",
   "metadata": {},
   "outputs": [
    {
     "name": "stdin",
     "output_type": "stream",
     "text": [
      "Enter a number:  11\n"
     ]
    },
    {
     "name": "stdout",
     "output_type": "stream",
     "text": [
      "You entered the number: 11\n"
     ]
    }
   ],
   "source": [
    "try:\n",
    "    number = int(input(\"Enter a number: \"))\n",
    "    print(f\"You entered the number: {number}\") #without else\n",
    "except ValueError:\n",
    "    print(\"That's not a valid number!\")\n",
    "# else: #optional\n",
    "#     print(f\"You entered the number: {number}\")"
   ]
  },
  {
   "cell_type": "code",
   "execution_count": 10,
   "id": "376ba87f-4002-4a20-9968-19b3599b247e",
   "metadata": {},
   "outputs": [
    {
     "name": "stdin",
     "output_type": "stream",
     "text": [
      "Enter a number:  11\n"
     ]
    },
    {
     "name": "stdout",
     "output_type": "stream",
     "text": [
      "You entered the number: 11\n",
      "Thanks for using this app\n"
     ]
    }
   ],
   "source": [
    "try:\n",
    "    number = int(input(\"Enter a number: \"))\n",
    "except ValueError:\n",
    "    print(\"That's not a valid number!\")\n",
    "else: #optional\n",
    "    print(f\"You entered the number: {number}\")\n",
    "finally:\n",
    "    print('Thanks for using this app')"
   ]
  },
  {
   "cell_type": "code",
   "execution_count": 16,
   "id": "5f19b163-c74c-4e63-91da-908086d2d61d",
   "metadata": {},
   "outputs": [
    {
     "name": "stdin",
     "output_type": "stream",
     "text": [
      "enter first num: aa\n"
     ]
    },
    {
     "name": "stdout",
     "output_type": "stream",
     "text": [
      "please enter valid number\n",
      "thank you\n"
     ]
    }
   ],
   "source": [
    "# Write a program to handle division of two numbers\n",
    "\n",
    "try:\n",
    "    x = int(input('enter first num:' ))\n",
    "    y = int(input('enter 2nd num:' ))\n",
    "\n",
    "    result = x/y\n",
    "    \n",
    "except ZeroDivisionError:\n",
    "    print('cannot divide by zero')\n",
    "except ValueError:\n",
    "    print('please enter valid number')\n",
    "else:\n",
    "    print(f'your answer is {result}')\n",
    "finally:\n",
    "    print('thank you')"
   ]
  },
  {
   "cell_type": "markdown",
   "id": "ba1e6df8-940b-4a47-8228-cc070c392147",
   "metadata": {},
   "source": [
    "Write a program that checks if a number is even or odd. \n",
    "If the user inputs a non-numeric value, display an error message. \n",
    "If the number is even, print \"Even\", otherwise print \"Odd\". Finally, always print \"Check complete\"."
   ]
  },
  {
   "cell_type": "markdown",
   "id": "1b917ce1-a674-4a12-9f22-f40c628e9727",
   "metadata": {},
   "source": [
    "Write a program that asks the user for an index and tries to access that index in a predefined list. Handle IndexError if the user enters an index that doesn't exist, and handle ValueError if the user inputs a non-numeric value."
   ]
  },
  {
   "cell_type": "code",
   "execution_count": null,
   "id": "039ad460-d572-40c1-b7d3-43751070a52f",
   "metadata": {},
   "outputs": [],
   "source": [
    "lst = [10,20,30,40,50,60]"
   ]
  },
  {
   "cell_type": "markdown",
   "id": "4837ac6d-9935-42ef-858e-9a5cb9c2944c",
   "metadata": {},
   "source": [
    "Write a program that checks if a number is divisble by 5. If the user inputs a non-numeric value, display an error message. If the number is divisble by 5, print \"number is divisble\", otherwise print \"not divisible\". Finally, always print \"Check complete"
   ]
  },
  {
   "cell_type": "code",
   "execution_count": null,
   "id": "ea8baf58-997d-4a32-ba57-174f8492e52d",
   "metadata": {},
   "outputs": [],
   "source": []
  },
  {
   "cell_type": "code",
   "execution_count": null,
   "id": "95a78226-092d-4c68-b080-6a615ef19422",
   "metadata": {},
   "outputs": [],
   "source": []
  },
  {
   "cell_type": "code",
   "execution_count": null,
   "id": "888f3aa4-9c88-46ab-9f08-2c977b8471e5",
   "metadata": {},
   "outputs": [],
   "source": []
  },
  {
   "cell_type": "code",
   "execution_count": null,
   "id": "97282e7c-684a-4de2-af12-9cbecd92c124",
   "metadata": {},
   "outputs": [],
   "source": []
  },
  {
   "cell_type": "code",
   "execution_count": null,
   "id": "217cb1fa-fefa-406d-9e6e-fb884aad72c6",
   "metadata": {},
   "outputs": [],
   "source": []
  },
  {
   "cell_type": "code",
   "execution_count": null,
   "id": "e7f5f93f-2010-4ce5-aebf-6c7779333a92",
   "metadata": {},
   "outputs": [],
   "source": []
  },
  {
   "cell_type": "code",
   "execution_count": null,
   "id": "b08fe596-a089-4097-aff4-baebb5ec5cf8",
   "metadata": {},
   "outputs": [],
   "source": []
  },
  {
   "cell_type": "code",
   "execution_count": null,
   "id": "bacf9b0b-617b-4a39-8132-a41e98fe608f",
   "metadata": {},
   "outputs": [],
   "source": []
  },
  {
   "cell_type": "code",
   "execution_count": null,
   "id": "b39c5798-ee7a-4fbd-b2f4-f3ed420df7c6",
   "metadata": {},
   "outputs": [],
   "source": []
  },
  {
   "cell_type": "code",
   "execution_count": null,
   "id": "23c2d2ff-500e-4669-b088-f507ca5ebb64",
   "metadata": {},
   "outputs": [],
   "source": []
  },
  {
   "cell_type": "code",
   "execution_count": null,
   "id": "bc341c66-74d8-4f85-885b-d67c8edd6508",
   "metadata": {},
   "outputs": [],
   "source": []
  },
  {
   "cell_type": "code",
   "execution_count": null,
   "id": "3eb8f85f-072a-4154-b691-1b1e16c49561",
   "metadata": {},
   "outputs": [],
   "source": []
  },
  {
   "cell_type": "code",
   "execution_count": null,
   "id": "c042f2dc-5657-49e2-8e7b-6267cc417241",
   "metadata": {},
   "outputs": [],
   "source": []
  },
  {
   "cell_type": "code",
   "execution_count": null,
   "id": "c7bef52f-65e4-4d5d-9933-e145a00c93f3",
   "metadata": {},
   "outputs": [],
   "source": []
  },
  {
   "cell_type": "code",
   "execution_count": null,
   "id": "b11aa048-1ec1-4f73-81f6-3c45ac0f5624",
   "metadata": {},
   "outputs": [],
   "source": []
  },
  {
   "cell_type": "code",
   "execution_count": null,
   "id": "13de388c-4a63-4a6b-890f-704f46d47619",
   "metadata": {},
   "outputs": [],
   "source": []
  },
  {
   "cell_type": "code",
   "execution_count": null,
   "id": "b0054895-d7a5-402b-bad5-808624b2a587",
   "metadata": {},
   "outputs": [],
   "source": []
  },
  {
   "cell_type": "code",
   "execution_count": null,
   "id": "966750b8-18fa-42fa-8e16-ae2a879adde7",
   "metadata": {},
   "outputs": [],
   "source": []
  },
  {
   "cell_type": "code",
   "execution_count": null,
   "id": "a34f6321-a769-40b6-ba97-b3ae102a1b1b",
   "metadata": {},
   "outputs": [],
   "source": []
  },
  {
   "cell_type": "code",
   "execution_count": null,
   "id": "d855e0ba-00bc-49cc-b91b-a63a6b561b5c",
   "metadata": {},
   "outputs": [],
   "source": []
  },
  {
   "cell_type": "code",
   "execution_count": null,
   "id": "0a4a9958-de9e-4e78-8481-73096d1e6937",
   "metadata": {},
   "outputs": [],
   "source": []
  },
  {
   "cell_type": "code",
   "execution_count": null,
   "id": "ec5b615c-0be7-475e-b56d-19e84809b923",
   "metadata": {},
   "outputs": [],
   "source": []
  },
  {
   "cell_type": "code",
   "execution_count": null,
   "id": "3ef9157b-e404-416c-87c5-759efb613ce0",
   "metadata": {},
   "outputs": [],
   "source": []
  },
  {
   "cell_type": "code",
   "execution_count": null,
   "id": "2ed4dc44-1b69-424e-803e-15b16aa7b315",
   "metadata": {},
   "outputs": [],
   "source": []
  },
  {
   "cell_type": "code",
   "execution_count": null,
   "id": "2e0ba85a-2095-4df9-93fa-8f79627bbfbd",
   "metadata": {},
   "outputs": [],
   "source": []
  },
  {
   "cell_type": "code",
   "execution_count": null,
   "id": "823c7628-169f-4585-adea-0b6681826b7d",
   "metadata": {},
   "outputs": [],
   "source": []
  },
  {
   "cell_type": "code",
   "execution_count": null,
   "id": "5254f963-66a5-4ec6-b7b6-6f0fda307b05",
   "metadata": {},
   "outputs": [],
   "source": []
  },
  {
   "cell_type": "code",
   "execution_count": null,
   "id": "64969f3e-aee3-4ce9-ae22-dd66e57ec605",
   "metadata": {},
   "outputs": [],
   "source": []
  },
  {
   "cell_type": "code",
   "execution_count": null,
   "id": "a85147cb-d7e8-4103-a9bc-391a8a7c77c6",
   "metadata": {},
   "outputs": [],
   "source": []
  },
  {
   "cell_type": "code",
   "execution_count": null,
   "id": "f5cb122b-e248-45b7-8b58-1c37e5b9b390",
   "metadata": {},
   "outputs": [],
   "source": []
  },
  {
   "cell_type": "code",
   "execution_count": null,
   "id": "48f37e52-8126-4a68-82d8-3219d4d675ea",
   "metadata": {},
   "outputs": [],
   "source": []
  },
  {
   "cell_type": "code",
   "execution_count": null,
   "id": "6d7182bf-91f8-45e9-9496-f44df38c680d",
   "metadata": {},
   "outputs": [],
   "source": []
  },
  {
   "cell_type": "code",
   "execution_count": null,
   "id": "0f0b207e-c3e1-49cb-ab84-3a1469be17b3",
   "metadata": {},
   "outputs": [],
   "source": []
  },
  {
   "cell_type": "code",
   "execution_count": null,
   "id": "aa82f3e0-713c-47ab-9b02-043431ee28b6",
   "metadata": {},
   "outputs": [],
   "source": []
  },
  {
   "cell_type": "code",
   "execution_count": null,
   "id": "85a511be-6fcc-48a5-9cbc-45f2e1b5d0e5",
   "metadata": {},
   "outputs": [],
   "source": []
  },
  {
   "cell_type": "code",
   "execution_count": null,
   "id": "ee685393-cf18-4ba0-bbc6-8e1ce91b5917",
   "metadata": {},
   "outputs": [],
   "source": []
  },
  {
   "cell_type": "code",
   "execution_count": null,
   "id": "b77264f2-0b8d-4fb3-8518-04fafa0f2a9a",
   "metadata": {},
   "outputs": [],
   "source": [
    "try:\n",
    "    number = int(input(\"Enter a number: \"))\n",
    "    \n",
    "    if number % 2 == 0:\n",
    "        print(\"Even\")\n",
    "    else:\n",
    "        print(\"Odd\")\n",
    "except ValueError:\n",
    "    print(\"Error: Please enter a valid integer.\")\n",
    "finally:\n",
    "    print(\"Check complete.\")\n"
   ]
  },
  {
   "cell_type": "code",
   "execution_count": null,
   "id": "1662d83a-599b-4e9c-90bd-485d644a59c5",
   "metadata": {},
   "outputs": [],
   "source": [
    "my_list = [10, 20, 30, 40, 50]\n",
    "\n",
    "try:\n",
    "    index = int(input(\"Enter the index to access from the list: \"))\n",
    "    print(f\"The value at index {index} is {my_list[index]}\")\n",
    "except Exception as e:\n",
    "    print(\"error:\", e)\n",
    "except ValueError:\n",
    "    print(\"Error: Please enter a valid integer.\")\n",
    "finally:\n",
    "    print(\"Index access operation completed.\")"
   ]
  },
  {
   "cell_type": "code",
   "execution_count": null,
   "id": "689e50bb-4dff-408f-9548-0ec8bce2dafb",
   "metadata": {},
   "outputs": [],
   "source": []
  }
 ],
 "metadata": {
  "kernelspec": {
   "display_name": "Python 3 (ipykernel)",
   "language": "python",
   "name": "python3"
  },
  "language_info": {
   "codemirror_mode": {
    "name": "ipython",
    "version": 3
   },
   "file_extension": ".py",
   "mimetype": "text/x-python",
   "name": "python",
   "nbconvert_exporter": "python",
   "pygments_lexer": "ipython3",
   "version": "3.12.7"
  }
 },
 "nbformat": 4,
 "nbformat_minor": 5
}
