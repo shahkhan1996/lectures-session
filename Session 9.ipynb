{
 "cells": [
  {
   "cell_type": "code",
   "execution_count": null,
   "id": "8b65c8ab-9761-427b-9d23-f09a4c7c90b7",
   "metadata": {},
   "outputs": [],
   "source": []
  },
  {
   "cell_type": "code",
   "execution_count": null,
   "id": "ccfd57b4-d7f4-4a69-a69d-dfd7e4f116ef",
   "metadata": {},
   "outputs": [],
   "source": [
    "# Concatenation\n",
    "a = (1,3)\n",
    "b = (4,6)\n"
   ]
  },
  {
   "cell_type": "code",
   "execution_count": null,
   "id": "3a8b1329-bf0d-4d76-8540-37178c63fc57",
   "metadata": {},
   "outputs": [],
   "source": [
    "# Repetition\n",
    "a=(1,2,3)*2\n",
    "a"
   ]
  },
  {
   "cell_type": "code",
   "execution_count": null,
   "id": "b7d8f60d-b4d7-443f-b13e-b5ee90270f5d",
   "metadata": {},
   "outputs": [],
   "source": [
    "#immutability\n",
    "# a=(1,2,4,5)\n",
    "# a[1]='abc'\n"
   ]
  },
  {
   "cell_type": "code",
   "execution_count": null,
   "id": "c52eb587-7867-4fdc-af5b-f4de5341dee0",
   "metadata": {},
   "outputs": [],
   "source": [
    "#Access List\n",
    "# a=(1,2,4,5,[1,2,4])\n",
    "# a[4][1]='abc'"
   ]
  },
  {
   "cell_type": "code",
   "execution_count": null,
   "id": "fca6acba-a4f5-4263-98c0-788dcf1dd9bd",
   "metadata": {},
   "outputs": [],
   "source": [
    "#nested tuple\n",
    "# nested_tuple = (1, (2, 3), (4, 5, 6))"
   ]
  },
  {
   "cell_type": "code",
   "execution_count": null,
   "id": "c91e31f0-4658-4244-bc0b-78b8f372a488",
   "metadata": {},
   "outputs": [],
   "source": []
  },
  {
   "cell_type": "code",
   "execution_count": null,
   "id": "681b16c5-b6a6-4917-88c9-c13881e4ad3f",
   "metadata": {},
   "outputs": [],
   "source": []
  },
  {
   "cell_type": "code",
   "execution_count": null,
   "id": "7328d146-89be-45e3-bb13-39a8d33669f3",
   "metadata": {},
   "outputs": [],
   "source": []
  },
  {
   "cell_type": "code",
   "execution_count": null,
   "id": "a211c40c-917c-4fe3-9e9d-bb0914b060f6",
   "metadata": {},
   "outputs": [],
   "source": []
  },
  {
   "cell_type": "code",
   "execution_count": null,
   "id": "c5c1c064-e91f-44ab-9361-824cb3dbbf7b",
   "metadata": {},
   "outputs": [],
   "source": []
  },
  {
   "cell_type": "code",
   "execution_count": null,
   "id": "f6818408-dc22-491c-be23-0f9cb7db6367",
   "metadata": {},
   "outputs": [],
   "source": []
  },
  {
   "cell_type": "code",
   "execution_count": null,
   "id": "f0ac7f54-77c4-49ec-99fc-1d9ae79e5317",
   "metadata": {},
   "outputs": [],
   "source": []
  },
  {
   "cell_type": "markdown",
   "id": "cfaeea8e-c336-4efa-a9fd-f72a903b3058",
   "metadata": {},
   "source": [
    "### Dictionary {key:value}\n",
    "\n",
    "In Python, a dictionary is an unordered, mutable collection of key-value pairs. It is one of the most versatile data structures in Python, allowing you to efficiently store and retrieve data based on custom keys."
   ]
  },
  {
   "cell_type": "code",
   "execution_count": null,
   "id": "077a9e47-5853-464f-adda-a12124b063d7",
   "metadata": {},
   "outputs": [],
   "source": [
    "#unordered\n",
    "#mutable\n",
    "#indexed by key\n",
    "#no duplicates"
   ]
  },
  {
   "cell_type": "code",
   "execution_count": null,
   "id": "948f7095-adee-44db-b3e7-5bcbdda585dd",
   "metadata": {},
   "outputs": [],
   "source": [
    "my_dict = {\n",
    "    \"name\": \"Alice\",\n",
    "    \"age\": 25,\n",
    "    \"city\": \"New York\"\n",
    "}\n",
    "my_dict"
   ]
  },
  {
   "cell_type": "code",
   "execution_count": null,
   "id": "f526bf10-7a38-419f-a918-b70df48eb1fc",
   "metadata": {},
   "outputs": [],
   "source": []
  },
  {
   "cell_type": "code",
   "execution_count": null,
   "id": "84e47ec8-ec83-4572-a43e-5afa77912de8",
   "metadata": {},
   "outputs": [],
   "source": []
  },
  {
   "cell_type": "code",
   "execution_count": null,
   "id": "f3f2f363-9e60-47e0-af51-7a4e027cd909",
   "metadata": {},
   "outputs": [],
   "source": []
  },
  {
   "cell_type": "code",
   "execution_count": null,
   "id": "ada42e6f-8f83-4379-92a8-ee96bf3f62da",
   "metadata": {},
   "outputs": [],
   "source": [
    "#indexed by key\n",
    "# Unlike lists, which are indexed by numbers, dictionaries use keys to access values.\n"
   ]
  },
  {
   "cell_type": "code",
   "execution_count": null,
   "id": "b18f3cc2-e9af-4822-9c0d-bf40a8ee1ee9",
   "metadata": {},
   "outputs": [],
   "source": [
    "#no duplicates\n",
    "# Each key in a dictionary must be unique, but different keys can have the same value.\n"
   ]
  },
  {
   "cell_type": "code",
   "execution_count": null,
   "id": "27a6ff07-e89b-4782-a914-40bcc2205811",
   "metadata": {},
   "outputs": [],
   "source": [
    "my_dict = {\n",
    "    \"name\": \"Alice\",\n",
    "    \"age\": 25,\n",
    "    \"city\": \"New York\"\n",
    "}\n",
    "my_dict"
   ]
  },
  {
   "cell_type": "code",
   "execution_count": null,
   "id": "bad25b3f-36a5-4c3a-8ef6-28cd8140ae59",
   "metadata": {},
   "outputs": [],
   "source": [
    "# Accessing Values in a Dictionary\n",
    "my_dict['name']"
   ]
  },
  {
   "cell_type": "code",
   "execution_count": null,
   "id": "b409950c-5666-4c01-8c12-00ecde682bfd",
   "metadata": {},
   "outputs": [],
   "source": [
    "#Modifying a Dictionary\n",
    "my_dict['email']='abc@gmail.com'\n",
    "my_dict"
   ]
  },
  {
   "cell_type": "code",
   "execution_count": null,
   "id": "0c4ad7f3-6c82-4647-ab9b-5ede93b5db80",
   "metadata": {},
   "outputs": [],
   "source": [
    "my_dict['age']=33\n",
    "my_dict"
   ]
  },
  {
   "cell_type": "code",
   "execution_count": null,
   "id": "6ab1b12d-21fa-45bd-b66a-efd5ff062f9a",
   "metadata": {},
   "outputs": [],
   "source": [
    "len(my_dict)"
   ]
  },
  {
   "cell_type": "code",
   "execution_count": null,
   "id": "f9ddc49f-fadd-4f58-915d-8d7cdad23b9d",
   "metadata": {},
   "outputs": [],
   "source": [
    "dir(my_dict)"
   ]
  },
  {
   "cell_type": "code",
   "execution_count": null,
   "id": "342447c3-d1da-43d0-9f30-c9ff9764840d",
   "metadata": {},
   "outputs": [],
   "source": [
    "my_dict = {\n",
    "    \"name\": \"Alice\",\n",
    "    \"age\": 25,\n",
    "    \"city\": \"New York\"\n",
    "}\n",
    "my_dict"
   ]
  },
  {
   "cell_type": "code",
   "execution_count": null,
   "id": "c36739e2-101e-4a34-988a-ab6939765563",
   "metadata": {},
   "outputs": [],
   "source": [
    "#difference between del,pop,popitem, clear"
   ]
  },
  {
   "cell_type": "code",
   "execution_count": null,
   "id": "34e1aa93-5587-4da7-9c53-5e1dc6d313e1",
   "metadata": {},
   "outputs": [],
   "source": [
    "# Removing Items\n",
    "del my_dict[\"age\"]\n",
    "my_dict"
   ]
  },
  {
   "cell_type": "code",
   "execution_count": null,
   "id": "b58eb3ca-fbe6-4d73-a0d3-6158cb0d98e3",
   "metadata": {},
   "outputs": [],
   "source": [
    "# my_dict.popitem() #get dict empty"
   ]
  },
  {
   "cell_type": "code",
   "execution_count": null,
   "id": "f7137550-70d5-4dbe-b50e-c94797100522",
   "metadata": {},
   "outputs": [],
   "source": [
    "my_dict.pop('age')"
   ]
  },
  {
   "cell_type": "code",
   "execution_count": null,
   "id": "9d29b47d-1fdf-4812-bd84-c57338589b3f",
   "metadata": {},
   "outputs": [],
   "source": [
    "my_dict"
   ]
  },
  {
   "cell_type": "code",
   "execution_count": null,
   "id": "0a25c09a-f8cf-41ef-98a8-b6cc46923df8",
   "metadata": {},
   "outputs": [],
   "source": [
    "my_dict.clear()\n",
    "my_dict"
   ]
  },
  {
   "cell_type": "code",
   "execution_count": null,
   "id": "fd0dd84d-ae1a-4d08-a342-1ca134aec684",
   "metadata": {},
   "outputs": [],
   "source": [
    "my_dict.keys()"
   ]
  },
  {
   "cell_type": "code",
   "execution_count": null,
   "id": "a6576e20-5de3-4997-b491-8a2847b0a8f9",
   "metadata": {},
   "outputs": [],
   "source": [
    "my_dict.values()"
   ]
  },
  {
   "cell_type": "code",
   "execution_count": null,
   "id": "610bbdbb-bfaa-4590-82a4-c4d5ecc2383e",
   "metadata": {},
   "outputs": [],
   "source": [
    "my_dict.items()"
   ]
  },
  {
   "cell_type": "code",
   "execution_count": null,
   "id": "117631f7-945e-4f17-8efa-1fcf2d0edf38",
   "metadata": {},
   "outputs": [],
   "source": [
    "dict2 = {\n",
    "    \"student\": \"Ali\",\n",
    "    \"rollno\": 22,\n",
    "    \"state\": \"Punjab\"\n",
    "}\n",
    "my_dict"
   ]
  },
  {
   "cell_type": "code",
   "execution_count": null,
   "id": "60ae1c04-d33a-4189-bc15-8edb6b781340",
   "metadata": {},
   "outputs": [],
   "source": [
    "my_dict.update(dict2)\n",
    "my_dict"
   ]
  },
  {
   "cell_type": "code",
   "execution_count": null,
   "id": "6f0d9aca-e110-4a17-9f49-05ceeed2963c",
   "metadata": {},
   "outputs": [],
   "source": [
    "print(my_dict.get(\"age\")) "
   ]
  },
  {
   "cell_type": "code",
   "execution_count": null,
   "id": "3ad776ee-9b16-41c6-8587-dc2beedfbb48",
   "metadata": {},
   "outputs": [],
   "source": [
    "# Nesting Dictionaries\n",
    "nested_dict = {\n",
    "    \"person1\": {\"name\": \"Alice\", \"age\": 25},\n",
    "    \"person2\": {\"name\": \"Bob\", \"age\": 30}\n",
    "}\n",
    "nested_dict[\"person1\"]['age']\n"
   ]
  },
  {
   "cell_type": "code",
   "execution_count": null,
   "id": "eecc9284-696f-427d-9212-7035cf668bc4",
   "metadata": {},
   "outputs": [],
   "source": [
    "#errors\n",
    "my_dict = {\"name\": \"Alice\"}\n",
    "print(my_dict[\"age\"])  # KeyError: 'age'\n"
   ]
  },
  {
   "cell_type": "code",
   "execution_count": null,
   "id": "1d1ec668-2233-4878-88a0-e7927016abd5",
   "metadata": {},
   "outputs": [],
   "source": [
    "my_dict = {[1, 2, 3]: \"list as key\"}  # TypeError\n"
   ]
  },
  {
   "cell_type": "code",
   "execution_count": null,
   "id": "5a081e4e-2fad-4220-908f-50c14b1ea120",
   "metadata": {},
   "outputs": [],
   "source": []
  },
  {
   "cell_type": "code",
   "execution_count": null,
   "id": "789dab80-44c1-4ca9-8aef-069f432f4942",
   "metadata": {},
   "outputs": [],
   "source": []
  },
  {
   "cell_type": "code",
   "execution_count": null,
   "id": "d3e2231e-f13b-4d6c-be36-12c76569da40",
   "metadata": {},
   "outputs": [],
   "source": []
  },
  {
   "cell_type": "markdown",
   "id": "3253be74-1327-4c97-bbc4-8aca3abb1d71",
   "metadata": {},
   "source": [
    "### SET {}\n",
    "A set in Python is an unordered collection of unique elements. This means that a set cannot contain duplicate values, and the elements are stored in no specific order.\n",
    "\n",
    "Unordered: The elements in a set do not maintain any specific order.\n",
    "\n",
    "Unique: Sets cannot contain duplicate elements. If you try to add a duplicate element, it will not be added.\n",
    "\n",
    "Mutable: You can add or remove elements from a set after it is created.\n",
    "\n",
    "No indexing: Sets do not support indexing or slicing like lists."
   ]
  },
  {
   "cell_type": "code",
   "execution_count": null,
   "id": "3b490118-b7c9-426c-a77c-f351982cc41c",
   "metadata": {},
   "outputs": [],
   "source": [
    "#set\n",
    "\n",
    "fruits = {'apple','banana','coconut',1,2,3}\n",
    "fruits"
   ]
  },
  {
   "cell_type": "code",
   "execution_count": null,
   "id": "a039be67-3e71-405e-999d-1c90a157d336",
   "metadata": {},
   "outputs": [],
   "source": [
    "#type casting\n",
    "a = ['sky','cloud','apple',2,55,7,2,2,'sky']\n"
   ]
  },
  {
   "cell_type": "code",
   "execution_count": null,
   "id": "43cf3492-9d1b-4597-abec-54be05812a9b",
   "metadata": {},
   "outputs": [],
   "source": [
    "dir(set())"
   ]
  },
  {
   "cell_type": "code",
   "execution_count": null,
   "id": "ad426ec4-ed33-46f7-a38f-8dc5e39ffd5a",
   "metadata": {},
   "outputs": [],
   "source": [
    "#difference between remove,discard,pop, clear"
   ]
  },
  {
   "cell_type": "code",
   "execution_count": null,
   "id": "ccc8bea8-4cb9-47af-8f61-969d806ba400",
   "metadata": {},
   "outputs": [],
   "source": [
    "fruits = {\"apple\", \"banana\", \"cherry\"}\n",
    "\n",
    "fruits.remove(\"banana\")\n",
    "print(fruits)\n",
    "\n",
    "fruits.discard(\"orange\")\n",
    "print(fruits)\n",
    "\n",
    "rfruits.pop()\n",
    "print(fruits)\n",
    "\n",
    "fruits.clear()\n",
    "print(fruits)\n"
   ]
  },
  {
   "cell_type": "code",
   "execution_count": null,
   "id": "1d7aaecb-c190-4310-9a5e-52c00e3b95e5",
   "metadata": {},
   "outputs": [],
   "source": []
  },
  {
   "cell_type": "code",
   "execution_count": null,
   "id": "aa55d97d-817e-4af6-b2f1-bc5c78bc2f3e",
   "metadata": {},
   "outputs": [],
   "source": [
    "#operation on set\n",
    "\n",
    "set1 = {1, 2, 3, 4}\n",
    "set2 = {3, 4, 5, 6}\n",
    "\n",
    "union_set = set1 | set2\n",
    "print(union_set)\n",
    "\n",
    "intersection_set = set1 & set2\n",
    "print(intersection_set)\n",
    "\n",
    "difference_set = set1 - set2\n",
    "print(difference_set)\n",
    "\n",
    "sym_diff_set = set1 ^ set2 #returns except commmon\n",
    "print(sym_diff_set)\n"
   ]
  },
  {
   "cell_type": "code",
   "execution_count": null,
   "id": "e190905b-fe9f-4bb1-8b4f-1ce7212b9b0a",
   "metadata": {},
   "outputs": [],
   "source": []
  },
  {
   "cell_type": "code",
   "execution_count": null,
   "id": "b27a419b-85aa-425d-b73c-e81e7d130238",
   "metadata": {},
   "outputs": [],
   "source": []
  },
  {
   "cell_type": "code",
   "execution_count": null,
   "id": "1165a9ac-2383-4101-90a6-79498707cb61",
   "metadata": {},
   "outputs": [],
   "source": []
  },
  {
   "cell_type": "code",
   "execution_count": null,
   "id": "fe848257-a744-40f1-8e95-f2c50c851970",
   "metadata": {},
   "outputs": [],
   "source": []
  },
  {
   "cell_type": "code",
   "execution_count": null,
   "id": "e06e27b2-c0ef-47fa-a331-88cd8496cdef",
   "metadata": {},
   "outputs": [],
   "source": []
  },
  {
   "cell_type": "code",
   "execution_count": null,
   "id": "af8907e0-4c4a-4008-8f59-4c6a96447452",
   "metadata": {},
   "outputs": [],
   "source": []
  },
  {
   "cell_type": "code",
   "execution_count": null,
   "id": "a0ea2dca-cefb-4540-a042-8ee49c1e3295",
   "metadata": {},
   "outputs": [],
   "source": []
  },
  {
   "cell_type": "code",
   "execution_count": null,
   "id": "7c186264-3f1f-44c2-95c8-5a1a95601119",
   "metadata": {},
   "outputs": [],
   "source": []
  },
  {
   "cell_type": "code",
   "execution_count": null,
   "id": "c6467c8d-c647-4bb6-9256-45b43354c780",
   "metadata": {},
   "outputs": [],
   "source": []
  }
 ],
 "metadata": {
  "kernelspec": {
   "display_name": "Python 3 (ipykernel)",
   "language": "python",
   "name": "python3"
  },
  "language_info": {
   "codemirror_mode": {
    "name": "ipython",
    "version": 3
   },
   "file_extension": ".py",
   "mimetype": "text/x-python",
   "name": "python",
   "nbconvert_exporter": "python",
   "pygments_lexer": "ipython3",
   "version": "3.12.7"
  }
 },
 "nbformat": 4,
 "nbformat_minor": 5
}
