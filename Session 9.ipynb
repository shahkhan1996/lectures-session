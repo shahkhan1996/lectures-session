{
 "cells": [
  {
   "cell_type": "markdown",
   "id": "85829cef-dbf7-4e08-ba4f-c5daa0ef70c8",
   "metadata": {},
   "source": [
    "### Tuple ()"
   ]
  },
  {
   "cell_type": "code",
   "execution_count": 2,
   "id": "ccfd57b4-d7f4-4a69-a69d-dfd7e4f116ef",
   "metadata": {},
   "outputs": [
    {
     "data": {
      "text/plain": [
       "(1, 3, 4, 6)"
      ]
     },
     "execution_count": 2,
     "metadata": {},
     "output_type": "execute_result"
    }
   ],
   "source": [
    "# Concatenation\n",
    "a = (1,3)\n",
    "b = (4,6)\n",
    "c = a + b\n",
    "c"
   ]
  },
  {
   "cell_type": "code",
   "execution_count": 3,
   "id": "561a0529-5225-4555-b9fa-c89530f80b25",
   "metadata": {},
   "outputs": [
    {
     "data": {
      "text/plain": [
       "(1, 4, 7, 6)"
      ]
     },
     "execution_count": 3,
     "metadata": {},
     "output_type": "execute_result"
    }
   ],
   "source": [
    "# Concatenation #unordered\n",
    "a = (1,4)\n",
    "b = (7,6)\n",
    "c = a + b\n",
    "c"
   ]
  },
  {
   "cell_type": "code",
   "execution_count": 4,
   "id": "3a8b1329-bf0d-4d76-8540-37178c63fc57",
   "metadata": {},
   "outputs": [
    {
     "data": {
      "text/plain": [
       "(1, 2, 3, 'c', 1, 2, 3, 'c')"
      ]
     },
     "execution_count": 4,
     "metadata": {},
     "output_type": "execute_result"
    }
   ],
   "source": [
    "# Repetition\n",
    "a=(1,2,3,'c')*2\n",
    "a"
   ]
  },
  {
   "cell_type": "code",
   "execution_count": 7,
   "id": "8a589212-dab1-4709-9bfc-116281e11f3e",
   "metadata": {},
   "outputs": [
    {
     "ename": "TypeError",
     "evalue": "can only concatenate tuple (not \"int\") to tuple",
     "output_type": "error",
     "traceback": [
      "\u001b[1;31m---------------------------------------------------------------------------\u001b[0m",
      "\u001b[1;31mTypeError\u001b[0m                                 Traceback (most recent call last)",
      "Cell \u001b[1;32mIn[7], line 1\u001b[0m\n\u001b[1;32m----> 1\u001b[0m a\u001b[38;5;241m=\u001b[39m(\u001b[38;5;241m1\u001b[39m,\u001b[38;5;241m2\u001b[39m,\u001b[38;5;241m3\u001b[39m,\u001b[38;5;124m'\u001b[39m\u001b[38;5;124mc\u001b[39m\u001b[38;5;124m'\u001b[39m)\u001b[38;5;241m+\u001b[39m\u001b[38;5;241m2\u001b[39m\n\u001b[0;32m      2\u001b[0m a\n",
      "\u001b[1;31mTypeError\u001b[0m: can only concatenate tuple (not \"int\") to tuple"
     ]
    }
   ],
   "source": [
    "a=(1,2,3,'c')+2\n",
    "a"
   ]
  },
  {
   "cell_type": "code",
   "execution_count": 5,
   "id": "54b151ea-c698-4ea6-b482-3ce7f9d61623",
   "metadata": {},
   "outputs": [
    {
     "ename": "TypeError",
     "evalue": "unsupported operand type(s) for -: 'tuple' and 'int'",
     "output_type": "error",
     "traceback": [
      "\u001b[1;31m---------------------------------------------------------------------------\u001b[0m",
      "\u001b[1;31mTypeError\u001b[0m                                 Traceback (most recent call last)",
      "Cell \u001b[1;32mIn[5], line 1\u001b[0m\n\u001b[1;32m----> 1\u001b[0m a\u001b[38;5;241m=\u001b[39m(\u001b[38;5;241m1\u001b[39m,\u001b[38;5;241m2\u001b[39m,\u001b[38;5;241m3\u001b[39m)\u001b[38;5;241m-\u001b[39m\u001b[38;5;241m2\u001b[39m\n\u001b[0;32m      2\u001b[0m a\n",
      "\u001b[1;31mTypeError\u001b[0m: unsupported operand type(s) for -: 'tuple' and 'int'"
     ]
    }
   ],
   "source": [
    "a=(1,2,3)-2\n",
    "a"
   ]
  },
  {
   "cell_type": "code",
   "execution_count": 6,
   "id": "eac7ee97-145f-4406-bc1a-c45163684b19",
   "metadata": {},
   "outputs": [
    {
     "ename": "TypeError",
     "evalue": "unsupported operand type(s) for -: 'tuple' and 'tuple'",
     "output_type": "error",
     "traceback": [
      "\u001b[1;31m---------------------------------------------------------------------------\u001b[0m",
      "\u001b[1;31mTypeError\u001b[0m                                 Traceback (most recent call last)",
      "Cell \u001b[1;32mIn[6], line 1\u001b[0m\n\u001b[1;32m----> 1\u001b[0m a\u001b[38;5;241m=\u001b[39m(\u001b[38;5;241m1\u001b[39m,\u001b[38;5;241m2\u001b[39m,\u001b[38;5;241m3\u001b[39m)\u001b[38;5;241m-\u001b[39m(\u001b[38;5;241m1\u001b[39m,\u001b[38;5;241m3\u001b[39m,\u001b[38;5;241m6\u001b[39m)\n\u001b[0;32m      2\u001b[0m a\n",
      "\u001b[1;31mTypeError\u001b[0m: unsupported operand type(s) for -: 'tuple' and 'tuple'"
     ]
    }
   ],
   "source": [
    "a=(1,2,3)-(1,3,6)\n",
    "a"
   ]
  },
  {
   "cell_type": "code",
   "execution_count": 8,
   "id": "b583ea87-cdb2-430a-820d-695ffc2c0794",
   "metadata": {},
   "outputs": [
    {
     "ename": "TypeError",
     "evalue": "unsupported operand type(s) for -: 'tuple' and 'tuple'",
     "output_type": "error",
     "traceback": [
      "\u001b[1;31m---------------------------------------------------------------------------\u001b[0m",
      "\u001b[1;31mTypeError\u001b[0m                                 Traceback (most recent call last)",
      "Cell \u001b[1;32mIn[8], line 1\u001b[0m\n\u001b[1;32m----> 1\u001b[0m a\u001b[38;5;241m=\u001b[39m(\u001b[38;5;241m1\u001b[39m,\u001b[38;5;241m2\u001b[39m,\u001b[38;5;241m3\u001b[39m)\u001b[38;5;241m-\u001b[39m(\u001b[38;5;241m1\u001b[39m,\u001b[38;5;241m2\u001b[39m,\u001b[38;5;241m3\u001b[39m)\n\u001b[0;32m      2\u001b[0m a\n",
      "\u001b[1;31mTypeError\u001b[0m: unsupported operand type(s) for -: 'tuple' and 'tuple'"
     ]
    }
   ],
   "source": [
    "a=(1,2,3)-(1,2,3)\n",
    "a"
   ]
  },
  {
   "cell_type": "code",
   "execution_count": 9,
   "id": "b7d8f60d-b4d7-443f-b13e-b5ee90270f5d",
   "metadata": {},
   "outputs": [
    {
     "ename": "TypeError",
     "evalue": "'tuple' object does not support item assignment",
     "output_type": "error",
     "traceback": [
      "\u001b[1;31m---------------------------------------------------------------------------\u001b[0m",
      "\u001b[1;31mTypeError\u001b[0m                                 Traceback (most recent call last)",
      "Cell \u001b[1;32mIn[9], line 3\u001b[0m\n\u001b[0;32m      1\u001b[0m \u001b[38;5;66;03m#immutability\u001b[39;00m\n\u001b[0;32m      2\u001b[0m a\u001b[38;5;241m=\u001b[39m(\u001b[38;5;241m1\u001b[39m,\u001b[38;5;241m2\u001b[39m,\u001b[38;5;241m4\u001b[39m,\u001b[38;5;241m5\u001b[39m)\n\u001b[1;32m----> 3\u001b[0m a[\u001b[38;5;241m1\u001b[39m]\u001b[38;5;241m=\u001b[39m\u001b[38;5;124m'\u001b[39m\u001b[38;5;124mabc\u001b[39m\u001b[38;5;124m'\u001b[39m\n",
      "\u001b[1;31mTypeError\u001b[0m: 'tuple' object does not support item assignment"
     ]
    }
   ],
   "source": [
    "#immutability\n",
    "a=(1,2,4,5)\n",
    "a[1]='abc'\n"
   ]
  },
  {
   "cell_type": "code",
   "execution_count": 10,
   "id": "3efaf7ee-9f30-4071-9f24-2628791ffb76",
   "metadata": {},
   "outputs": [
    {
     "ename": "TypeError",
     "evalue": "'tuple' object does not support item assignment",
     "output_type": "error",
     "traceback": [
      "\u001b[1;31m---------------------------------------------------------------------------\u001b[0m",
      "\u001b[1;31mTypeError\u001b[0m                                 Traceback (most recent call last)",
      "Cell \u001b[1;32mIn[10], line 3\u001b[0m\n\u001b[0;32m      1\u001b[0m \u001b[38;5;66;03m#immutability\u001b[39;00m\n\u001b[0;32m      2\u001b[0m a\u001b[38;5;241m=\u001b[39m(\u001b[38;5;241m1\u001b[39m,\u001b[38;5;241m2\u001b[39m,\u001b[38;5;241m4\u001b[39m,\u001b[38;5;241m5\u001b[39m)\n\u001b[1;32m----> 3\u001b[0m a[\u001b[38;5;241m-\u001b[39m\u001b[38;5;241m1\u001b[39m]\u001b[38;5;241m=\u001b[39m\u001b[38;5;124m'\u001b[39m\u001b[38;5;124mabc\u001b[39m\u001b[38;5;124m'\u001b[39m\n",
      "\u001b[1;31mTypeError\u001b[0m: 'tuple' object does not support item assignment"
     ]
    }
   ],
   "source": [
    "#immutability\n",
    "a=(1,2,4,5)\n",
    "a[-1]='abc'\n"
   ]
  },
  {
   "cell_type": "code",
   "execution_count": 12,
   "id": "c52eb587-7867-4fdc-af5b-f4de5341dee0",
   "metadata": {},
   "outputs": [
    {
     "data": {
      "text/plain": [
       "[1, 2, 4]"
      ]
     },
     "execution_count": 12,
     "metadata": {},
     "output_type": "execute_result"
    }
   ],
   "source": [
    "# Access List\n",
    "a=(1,2,4,5,[1,2,4])\n",
    "a[4]"
   ]
  },
  {
   "cell_type": "code",
   "execution_count": 14,
   "id": "48ded0f3-baaf-4314-baea-21491fed2d03",
   "metadata": {},
   "outputs": [
    {
     "data": {
      "text/plain": [
       "'b'"
      ]
     },
     "execution_count": 14,
     "metadata": {},
     "output_type": "execute_result"
    }
   ],
   "source": [
    "a=(1,2,4,5,[1,'b',4])\n",
    "a[4][1]\n"
   ]
  },
  {
   "cell_type": "code",
   "execution_count": 17,
   "id": "c7146606-9f45-45d9-a629-8915b4562362",
   "metadata": {},
   "outputs": [
    {
     "data": {
      "text/plain": [
       "(1, 2, 4, 5, [1, 'x', 4])"
      ]
     },
     "execution_count": 17,
     "metadata": {},
     "output_type": "execute_result"
    }
   ],
   "source": [
    "a=(1,2,4,5,[1,'b',4])\n",
    "a[4][1]='x'\n",
    "a"
   ]
  },
  {
   "cell_type": "code",
   "execution_count": 18,
   "id": "7b04424a-23fc-441b-adfe-0ace4e2f9482",
   "metadata": {},
   "outputs": [
    {
     "ename": "TypeError",
     "evalue": "'tuple' object does not support item assignment",
     "output_type": "error",
     "traceback": [
      "\u001b[1;31m---------------------------------------------------------------------------\u001b[0m",
      "\u001b[1;31mTypeError\u001b[0m                                 Traceback (most recent call last)",
      "Cell \u001b[1;32mIn[18], line 2\u001b[0m\n\u001b[0;32m      1\u001b[0m a\u001b[38;5;241m=\u001b[39m(\u001b[38;5;241m1\u001b[39m,\u001b[38;5;241m2\u001b[39m,\u001b[38;5;241m4\u001b[39m,\u001b[38;5;241m5\u001b[39m)\n\u001b[1;32m----> 2\u001b[0m a[\u001b[38;5;241m2\u001b[39m]\u001b[38;5;241m=\u001b[39m\u001b[38;5;124m'\u001b[39m\u001b[38;5;124mx\u001b[39m\u001b[38;5;124m'\u001b[39m\n",
      "\u001b[1;31mTypeError\u001b[0m: 'tuple' object does not support item assignment"
     ]
    }
   ],
   "source": [
    "a=(1,2,4,5)\n",
    "a[2]='x'"
   ]
  },
  {
   "cell_type": "code",
   "execution_count": 19,
   "id": "fca6acba-a4f5-4263-98c0-788dcf1dd9bd",
   "metadata": {},
   "outputs": [
    {
     "data": {
      "text/plain": [
       "(1, (2, 3), (4, 5, 6))"
      ]
     },
     "execution_count": 19,
     "metadata": {},
     "output_type": "execute_result"
    }
   ],
   "source": [
    "#nested tuple\n",
    "nested_tuple = (1, (2, 3), (4, 5, 6))\n",
    "nested_tuple"
   ]
  },
  {
   "cell_type": "code",
   "execution_count": 21,
   "id": "4e40c745-f5bd-43a2-b716-27925b909861",
   "metadata": {},
   "outputs": [
    {
     "data": {
      "text/plain": [
       "'b'"
      ]
     },
     "execution_count": 21,
     "metadata": {},
     "output_type": "execute_result"
    }
   ],
   "source": [
    "a = (1,2,('a','b'),7,8)\n",
    "a[2][1]"
   ]
  },
  {
   "cell_type": "markdown",
   "id": "10997227-4544-4a9c-8045-86c5629f6486",
   "metadata": {},
   "source": [
    "### Packing and Unpacking in Tuples\n",
    "Packing refers to the process of combining multiple values into a tuple,\n",
    "and Unpacking is extracting those values back from the tuple into individual variables."
   ]
  },
  {
   "cell_type": "code",
   "execution_count": 22,
   "id": "681b16c5-b6a6-4917-88c9-c13881e4ad3f",
   "metadata": {},
   "outputs": [
    {
     "data": {
      "text/plain": [
       "('John', 25, 'Software Engineer')"
      ]
     },
     "execution_count": 22,
     "metadata": {},
     "output_type": "execute_result"
    }
   ],
   "source": [
    "# #packing\n",
    "person_info = (\"John\", 25, \"Software Engineer\")\n",
    "person_info"
   ]
  },
  {
   "cell_type": "code",
   "execution_count": 26,
   "id": "7328d146-89be-45e3-bb13-39a8d33669f3",
   "metadata": {},
   "outputs": [
    {
     "data": {
      "text/plain": [
       "'Software Engineer'"
      ]
     },
     "execution_count": 26,
     "metadata": {},
     "output_type": "execute_result"
    }
   ],
   "source": [
    "#unpacking\n",
    "name, age, job = person_info\n",
    "# name\n",
    "# age\n",
    "# job\n"
   ]
  },
  {
   "cell_type": "code",
   "execution_count": 27,
   "id": "a34f6084-1021-422b-96d3-87f74d1fcaa4",
   "metadata": {},
   "outputs": [
    {
     "ename": "ValueError",
     "evalue": "not enough values to unpack (expected 4, got 3)",
     "output_type": "error",
     "traceback": [
      "\u001b[1;31m---------------------------------------------------------------------------\u001b[0m",
      "\u001b[1;31mValueError\u001b[0m                                Traceback (most recent call last)",
      "Cell \u001b[1;32mIn[27], line 2\u001b[0m\n\u001b[0;32m      1\u001b[0m \u001b[38;5;66;03m#unpacking\u001b[39;00m\n\u001b[1;32m----> 2\u001b[0m name, job, age, location \u001b[38;5;241m=\u001b[39m person_info\n\u001b[0;32m      3\u001b[0m \u001b[38;5;66;03m# name\u001b[39;00m\n\u001b[0;32m      4\u001b[0m age\n",
      "\u001b[1;31mValueError\u001b[0m: not enough values to unpack (expected 4, got 3)"
     ]
    }
   ],
   "source": [
    "#unpacking\n",
    "name, job, age, location = person_info\n",
    "# name\n",
    "age\n",
    "# job"
   ]
  },
  {
   "cell_type": "code",
   "execution_count": 28,
   "id": "f10760f6-445b-4567-9daa-2650303514a0",
   "metadata": {},
   "outputs": [
    {
     "data": {
      "text/plain": [
       "'Software Engineer'"
      ]
     },
     "execution_count": 28,
     "metadata": {},
     "output_type": "execute_result"
    }
   ],
   "source": [
    "#unpacking\n",
    "name, job, age = person_info\n",
    "# name\n",
    "age\n",
    "# job"
   ]
  },
  {
   "cell_type": "code",
   "execution_count": 29,
   "id": "a3e68f33-ddbc-46dd-b439-c8cf95360429",
   "metadata": {},
   "outputs": [
    {
     "data": {
      "text/plain": [
       "25"
      ]
     },
     "execution_count": 29,
     "metadata": {},
     "output_type": "execute_result"
    }
   ],
   "source": [
    "job"
   ]
  },
  {
   "cell_type": "code",
   "execution_count": 30,
   "id": "a211c40c-917c-4fe3-9e9d-bb0914b060f6",
   "metadata": {},
   "outputs": [
    {
     "data": {
      "text/plain": [
       "'Apple'"
      ]
     },
     "execution_count": 30,
     "metadata": {},
     "output_type": "execute_result"
    }
   ],
   "source": [
    "values = (\"Apple\", \"Banana\", \"Cherry\", \"Grapes\")\n",
    "first, second, *others = values\n",
    "first"
   ]
  },
  {
   "cell_type": "code",
   "execution_count": 31,
   "id": "1eb14e9b-cb77-485f-8c28-0bfd820ebc66",
   "metadata": {},
   "outputs": [
    {
     "data": {
      "text/plain": [
       "'Banana'"
      ]
     },
     "execution_count": 31,
     "metadata": {},
     "output_type": "execute_result"
    }
   ],
   "source": [
    "values = (\"Apple\", \"Banana\", \"Cherry\", \"Grapes\")\n",
    "first, second, *others = values\n",
    "second"
   ]
  },
  {
   "cell_type": "code",
   "execution_count": 32,
   "id": "db8a19ec-0705-43c7-bbd9-077b968f9d39",
   "metadata": {},
   "outputs": [
    {
     "data": {
      "text/plain": [
       "['Cherry', 'Grapes']"
      ]
     },
     "execution_count": 32,
     "metadata": {},
     "output_type": "execute_result"
    }
   ],
   "source": [
    "values = (\"Apple\", \"Banana\", \"Cherry\", \"Grapes\")\n",
    "first, second, *others = values\n",
    "others"
   ]
  },
  {
   "cell_type": "code",
   "execution_count": 33,
   "id": "a419bad2-0dd6-4b20-8ded-b6634d0ddb5f",
   "metadata": {},
   "outputs": [
    {
     "ename": "SyntaxError",
     "evalue": "can't use starred expression here (3894210640.py, line 3)",
     "output_type": "error",
     "traceback": [
      "\u001b[1;36m  Cell \u001b[1;32mIn[33], line 3\u001b[1;36m\u001b[0m\n\u001b[1;33m    *others\u001b[0m\n\u001b[1;37m    ^\u001b[0m\n\u001b[1;31mSyntaxError\u001b[0m\u001b[1;31m:\u001b[0m can't use starred expression here\n"
     ]
    }
   ],
   "source": [
    "values = (\"Apple\", \"Banana\", \"Cherry\", \"Grapes\")\n",
    "first, second, *others = values\n",
    "*others"
   ]
  },
  {
   "cell_type": "code",
   "execution_count": 35,
   "id": "6fb93ef2-84ba-4fca-abb3-0732d2eb2b04",
   "metadata": {},
   "outputs": [
    {
     "data": {
      "text/plain": [
       "('Apple', 'Banana', 'Cherry', 'Grapes')"
      ]
     },
     "execution_count": 35,
     "metadata": {},
     "output_type": "execute_result"
    }
   ],
   "source": [
    "values = (\"Apple\", \"Banana\", \"Cherry\", \"Grapes\")\n",
    "values"
   ]
  },
  {
   "cell_type": "code",
   "execution_count": 36,
   "id": "2c0394a3-167f-42b9-b373-b78b369d7182",
   "metadata": {},
   "outputs": [
    {
     "data": {
      "text/plain": [
       "['Apple', 'Banana', 'Cherry', 'Grapes']"
      ]
     },
     "execution_count": 36,
     "metadata": {},
     "output_type": "execute_result"
    }
   ],
   "source": [
    "values = (\"Apple\", \"Banana\", \"Cherry\", \"Grapes\")\n",
    "list(values)"
   ]
  },
  {
   "cell_type": "code",
   "execution_count": 37,
   "id": "f7f71bcd-bb5f-4f8e-b548-612bef19d746",
   "metadata": {},
   "outputs": [
    {
     "data": {
      "text/plain": [
       "('Apple', 'Banana', 'Cherry', 'Grapes')"
      ]
     },
     "execution_count": 37,
     "metadata": {},
     "output_type": "execute_result"
    }
   ],
   "source": [
    "abc = [\"Apple\", \"Banana\", \"Cherry\", \"Grapes\"]\n",
    "tuple(abc)"
   ]
  },
  {
   "cell_type": "code",
   "execution_count": null,
   "id": "75787d6a-9471-4331-a4bb-34c4f5a1a0da",
   "metadata": {},
   "outputs": [],
   "source": []
  },
  {
   "cell_type": "code",
   "execution_count": 39,
   "id": "c5c1c064-e91f-44ab-9361-824cb3dbbf7b",
   "metadata": {},
   "outputs": [
    {
     "data": {
      "text/plain": [
       "30"
      ]
     },
     "execution_count": 39,
     "metadata": {},
     "output_type": "execute_result"
    }
   ],
   "source": [
    "details = (\"Alice\", 30, \"Manager\", \"New York\")\n",
    "name, age, role, _ = details\n",
    "name\n",
    "age\n"
   ]
  },
  {
   "cell_type": "code",
   "execution_count": 41,
   "id": "f6818408-dc22-491c-be23-0f9cb7db6367",
   "metadata": {},
   "outputs": [
    {
     "ename": "ValueError",
     "evalue": "too many values to unpack (expected 4)",
     "output_type": "error",
     "traceback": [
      "\u001b[1;31m---------------------------------------------------------------------------\u001b[0m",
      "\u001b[1;31mValueError\u001b[0m                                Traceback (most recent call last)",
      "Cell \u001b[1;32mIn[41], line 2\u001b[0m\n\u001b[0;32m      1\u001b[0m details \u001b[38;5;241m=\u001b[39m (\u001b[38;5;124m\"\u001b[39m\u001b[38;5;124mAlice\u001b[39m\u001b[38;5;124m\"\u001b[39m, \u001b[38;5;241m30\u001b[39m, \u001b[38;5;124m\"\u001b[39m\u001b[38;5;124mManager\u001b[39m\u001b[38;5;124m\"\u001b[39m, \u001b[38;5;124m\"\u001b[39m\u001b[38;5;124mNew York\u001b[39m\u001b[38;5;124m\"\u001b[39m,\u001b[38;5;124m'\u001b[39m\u001b[38;5;124mapple\u001b[39m\u001b[38;5;124m'\u001b[39m)\n\u001b[1;32m----> 2\u001b[0m name, age, role, _ \u001b[38;5;241m=\u001b[39m details\n\u001b[0;32m      3\u001b[0m _\n",
      "\u001b[1;31mValueError\u001b[0m: too many values to unpack (expected 4)"
     ]
    }
   ],
   "source": [
    "details = (\"Alice\", 30, \"Manager\", \"New York\",'apple')\n",
    "name, age, role, _ , _= details\n",
    "_"
   ]
  },
  {
   "cell_type": "code",
   "execution_count": 42,
   "id": "91212d3a-3874-44e6-a6d2-ddf2ec4604f2",
   "metadata": {},
   "outputs": [
    {
     "data": {
      "text/plain": [
       "'apple'"
      ]
     },
     "execution_count": 42,
     "metadata": {},
     "output_type": "execute_result"
    }
   ],
   "source": [
    "details = (\"Alice\", 30, \"Manager\", \"New York\",'apple')\n",
    "name, age, role, _ , _= details\n",
    "_"
   ]
  },
  {
   "cell_type": "code",
   "execution_count": null,
   "id": "f0ac7f54-77c4-49ec-99fc-1d9ae79e5317",
   "metadata": {},
   "outputs": [],
   "source": []
  },
  {
   "cell_type": "markdown",
   "id": "cfaeea8e-c336-4efa-a9fd-f72a903b3058",
   "metadata": {},
   "source": [
    "### Dictionary {key:value}\n",
    "\n",
    "In Python, a dictionary is an unordered, mutable collection of key-value pairs. It is one of the most versatile data structures in Python, allowing you to efficiently store and retrieve data based on custom keys."
   ]
  },
  {
   "cell_type": "code",
   "execution_count": null,
   "id": "077a9e47-5853-464f-adda-a12124b063d7",
   "metadata": {},
   "outputs": [],
   "source": [
    "#unordered\n",
    "#mutable\n",
    "#indexed by key\n",
    "#no duplicates"
   ]
  },
  {
   "cell_type": "code",
   "execution_count": 43,
   "id": "5222ad0b-7e6b-43c5-9679-64a96e584e37",
   "metadata": {},
   "outputs": [
    {
     "ename": "SyntaxError",
     "evalue": "cannot assign to literal here. Maybe you meant '==' instead of '='? (2577826987.py, line 4)",
     "output_type": "error",
     "traceback": [
      "\u001b[1;36m  Cell \u001b[1;32mIn[43], line 4\u001b[1;36m\u001b[0m\n\u001b[1;33m    'name' = 'ali',\u001b[0m\n\u001b[1;37m    ^\u001b[0m\n\u001b[1;31mSyntaxError\u001b[0m\u001b[1;31m:\u001b[0m cannot assign to literal here. Maybe you meant '==' instead of '='?\n"
     ]
    }
   ],
   "source": [
    "#first dict\n",
    "\n",
    "my_dict1 = {\n",
    "    'name' = 'ali',\n",
    "    'age' = 22\n",
    "}\n",
    "my_dict1"
   ]
  },
  {
   "cell_type": "code",
   "execution_count": 44,
   "id": "948f7095-adee-44db-b3e7-5bcbdda585dd",
   "metadata": {},
   "outputs": [
    {
     "data": {
      "text/plain": [
       "{'name': 'Alice', 'age': 25, 'city': 'New York'}"
      ]
     },
     "execution_count": 44,
     "metadata": {},
     "output_type": "execute_result"
    }
   ],
   "source": [
    "my_dict = {\n",
    "    \"name\": \"Alice\",\n",
    "    \"age\": 25,\n",
    "    \"city\": \"New York\"\n",
    "}\n",
    "my_dict"
   ]
  },
  {
   "cell_type": "code",
   "execution_count": 47,
   "id": "77b4c57e-5864-4443-959c-18bd4016e19a",
   "metadata": {},
   "outputs": [
    {
     "data": {
      "text/plain": [
       "{'name': 'Alice', 'age': 25, 'city': 'New York'}"
      ]
     },
     "execution_count": 47,
     "metadata": {},
     "output_type": "execute_result"
    }
   ],
   "source": [
    "my_dict = {\n",
    "    \"name\": \"Alice\",\n",
    "    \"age\": 25,\n",
    "    \"city\": \"New York\",\n",
    "}\n",
    "my_dict"
   ]
  },
  {
   "cell_type": "code",
   "execution_count": 45,
   "id": "d951526f-cdb4-4830-b279-64b8a8fc4153",
   "metadata": {},
   "outputs": [
    {
     "ename": "SyntaxError",
     "evalue": "invalid syntax (3688002071.py, line 3)",
     "output_type": "error",
     "traceback": [
      "\u001b[1;36m  Cell \u001b[1;32mIn[45], line 3\u001b[1;36m\u001b[0m\n\u001b[1;33m    \"age\": 25\u001b[0m\n\u001b[1;37m         ^\u001b[0m\n\u001b[1;31mSyntaxError\u001b[0m\u001b[1;31m:\u001b[0m invalid syntax\n"
     ]
    }
   ],
   "source": [
    "my_dict = {\n",
    "    \"name\": \"Alice\"\n",
    "    \"age\": 25\n",
    "    \"city\": \"New York\"\n",
    "}\n",
    "my_dict #key : value"
   ]
  },
  {
   "cell_type": "code",
   "execution_count": 48,
   "id": "ada42e6f-8f83-4379-92a8-ee96bf3f62da",
   "metadata": {},
   "outputs": [
    {
     "ename": "KeyError",
     "evalue": "0",
     "output_type": "error",
     "traceback": [
      "\u001b[1;31m---------------------------------------------------------------------------\u001b[0m",
      "\u001b[1;31mKeyError\u001b[0m                                  Traceback (most recent call last)",
      "Cell \u001b[1;32mIn[48], line 4\u001b[0m\n\u001b[0;32m      1\u001b[0m \u001b[38;5;66;03m#indexed by key\u001b[39;00m\n\u001b[0;32m      2\u001b[0m \u001b[38;5;66;03m# Accessing Values in a Dictionary\u001b[39;00m\n\u001b[0;32m      3\u001b[0m \u001b[38;5;66;03m# Unlike lists, which are indexed by numbers, dictionaries use keys to access values.\u001b[39;00m\n\u001b[1;32m----> 4\u001b[0m my_dict[\u001b[38;5;241m0\u001b[39m]\n",
      "\u001b[1;31mKeyError\u001b[0m: 0"
     ]
    }
   ],
   "source": [
    "#indexed by key\n",
    "# Accessing Values in a Dictionary\n",
    "# Unlike lists, which are indexed by numbers, dictionaries use keys to access values.\n",
    "my_dict[0]"
   ]
  },
  {
   "cell_type": "code",
   "execution_count": 49,
   "id": "bf4914f3-d348-44d0-b424-43cede01ef35",
   "metadata": {},
   "outputs": [
    {
     "data": {
      "text/plain": [
       "'New York'"
      ]
     },
     "execution_count": 49,
     "metadata": {},
     "output_type": "execute_result"
    }
   ],
   "source": [
    "my_dict['city']"
   ]
  },
  {
   "cell_type": "code",
   "execution_count": 52,
   "id": "b18f3cc2-e9af-4822-9c0d-bf40a8ee1ee9",
   "metadata": {},
   "outputs": [
    {
     "data": {
      "text/plain": [
       "{'name': 'Alice', 'age': 22, 'city': 'New York'}"
      ]
     },
     "execution_count": 52,
     "metadata": {},
     "output_type": "execute_result"
    }
   ],
   "source": [
    "#no duplicates\n",
    "# Each key in a dictionary must be unique, but different keys can have the same value.\n",
    "my_dict = {\n",
    "    \"name\": \"Alice\",\n",
    "    \"age\": 25,\n",
    "    \"city\": \"New York\",\n",
    "    \"age\": 22\n",
    "}\n",
    "my_dict"
   ]
  },
  {
   "cell_type": "code",
   "execution_count": 53,
   "id": "19c154ae-345e-4cf5-8918-9ed11b3c97a5",
   "metadata": {},
   "outputs": [
    {
     "data": {
      "text/plain": [
       "22"
      ]
     },
     "execution_count": 53,
     "metadata": {},
     "output_type": "execute_result"
    }
   ],
   "source": [
    "my_dict[\"age\"]"
   ]
  },
  {
   "cell_type": "code",
   "execution_count": null,
   "id": "27a6ff07-e89b-4782-a914-40bcc2205811",
   "metadata": {},
   "outputs": [],
   "source": [
    "my_dict = {\n",
    "    \"name\": \"Alice\",\n",
    "    \"age\": 25,\n",
    "    \"city\": \"New York\"\n",
    "}\n",
    "my_dict"
   ]
  },
  {
   "cell_type": "code",
   "execution_count": null,
   "id": "bad25b3f-36a5-4c3a-8ef6-28cd8140ae59",
   "metadata": {},
   "outputs": [],
   "source": []
  },
  {
   "cell_type": "code",
   "execution_count": 55,
   "id": "b409950c-5666-4c01-8c12-00ecde682bfd",
   "metadata": {},
   "outputs": [
    {
     "data": {
      "text/plain": [
       "{'name': 'Alice', 'age': 22, 'city': 'New York', 'email': 'abc@gmail.com'}"
      ]
     },
     "execution_count": 55,
     "metadata": {},
     "output_type": "execute_result"
    }
   ],
   "source": [
    "#Modifying a Dictionary\n",
    "my_dict['email']='abc@gmail.com'\n",
    "my_dict"
   ]
  },
  {
   "cell_type": "code",
   "execution_count": 56,
   "id": "ddaea6a4-0920-4ff3-848b-687f7ec5ddea",
   "metadata": {},
   "outputs": [
    {
     "data": {
      "text/plain": [
       "{'name': 'Alice', 'age': 25, 'city': 'New York'}"
      ]
     },
     "execution_count": 56,
     "metadata": {},
     "output_type": "execute_result"
    }
   ],
   "source": [
    "my_dict = {\n",
    "    \"name\": \"Alice\",\n",
    "    \"age\": 25,\n",
    "    \"city\": \"New York\",\n",
    "}\n",
    "my_dict"
   ]
  },
  {
   "cell_type": "code",
   "execution_count": 59,
   "id": "0c4ad7f3-6c82-4647-ab9b-5ede93b5db80",
   "metadata": {},
   "outputs": [
    {
     "data": {
      "text/plain": [
       "{'name': 'Alice', 'age': 44, 'city': 'New York'}"
      ]
     },
     "execution_count": 59,
     "metadata": {},
     "output_type": "execute_result"
    }
   ],
   "source": [
    "my_dict['age']=44\n",
    "my_dict"
   ]
  },
  {
   "cell_type": "code",
   "execution_count": 60,
   "id": "6ab1b12d-21fa-45bd-b66a-efd5ff062f9a",
   "metadata": {},
   "outputs": [
    {
     "data": {
      "text/plain": [
       "3"
      ]
     },
     "execution_count": 60,
     "metadata": {},
     "output_type": "execute_result"
    }
   ],
   "source": [
    "len(my_dict)"
   ]
  },
  {
   "cell_type": "code",
   "execution_count": 61,
   "id": "f9ddc49f-fadd-4f58-915d-8d7cdad23b9d",
   "metadata": {},
   "outputs": [
    {
     "data": {
      "text/plain": [
       "['__class__',\n",
       " '__class_getitem__',\n",
       " '__contains__',\n",
       " '__delattr__',\n",
       " '__delitem__',\n",
       " '__dir__',\n",
       " '__doc__',\n",
       " '__eq__',\n",
       " '__format__',\n",
       " '__ge__',\n",
       " '__getattribute__',\n",
       " '__getitem__',\n",
       " '__getstate__',\n",
       " '__gt__',\n",
       " '__hash__',\n",
       " '__init__',\n",
       " '__init_subclass__',\n",
       " '__ior__',\n",
       " '__iter__',\n",
       " '__le__',\n",
       " '__len__',\n",
       " '__lt__',\n",
       " '__ne__',\n",
       " '__new__',\n",
       " '__or__',\n",
       " '__reduce__',\n",
       " '__reduce_ex__',\n",
       " '__repr__',\n",
       " '__reversed__',\n",
       " '__ror__',\n",
       " '__setattr__',\n",
       " '__setitem__',\n",
       " '__sizeof__',\n",
       " '__str__',\n",
       " '__subclasshook__',\n",
       " 'clear',\n",
       " 'copy',\n",
       " 'fromkeys',\n",
       " 'get',\n",
       " 'items',\n",
       " 'keys',\n",
       " 'pop',\n",
       " 'popitem',\n",
       " 'setdefault',\n",
       " 'update',\n",
       " 'values']"
      ]
     },
     "execution_count": 61,
     "metadata": {},
     "output_type": "execute_result"
    }
   ],
   "source": [
    "dir(my_dict)"
   ]
  },
  {
   "cell_type": "code",
   "execution_count": 79,
   "id": "342447c3-d1da-43d0-9f30-c9ff9764840d",
   "metadata": {},
   "outputs": [
    {
     "data": {
      "text/plain": [
       "{'name': 'Alice', 'age': 25, 'city': 'New York'}"
      ]
     },
     "execution_count": 79,
     "metadata": {},
     "output_type": "execute_result"
    }
   ],
   "source": [
    "my_dict = {\n",
    "    \"name\": \"Alice\",\n",
    "    \"age\": 25,\n",
    "    \"city\": \"New York\"\n",
    "}\n",
    "my_dict"
   ]
  },
  {
   "cell_type": "code",
   "execution_count": null,
   "id": "c36739e2-101e-4a34-988a-ab6939765563",
   "metadata": {},
   "outputs": [],
   "source": [
    "#difference between del,pop,popitem, clear"
   ]
  },
  {
   "cell_type": "code",
   "execution_count": 63,
   "id": "34e1aa93-5587-4da7-9c53-5e1dc6d313e1",
   "metadata": {},
   "outputs": [
    {
     "data": {
      "text/plain": [
       "{'name': 'Alice', 'city': 'New York'}"
      ]
     },
     "execution_count": 63,
     "metadata": {},
     "output_type": "execute_result"
    }
   ],
   "source": [
    "# Removing Items\n",
    "del my_dict[\"age\"]\n",
    "my_dict"
   ]
  },
  {
   "cell_type": "code",
   "execution_count": 68,
   "id": "b58eb3ca-fbe6-4d73-a0d3-6158cb0d98e3",
   "metadata": {},
   "outputs": [
    {
     "ename": "KeyError",
     "evalue": "'popitem(): dictionary is empty'",
     "output_type": "error",
     "traceback": [
      "\u001b[1;31m---------------------------------------------------------------------------\u001b[0m",
      "\u001b[1;31mKeyError\u001b[0m                                  Traceback (most recent call last)",
      "Cell \u001b[1;32mIn[68], line 1\u001b[0m\n\u001b[1;32m----> 1\u001b[0m my_dict\u001b[38;5;241m.\u001b[39mpopitem()\n",
      "\u001b[1;31mKeyError\u001b[0m: 'popitem(): dictionary is empty'"
     ]
    }
   ],
   "source": [
    "my_dict.popitem() #get dict empty #run 3 times"
   ]
  },
  {
   "cell_type": "code",
   "execution_count": 70,
   "id": "f7137550-70d5-4dbe-b50e-c94797100522",
   "metadata": {},
   "outputs": [
    {
     "data": {
      "text/plain": [
       "25"
      ]
     },
     "execution_count": 70,
     "metadata": {},
     "output_type": "execute_result"
    }
   ],
   "source": [
    "my_dict.pop('age')"
   ]
  },
  {
   "cell_type": "code",
   "execution_count": 73,
   "id": "4a0d8b28-ee4d-4b79-8bfb-337a0cb309fa",
   "metadata": {},
   "outputs": [
    {
     "ename": "TypeError",
     "evalue": "pop expected at least 1 argument, got 0",
     "output_type": "error",
     "traceback": [
      "\u001b[1;31m---------------------------------------------------------------------------\u001b[0m",
      "\u001b[1;31mTypeError\u001b[0m                                 Traceback (most recent call last)",
      "Cell \u001b[1;32mIn[73], line 1\u001b[0m\n\u001b[1;32m----> 1\u001b[0m my_dict\u001b[38;5;241m.\u001b[39mpop()\n",
      "\u001b[1;31mTypeError\u001b[0m: pop expected at least 1 argument, got 0"
     ]
    }
   ],
   "source": [
    "my_dict.pop()"
   ]
  },
  {
   "cell_type": "code",
   "execution_count": 74,
   "id": "9d29b47d-1fdf-4812-bd84-c57338589b3f",
   "metadata": {},
   "outputs": [
    {
     "data": {
      "text/plain": [
       "{'name': 'Alice', 'age': 25, 'city': 'New York'}"
      ]
     },
     "execution_count": 74,
     "metadata": {},
     "output_type": "execute_result"
    }
   ],
   "source": [
    "my_dict"
   ]
  },
  {
   "cell_type": "code",
   "execution_count": 77,
   "id": "0a25c09a-f8cf-41ef-98a8-b6cc46923df8",
   "metadata": {},
   "outputs": [],
   "source": [
    "my_dict.clear()"
   ]
  },
  {
   "cell_type": "code",
   "execution_count": 78,
   "id": "dbd03247-b86f-4ba2-a8b9-310e3ec41393",
   "metadata": {},
   "outputs": [
    {
     "data": {
      "text/plain": [
       "{}"
      ]
     },
     "execution_count": 78,
     "metadata": {},
     "output_type": "execute_result"
    }
   ],
   "source": [
    "my_dict"
   ]
  },
  {
   "cell_type": "code",
   "execution_count": 80,
   "id": "fd0dd84d-ae1a-4d08-a342-1ca134aec684",
   "metadata": {},
   "outputs": [
    {
     "data": {
      "text/plain": [
       "dict_keys(['name', 'age', 'city'])"
      ]
     },
     "execution_count": 80,
     "metadata": {},
     "output_type": "execute_result"
    }
   ],
   "source": [
    "my_dict.keys()"
   ]
  },
  {
   "cell_type": "code",
   "execution_count": 81,
   "id": "a6576e20-5de3-4997-b491-8a2847b0a8f9",
   "metadata": {},
   "outputs": [
    {
     "data": {
      "text/plain": [
       "dict_values(['Alice', 25, 'New York'])"
      ]
     },
     "execution_count": 81,
     "metadata": {},
     "output_type": "execute_result"
    }
   ],
   "source": [
    "my_dict.values()"
   ]
  },
  {
   "cell_type": "code",
   "execution_count": 82,
   "id": "610bbdbb-bfaa-4590-82a4-c4d5ecc2383e",
   "metadata": {},
   "outputs": [
    {
     "data": {
      "text/plain": [
       "dict_items([('name', 'Alice'), ('age', 25), ('city', 'New York')])"
      ]
     },
     "execution_count": 82,
     "metadata": {},
     "output_type": "execute_result"
    }
   ],
   "source": [
    "my_dict.items()"
   ]
  },
  {
   "cell_type": "code",
   "execution_count": 83,
   "id": "117631f7-945e-4f17-8efa-1fcf2d0edf38",
   "metadata": {},
   "outputs": [
    {
     "data": {
      "text/plain": [
       "{'name': 'Alice', 'age': 25, 'city': 'New York'}"
      ]
     },
     "execution_count": 83,
     "metadata": {},
     "output_type": "execute_result"
    }
   ],
   "source": [
    "dict2 = {\n",
    "    \"student\": \"Ali\",\n",
    "    \"rollno\": 22,\n",
    "    \"state\": \"Punjab\"\n",
    "}\n",
    "my_dict"
   ]
  },
  {
   "cell_type": "code",
   "execution_count": null,
   "id": "60ae1c04-d33a-4189-bc15-8edb6b781340",
   "metadata": {},
   "outputs": [],
   "source": [
    "# my_dict.update(dict2)\n",
    "# my_dict"
   ]
  },
  {
   "cell_type": "code",
   "execution_count": 85,
   "id": "6f0d9aca-e110-4a17-9f49-05ceeed2963c",
   "metadata": {},
   "outputs": [
    {
     "name": "stdout",
     "output_type": "stream",
     "text": [
      "None\n"
     ]
    }
   ],
   "source": [
    "print(my_dict.get(\"abc\")) "
   ]
  },
  {
   "cell_type": "code",
   "execution_count": 84,
   "id": "22bfd745-7ec2-4c41-8a3e-36006dc20345",
   "metadata": {},
   "outputs": [
    {
     "ename": "KeyError",
     "evalue": "'abc'",
     "output_type": "error",
     "traceback": [
      "\u001b[1;31m---------------------------------------------------------------------------\u001b[0m",
      "\u001b[1;31mKeyError\u001b[0m                                  Traceback (most recent call last)",
      "Cell \u001b[1;32mIn[84], line 1\u001b[0m\n\u001b[1;32m----> 1\u001b[0m my_dict[\u001b[38;5;124m'\u001b[39m\u001b[38;5;124mabc\u001b[39m\u001b[38;5;124m'\u001b[39m]\n",
      "\u001b[1;31mKeyError\u001b[0m: 'abc'"
     ]
    }
   ],
   "source": [
    "my_dict['abc']"
   ]
  },
  {
   "cell_type": "code",
   "execution_count": 86,
   "id": "3ad776ee-9b16-41c6-8587-dc2beedfbb48",
   "metadata": {},
   "outputs": [
    {
     "data": {
      "text/plain": [
       "{'person1': {'name': 'Alice', 'age': 25},\n",
       " 'person2': {'name': 'Bob', 'age': 30}}"
      ]
     },
     "execution_count": 86,
     "metadata": {},
     "output_type": "execute_result"
    }
   ],
   "source": [
    "# Nesting Dictionaries\n",
    "nested_dict = {\n",
    "    \"person1\": {\"name\": \"Alice\", \"age\": 25},\n",
    "    \"person2\": {\"name\": \"Bob\", \"age\": 30}\n",
    "}\n",
    "nested_dict"
   ]
  },
  {
   "cell_type": "code",
   "execution_count": 88,
   "id": "75d8e48c-29c7-47b1-94be-389d0b1af718",
   "metadata": {},
   "outputs": [
    {
     "data": {
      "text/plain": [
       "25"
      ]
     },
     "execution_count": 88,
     "metadata": {},
     "output_type": "execute_result"
    }
   ],
   "source": [
    "nested_dict[\"person1\"]['age']\n"
   ]
  },
  {
   "cell_type": "code",
   "execution_count": 91,
   "id": "d2950af3-6a4a-4658-8b22-cfb0d3f9db0d",
   "metadata": {},
   "outputs": [
    {
     "data": {
      "text/plain": [
       "{'person1': {'name': 'Alice', 'age': 55},\n",
       " 'person2': {'name': 'Bob', 'age': 30}}"
      ]
     },
     "execution_count": 91,
     "metadata": {},
     "output_type": "execute_result"
    }
   ],
   "source": [
    "nested_dict[\"person1\"]['age']=55\n",
    "nested_dict"
   ]
  },
  {
   "cell_type": "code",
   "execution_count": 92,
   "id": "7c9795ab-852a-4021-bfe0-812c133fafe7",
   "metadata": {},
   "outputs": [
    {
     "name": "stdout",
     "output_type": "stream",
     "text": [
      "{'name': 'ali', 'age': 34, 'job': 'engineer'}\n"
     ]
    }
   ],
   "source": [
    "my_dict3 = dict(name = 'ali', age = 34 , job = 'engineer') #dict as constructor\n",
    "print(my_dict3)"
   ]
  },
  {
   "cell_type": "code",
   "execution_count": null,
   "id": "eecc9284-696f-427d-9212-7035cf668bc4",
   "metadata": {},
   "outputs": [],
   "source": [
    "#errors\n",
    "my_dict = {\"name\": \"Alice\"}\n",
    "print(my_dict[\"age\"])  # KeyError: 'age'\n"
   ]
  },
  {
   "cell_type": "code",
   "execution_count": null,
   "id": "1d1ec668-2233-4878-88a0-e7927016abd5",
   "metadata": {},
   "outputs": [],
   "source": [
    "my_dict = {[1, 2, 3]: \"list as key\"}  # TypeError\n"
   ]
  },
  {
   "cell_type": "code",
   "execution_count": null,
   "id": "5a081e4e-2fad-4220-908f-50c14b1ea120",
   "metadata": {},
   "outputs": [],
   "source": []
  },
  {
   "cell_type": "code",
   "execution_count": null,
   "id": "789dab80-44c1-4ca9-8aef-069f432f4942",
   "metadata": {},
   "outputs": [],
   "source": []
  },
  {
   "cell_type": "code",
   "execution_count": null,
   "id": "d3e2231e-f13b-4d6c-be36-12c76569da40",
   "metadata": {},
   "outputs": [],
   "source": []
  },
  {
   "cell_type": "markdown",
   "id": "3253be74-1327-4c97-bbc4-8aca3abb1d71",
   "metadata": {},
   "source": [
    "### SET {}\n",
    "A set in Python is an unordered collection of unique elements. This means that a set cannot contain duplicate values, and the elements are stored in no specific order.\n",
    "\n",
    "Unordered: The elements in a set do not maintain any specific order.\n",
    "\n",
    "Unique: Sets cannot contain duplicate elements. If you try to add a duplicate element, it will not be added.\n",
    "\n",
    "Mutable: You can add or remove elements from a set after it is created.\n",
    "\n",
    "No indexing: Sets do not support indexing or slicing like lists."
   ]
  },
  {
   "cell_type": "code",
   "execution_count": 93,
   "id": "7adc88d2-4be1-4478-ac87-5fc36dc9f19b",
   "metadata": {},
   "outputs": [
    {
     "data": {
      "text/plain": [
       "{1, 33, 447.5, 5, 'abc', 'pqr'}"
      ]
     },
     "execution_count": 93,
     "metadata": {},
     "output_type": "execute_result"
    }
   ],
   "source": [
    "#first set\n",
    "\n",
    "name = {1,33,5,'abc',447.5,'pqr',1,1,1,33} \n",
    "name"
   ]
  },
  {
   "cell_type": "code",
   "execution_count": null,
   "id": "3b490118-b7c9-426c-a77c-f351982cc41c",
   "metadata": {},
   "outputs": [],
   "source": [
    "#set\n",
    "\n",
    "fruits = {'apple','banana','coconut',1,2,3}\n",
    "fruits"
   ]
  },
  {
   "cell_type": "code",
   "execution_count": 98,
   "id": "a039be67-3e71-405e-999d-1c90a157d336",
   "metadata": {},
   "outputs": [],
   "source": [
    "#set as constructor\n",
    "a = ['sky','cloud','apple',2,55,7,2,2,'sky']\n",
    "b = set(a)"
   ]
  },
  {
   "cell_type": "code",
   "execution_count": 95,
   "id": "6c2d0387-b5e6-4396-bf0c-0416fb4b668d",
   "metadata": {},
   "outputs": [
    {
     "data": {
      "text/plain": [
       "9"
      ]
     },
     "execution_count": 95,
     "metadata": {},
     "output_type": "execute_result"
    }
   ],
   "source": [
    "len(a)"
   ]
  },
  {
   "cell_type": "code",
   "execution_count": 99,
   "id": "8c27cb68-fdd2-4216-91e5-61ad52dc8a0e",
   "metadata": {},
   "outputs": [
    {
     "data": {
      "text/plain": [
       "6"
      ]
     },
     "execution_count": 99,
     "metadata": {},
     "output_type": "execute_result"
    }
   ],
   "source": [
    "len(b)"
   ]
  },
  {
   "cell_type": "code",
   "execution_count": 96,
   "id": "43cf3492-9d1b-4597-abec-54be05812a9b",
   "metadata": {},
   "outputs": [
    {
     "data": {
      "text/plain": [
       "['__and__',\n",
       " '__class__',\n",
       " '__class_getitem__',\n",
       " '__contains__',\n",
       " '__delattr__',\n",
       " '__dir__',\n",
       " '__doc__',\n",
       " '__eq__',\n",
       " '__format__',\n",
       " '__ge__',\n",
       " '__getattribute__',\n",
       " '__getstate__',\n",
       " '__gt__',\n",
       " '__hash__',\n",
       " '__iand__',\n",
       " '__init__',\n",
       " '__init_subclass__',\n",
       " '__ior__',\n",
       " '__isub__',\n",
       " '__iter__',\n",
       " '__ixor__',\n",
       " '__le__',\n",
       " '__len__',\n",
       " '__lt__',\n",
       " '__ne__',\n",
       " '__new__',\n",
       " '__or__',\n",
       " '__rand__',\n",
       " '__reduce__',\n",
       " '__reduce_ex__',\n",
       " '__repr__',\n",
       " '__ror__',\n",
       " '__rsub__',\n",
       " '__rxor__',\n",
       " '__setattr__',\n",
       " '__sizeof__',\n",
       " '__str__',\n",
       " '__sub__',\n",
       " '__subclasshook__',\n",
       " '__xor__',\n",
       " 'add',\n",
       " 'clear',\n",
       " 'copy',\n",
       " 'difference',\n",
       " 'difference_update',\n",
       " 'discard',\n",
       " 'intersection',\n",
       " 'intersection_update',\n",
       " 'isdisjoint',\n",
       " 'issubset',\n",
       " 'issuperset',\n",
       " 'pop',\n",
       " 'remove',\n",
       " 'symmetric_difference',\n",
       " 'symmetric_difference_update',\n",
       " 'union',\n",
       " 'update']"
      ]
     },
     "execution_count": 96,
     "metadata": {},
     "output_type": "execute_result"
    }
   ],
   "source": [
    "dir(set())"
   ]
  },
  {
   "cell_type": "code",
   "execution_count": null,
   "id": "8c860f0e-787f-49ea-aa7f-b1569f09b05a",
   "metadata": {},
   "outputs": [],
   "source": [
    "#concatenation\n",
    "#update"
   ]
  },
  {
   "cell_type": "code",
   "execution_count": null,
   "id": "ad426ec4-ed33-46f7-a38f-8dc5e39ffd5a",
   "metadata": {},
   "outputs": [],
   "source": [
    "#difference between remove,discard,pop, clear"
   ]
  },
  {
   "cell_type": "code",
   "execution_count": 101,
   "id": "ccc8bea8-4cb9-47af-8f61-969d806ba400",
   "metadata": {},
   "outputs": [
    {
     "ename": "KeyError",
     "evalue": "'orange'",
     "output_type": "error",
     "traceback": [
      "\u001b[1;31m---------------------------------------------------------------------------\u001b[0m",
      "\u001b[1;31mKeyError\u001b[0m                                  Traceback (most recent call last)",
      "Cell \u001b[1;32mIn[101], line 6\u001b[0m\n\u001b[0;32m      1\u001b[0m fruits \u001b[38;5;241m=\u001b[39m {\u001b[38;5;124m\"\u001b[39m\u001b[38;5;124mapple\u001b[39m\u001b[38;5;124m\"\u001b[39m, \u001b[38;5;124m\"\u001b[39m\u001b[38;5;124mbanana\u001b[39m\u001b[38;5;124m\"\u001b[39m, \u001b[38;5;124m\"\u001b[39m\u001b[38;5;124mcherry\u001b[39m\u001b[38;5;124m\"\u001b[39m}\n\u001b[0;32m      3\u001b[0m \u001b[38;5;66;03m# fruits.remove(\"banana\")\u001b[39;00m\n\u001b[0;32m      4\u001b[0m \u001b[38;5;66;03m# print(fruits)\u001b[39;00m\n\u001b[1;32m----> 6\u001b[0m fruits\u001b[38;5;241m.\u001b[39mremove(\u001b[38;5;124m\"\u001b[39m\u001b[38;5;124morange\u001b[39m\u001b[38;5;124m\"\u001b[39m)\n\u001b[0;32m      7\u001b[0m \u001b[38;5;28mprint\u001b[39m(fruits)\n",
      "\u001b[1;31mKeyError\u001b[0m: 'orange'"
     ]
    }
   ],
   "source": [
    "fruits = {\"apple\", \"banana\", \"cherry\"}\n",
    "\n",
    "# fruits.remove(\"banana\")\n",
    "# print(fruits)\n",
    "\n",
    "fruits.remove(\"orange\")\n",
    "print(fruits)\n",
    "\n",
    "# fruits.pop()\n",
    "# print(fruits)\n",
    "\n",
    "# fruits.clear()\n",
    "# print(fruits)\n"
   ]
  },
  {
   "cell_type": "code",
   "execution_count": null,
   "id": "1d7aaecb-c190-4310-9a5e-52c00e3b95e5",
   "metadata": {},
   "outputs": [],
   "source": []
  },
  {
   "cell_type": "code",
   "execution_count": null,
   "id": "aa55d97d-817e-4af6-b2f1-bc5c78bc2f3e",
   "metadata": {},
   "outputs": [],
   "source": [
    "# #operation on set\n",
    "\n",
    "# set1 = {1, 2, 3, 4}\n",
    "# set2 = {3, 4, 5, 6}\n",
    "\n",
    "# union_set = set1 | set2\n",
    "# print(union_set)\n",
    "\n",
    "# intersection_set = set1 & set2\n",
    "# print(intersection_set)\n",
    "\n",
    "# difference_set = set1 - set2\n",
    "# print(difference_set)\n",
    "\n",
    "# sym_diff_set = set1 ^ set2 #returns except commmon\n",
    "# print(sym_diff_set)\n"
   ]
  },
  {
   "cell_type": "code",
   "execution_count": null,
   "id": "e190905b-fe9f-4bb1-8b4f-1ce7212b9b0a",
   "metadata": {},
   "outputs": [],
   "source": [
    "set1 = {\"Alice\", \"Bob\", \"Charlie\", \"Dave\"}\n",
    "set2 = {\"Charlie\", \"Dave\", \"Eve\", \"Frank\"}"
   ]
  },
  {
   "cell_type": "code",
   "execution_count": null,
   "id": "b27a419b-85aa-425d-b73c-e81e7d130238",
   "metadata": {},
   "outputs": [],
   "source": []
  },
  {
   "cell_type": "code",
   "execution_count": null,
   "id": "1165a9ac-2383-4101-90a6-79498707cb61",
   "metadata": {},
   "outputs": [],
   "source": []
  },
  {
   "cell_type": "code",
   "execution_count": null,
   "id": "fe848257-a744-40f1-8e95-f2c50c851970",
   "metadata": {},
   "outputs": [],
   "source": []
  },
  {
   "cell_type": "code",
   "execution_count": null,
   "id": "e06e27b2-c0ef-47fa-a331-88cd8496cdef",
   "metadata": {},
   "outputs": [],
   "source": []
  },
  {
   "cell_type": "code",
   "execution_count": null,
   "id": "af8907e0-4c4a-4008-8f59-4c6a96447452",
   "metadata": {},
   "outputs": [],
   "source": []
  },
  {
   "cell_type": "code",
   "execution_count": null,
   "id": "a0ea2dca-cefb-4540-a042-8ee49c1e3295",
   "metadata": {},
   "outputs": [],
   "source": []
  },
  {
   "cell_type": "code",
   "execution_count": null,
   "id": "7c186264-3f1f-44c2-95c8-5a1a95601119",
   "metadata": {},
   "outputs": [],
   "source": []
  },
  {
   "cell_type": "code",
   "execution_count": null,
   "id": "c6467c8d-c647-4bb6-9256-45b43354c780",
   "metadata": {},
   "outputs": [],
   "source": []
  }
 ],
 "metadata": {
  "kernelspec": {
   "display_name": "Python 3 (ipykernel)",
   "language": "python",
   "name": "python3"
  },
  "language_info": {
   "codemirror_mode": {
    "name": "ipython",
    "version": 3
   },
   "file_extension": ".py",
   "mimetype": "text/x-python",
   "name": "python",
   "nbconvert_exporter": "python",
   "pygments_lexer": "ipython3",
   "version": "3.12.7"
  }
 },
 "nbformat": 4,
 "nbformat_minor": 5
}
