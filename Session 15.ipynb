{
 "cells": [
  {
   "cell_type": "markdown",
   "id": "8dc831e1-93f7-48f7-8133-3c4e7351ccc5",
   "metadata": {},
   "source": [
    "## DECORATORS"
   ]
  },
  {
   "cell_type": "markdown",
   "id": "320d52c4-21ae-49ba-a8e4-2ffa428b4978",
   "metadata": {},
   "source": [
    "A decorator allows you to add new functionality to a function without modifying its structure. Essentially, it lets you wrap a function to enhance or modify its behavior.\n",
    "\n",
    "Meaning they take a function as input and return a new function with additional functionality."
   ]
  },
  {
   "cell_type": "markdown",
   "id": "cafceded-d77a-420b-9a84-e6d36e1ce2dc",
   "metadata": {},
   "source": [
    "- Functions as an objects\n",
    "- Function as an arguments\n",
    "- Functions as an inner or nested Functions (Return functions from other functions)"
   ]
  },
  {
   "cell_type": "code",
   "execution_count": 1,
   "id": "6c235121-07ef-4065-becb-f05e38c216a3",
   "metadata": {},
   "outputs": [],
   "source": [
    "def study():\n",
    "    print(\"Ayaan is studying in class 6\")"
   ]
  },
  {
   "cell_type": "code",
   "execution_count": 2,
   "id": "372e5f30-0ec8-42b9-8fb2-75c9fb4b4d4f",
   "metadata": {},
   "outputs": [
    {
     "name": "stdout",
     "output_type": "stream",
     "text": [
      "Ayaan is studying in class 6\n"
     ]
    }
   ],
   "source": [
    "study()"
   ]
  },
  {
   "cell_type": "code",
   "execution_count": 3,
   "id": "bc6ddbad-af7f-4b37-a2bd-0094b8b78093",
   "metadata": {},
   "outputs": [
    {
     "data": {
      "text/plain": [
       "1"
      ]
     },
     "execution_count": 3,
     "metadata": {},
     "output_type": "execute_result"
    }
   ],
   "source": [
    "a = 1\n",
    "a"
   ]
  },
  {
   "cell_type": "code",
   "execution_count": 4,
   "id": "9f5ec2aa-41bb-4843-bb94-289a0481c5a9",
   "metadata": {},
   "outputs": [
    {
     "data": {
      "text/plain": [
       "'ali'"
      ]
     },
     "execution_count": 4,
     "metadata": {},
     "output_type": "execute_result"
    }
   ],
   "source": [
    "b = 'ali'\n",
    "b"
   ]
  },
  {
   "cell_type": "code",
   "execution_count": 5,
   "id": "d1f85218-6691-484d-a7f2-e75a5514a553",
   "metadata": {},
   "outputs": [
    {
     "data": {
      "text/plain": [
       "<function __main__.study()>"
      ]
     },
     "execution_count": 5,
     "metadata": {},
     "output_type": "execute_result"
    }
   ],
   "source": [
    "study"
   ]
  },
  {
   "cell_type": "code",
   "execution_count": 7,
   "id": "88f434d5-2de5-4483-bca4-c3da9ec7efe2",
   "metadata": {},
   "outputs": [
    {
     "name": "stdout",
     "output_type": "stream",
     "text": [
      "Ayaan is studying in class 6\n"
     ]
    }
   ],
   "source": [
    "study()"
   ]
  },
  {
   "cell_type": "code",
   "execution_count": 6,
   "id": "9039e7d9-de95-4c88-85e8-854eede4e543",
   "metadata": {},
   "outputs": [
    {
     "data": {
      "text/plain": [
       "<function __main__.study()>"
      ]
     },
     "execution_count": 6,
     "metadata": {},
     "output_type": "execute_result"
    }
   ],
   "source": [
    "# function as an object\n",
    "name = study \n",
    "name"
   ]
  },
  {
   "cell_type": "code",
   "execution_count": 8,
   "id": "a7db0813-6f46-48e4-ba3b-11769c510390",
   "metadata": {},
   "outputs": [
    {
     "name": "stdout",
     "output_type": "stream",
     "text": [
      "Ayaan is studying in class 6\n"
     ]
    }
   ],
   "source": [
    "name = study\n",
    "name()"
   ]
  },
  {
   "cell_type": "code",
   "execution_count": 9,
   "id": "a5166001-b888-419d-bc41-fb21d2554959",
   "metadata": {},
   "outputs": [],
   "source": [
    "# function as an arguments\n",
    "def subjects():\n",
    "    print(\"Ayaan is learning maths\")\n",
    "    # original_function()\n",
    "    print(\"Ayaan is also learning another subjects\")"
   ]
  },
  {
   "cell_type": "code",
   "execution_count": 10,
   "id": "1f89de4e-a9c2-48cf-8ba9-e30dd47a1f77",
   "metadata": {},
   "outputs": [
    {
     "name": "stdout",
     "output_type": "stream",
     "text": [
      "Ayaan is learning maths\n",
      "Ayaan is also learning another subjects\n"
     ]
    }
   ],
   "source": [
    "subjects()"
   ]
  },
  {
   "cell_type": "code",
   "execution_count": 11,
   "id": "b899f425-e0cc-45b1-8469-76cfdc2c5c1f",
   "metadata": {},
   "outputs": [],
   "source": [
    "def study():\n",
    "    print(\"Ayaan is studying in class 6\")"
   ]
  },
  {
   "cell_type": "code",
   "execution_count": 12,
   "id": "e25962f3-c026-4960-87ab-ce5430d2bf34",
   "metadata": {},
   "outputs": [],
   "source": [
    "def subjects(original):\n",
    "    print(\"Ayaan is learning maths\")\n",
    "    original()\n",
    "    print(\"Ayaan is also learning another subjects\")"
   ]
  },
  {
   "cell_type": "code",
   "execution_count": 13,
   "id": "638b62fc-62d5-4214-86f4-400960c07256",
   "metadata": {},
   "outputs": [
    {
     "name": "stdout",
     "output_type": "stream",
     "text": [
      "Ayaan is learning maths\n",
      "Ayaan is studying in class 6\n",
      "Ayaan is also learning another subjects\n"
     ]
    }
   ],
   "source": [
    "subjects(study) #function (study) used here as an argument"
   ]
  },
  {
   "cell_type": "code",
   "execution_count": 14,
   "id": "b280ad63-937f-48b2-b900-7546826fd1f9",
   "metadata": {},
   "outputs": [
    {
     "name": "stdout",
     "output_type": "stream",
     "text": [
      "Ayaan is studying in class 6\n",
      "Ayaan is learning maths\n"
     ]
    },
    {
     "ename": "TypeError",
     "evalue": "'NoneType' object is not callable",
     "output_type": "error",
     "traceback": [
      "\u001b[1;31m---------------------------------------------------------------------------\u001b[0m",
      "\u001b[1;31mTypeError\u001b[0m                                 Traceback (most recent call last)",
      "Cell \u001b[1;32mIn[14], line 1\u001b[0m\n\u001b[1;32m----> 1\u001b[0m subjects(study())\n",
      "Cell \u001b[1;32mIn[12], line 3\u001b[0m, in \u001b[0;36msubjects\u001b[1;34m(original)\u001b[0m\n\u001b[0;32m      1\u001b[0m \u001b[38;5;28;01mdef\u001b[39;00m \u001b[38;5;21msubjects\u001b[39m(original):\n\u001b[0;32m      2\u001b[0m     \u001b[38;5;28mprint\u001b[39m(\u001b[38;5;124m\"\u001b[39m\u001b[38;5;124mAyaan is learning maths\u001b[39m\u001b[38;5;124m\"\u001b[39m)\n\u001b[1;32m----> 3\u001b[0m     original()\n\u001b[0;32m      4\u001b[0m     \u001b[38;5;28mprint\u001b[39m(\u001b[38;5;124m\"\u001b[39m\u001b[38;5;124mAyaan is also learning another subjects\u001b[39m\u001b[38;5;124m\"\u001b[39m)\n",
      "\u001b[1;31mTypeError\u001b[0m: 'NoneType' object is not callable"
     ]
    }
   ],
   "source": [
    "subjects(study())"
   ]
  },
  {
   "cell_type": "code",
   "execution_count": 15,
   "id": "e08ac2d4-68eb-439d-8db9-248077b62953",
   "metadata": {},
   "outputs": [
    {
     "data": {
      "text/plain": [
       "<function __main__.nested_fun.<locals>.inner_func()>"
      ]
     },
     "execution_count": 15,
     "metadata": {},
     "output_type": "execute_result"
    }
   ],
   "source": [
    "def nested_fun():\n",
    "    def inner_func():\n",
    "        return \"Here you called me\"\n",
    "    return inner_func  # Return the function object (closure)\n",
    "    # It returns the function object inner_func, but doesn’t execute it\n",
    "\n",
    "nested_fun()"
   ]
  },
  {
   "cell_type": "code",
   "execution_count": 16,
   "id": "59acd780-731e-4766-9c43-17a07c6138af",
   "metadata": {},
   "outputs": [
    {
     "data": {
      "text/plain": [
       "'Here you called me'"
      ]
     },
     "execution_count": 16,
     "metadata": {},
     "output_type": "execute_result"
    }
   ],
   "source": [
    "def nested_fun():\n",
    "    def inner_func():\n",
    "        return \"Here you called me\"\n",
    "    return inner_func()\n",
    "\n",
    "nested_fun()"
   ]
  },
  {
   "cell_type": "code",
   "execution_count": null,
   "id": "42f99ca2-a8e0-4d60-b1a0-0683802bc966",
   "metadata": {},
   "outputs": [],
   "source": [
    "# Closures: Where a function returned from another function \"remembers\" variables from its enclosing scope.\n",
    "# Higher-order functions: Functions that take other functions as arguments or return them."
   ]
  },
  {
   "cell_type": "code",
   "execution_count": 17,
   "id": "3987cfa7-35a9-4798-83ac-5b0eab2e6c61",
   "metadata": {},
   "outputs": [
    {
     "data": {
      "text/plain": [
       "<function __main__.nested_fun.<locals>.inner_func()>"
      ]
     },
     "execution_count": 17,
     "metadata": {},
     "output_type": "execute_result"
    }
   ],
   "source": [
    "def nested_fun():\n",
    "    def inner_func():\n",
    "        return \"Here you called me\"\n",
    "    return inner_func  # Return the function object (closure)\n",
    "    # It returns the function object inner_func, but doesn’t execute it\n",
    "\n",
    "nested_fun()"
   ]
  },
  {
   "cell_type": "code",
   "execution_count": 18,
   "id": "8fdc746f-5699-4325-bcd3-38db28c85a43",
   "metadata": {},
   "outputs": [],
   "source": [
    "returned_function = nested_fun()"
   ]
  },
  {
   "cell_type": "code",
   "execution_count": 19,
   "id": "91d7d796-d13a-4770-8ba6-f6cbcbe82c79",
   "metadata": {},
   "outputs": [
    {
     "data": {
      "text/plain": [
       "<function __main__.nested_fun.<locals>.inner_func()>"
      ]
     },
     "execution_count": 19,
     "metadata": {},
     "output_type": "execute_result"
    }
   ],
   "source": [
    "returned_function"
   ]
  },
  {
   "cell_type": "code",
   "execution_count": 20,
   "id": "4ee38388-1c78-4b2c-80cc-edbb660e25b2",
   "metadata": {},
   "outputs": [
    {
     "data": {
      "text/plain": [
       "'Here you called me'"
      ]
     },
     "execution_count": 20,
     "metadata": {},
     "output_type": "execute_result"
    }
   ],
   "source": [
    "returned_function()"
   ]
  },
  {
   "cell_type": "code",
   "execution_count": 21,
   "id": "b1e23d25-6d67-4dd4-8ca0-c13844f3e8d7",
   "metadata": {},
   "outputs": [
    {
     "ename": "TypeError",
     "evalue": "subjects() missing 1 required positional argument: 'original_function'",
     "output_type": "error",
     "traceback": [
      "\u001b[1;31m---------------------------------------------------------------------------\u001b[0m",
      "\u001b[1;31mTypeError\u001b[0m                                 Traceback (most recent call last)",
      "Cell \u001b[1;32mIn[21], line 11\u001b[0m\n\u001b[0;32m      8\u001b[0m         \u001b[38;5;28mprint\u001b[39m(\u001b[38;5;124m\"\u001b[39m\u001b[38;5;124mAyaan is also learning another subjects\u001b[39m\u001b[38;5;124m\"\u001b[39m)\n\u001b[0;32m      9\u001b[0m     \u001b[38;5;28;01mreturn\u001b[39;00m student\n\u001b[1;32m---> 11\u001b[0m subjects()\n",
      "\u001b[1;31mTypeError\u001b[0m: subjects() missing 1 required positional argument: 'original_function'"
     ]
    }
   ],
   "source": [
    "def study():\n",
    "    print(\"Ayaan is studying in class 6\")\n",
    "\n",
    "def subjects(original_function):\n",
    "    def student():\n",
    "        print(\"Ayaan is learning maths\")\n",
    "        original_function()\n",
    "        print(\"Ayaan is also learning another subjects\")\n",
    "    return student\n",
    "\n",
    "subjects()"
   ]
  },
  {
   "cell_type": "code",
   "execution_count": 22,
   "id": "a07c42eb-7944-4367-807e-61fbe1624f9e",
   "metadata": {},
   "outputs": [
    {
     "data": {
      "text/plain": [
       "<function __main__.subjects.<locals>.student()>"
      ]
     },
     "execution_count": 22,
     "metadata": {},
     "output_type": "execute_result"
    }
   ],
   "source": [
    "subjects(study)"
   ]
  },
  {
   "cell_type": "code",
   "execution_count": 23,
   "id": "bd5b462b-d16d-4ebb-907f-107c8e899c1c",
   "metadata": {},
   "outputs": [],
   "source": [
    "decorated_fun = subjects(study)"
   ]
  },
  {
   "cell_type": "code",
   "execution_count": 24,
   "id": "7dd8b365-73cb-42b9-a5aa-13e63eb58d11",
   "metadata": {},
   "outputs": [
    {
     "data": {
      "text/plain": [
       "<function __main__.subjects.<locals>.student()>"
      ]
     },
     "execution_count": 24,
     "metadata": {},
     "output_type": "execute_result"
    }
   ],
   "source": [
    "decorated_fun"
   ]
  },
  {
   "cell_type": "code",
   "execution_count": 25,
   "id": "a48befb1-d572-43e9-91c1-a148d3b09c65",
   "metadata": {},
   "outputs": [
    {
     "name": "stdout",
     "output_type": "stream",
     "text": [
      "Ayaan is learning maths\n",
      "Ayaan is studying in class 6\n",
      "Ayaan is also learning another subjects\n"
     ]
    }
   ],
   "source": [
    "decorated_fun()"
   ]
  },
  {
   "cell_type": "markdown",
   "id": "2ee7125e-01af-4d8f-8aca-3bef30307a7e",
   "metadata": {},
   "source": [
    "#### Syntatic Sugar concept in decorator"
   ]
  },
  {
   "cell_type": "markdown",
   "id": "eeb65eb5-2108-4082-beaa-570cc18cd146",
   "metadata": {},
   "source": [
    "Syntactic sugar is syntax within a programming language that makes code easier to write, read, and understand.\n",
    "It doesn’t add new functionality to the language; it just makes the language more user-friendly by providing shorthand ways of writing things."
   ]
  },
  {
   "cell_type": "code",
   "execution_count": 26,
   "id": "412da13c-e8bf-4ce8-a45d-064833ad2b7a",
   "metadata": {},
   "outputs": [
    {
     "name": "stdout",
     "output_type": "stream",
     "text": [
      "8\n"
     ]
    }
   ],
   "source": [
    "x = 5 #without syntatic sugar\n",
    "x = x + 3\n",
    "print(x)  # Output: 8"
   ]
  },
  {
   "cell_type": "code",
   "execution_count": 27,
   "id": "6e1fe192-3fb6-4667-9125-0d774f088e69",
   "metadata": {},
   "outputs": [
    {
     "name": "stdout",
     "output_type": "stream",
     "text": [
      "8\n"
     ]
    }
   ],
   "source": [
    "x = 5 #with syntatic sugar\n",
    "x += 3\n",
    "print(x)  # Output: 8"
   ]
  },
  {
   "cell_type": "code",
   "execution_count": 29,
   "id": "2cb57f7d-48c9-47c7-9716-3c706be73bf0",
   "metadata": {},
   "outputs": [
    {
     "name": "stdout",
     "output_type": "stream",
     "text": [
      "-8\n"
     ]
    }
   ],
   "source": [
    "x = 5 #with syntatic sugar\n",
    "x += 3\n",
    "print(-x)  # Output: 8"
   ]
  },
  {
   "cell_type": "code",
   "execution_count": 30,
   "id": "f708a26d-04f8-4c02-b6e6-39334d0f0a85",
   "metadata": {},
   "outputs": [
    {
     "name": "stdout",
     "output_type": "stream",
     "text": [
      "-2\n"
     ]
    }
   ],
   "source": [
    "print(-2)"
   ]
  },
  {
   "cell_type": "code",
   "execution_count": 31,
   "id": "04f0bc28-06ac-4945-9962-66b6bc46d0a7",
   "metadata": {},
   "outputs": [],
   "source": [
    "def study(): #Without Syntactic Sugar:\n",
    "    print(\"Ayaan is studying in class 6\")\n",
    "\n",
    "def subjects(original_function):\n",
    "    def student():\n",
    "        print(\"Ayaan is learning maths\")\n",
    "        original_function()\n",
    "        print(\"Ayaan is also learning another subjects\")\n",
    "    return student"
   ]
  },
  {
   "cell_type": "code",
   "execution_count": 32,
   "id": "8c578d78-7b60-474f-bfbf-779a60927155",
   "metadata": {},
   "outputs": [
    {
     "data": {
      "text/plain": [
       "<function __main__.subjects.<locals>.student()>"
      ]
     },
     "execution_count": 32,
     "metadata": {},
     "output_type": "execute_result"
    }
   ],
   "source": [
    "subjects(study)"
   ]
  },
  {
   "cell_type": "code",
   "execution_count": 33,
   "id": "42796793-befc-4105-b93f-ac71cfb80c41",
   "metadata": {},
   "outputs": [],
   "source": [
    "decorated_fun = subjects(study)"
   ]
  },
  {
   "cell_type": "code",
   "execution_count": 34,
   "id": "7211f376-5906-4f7b-9312-aa87d6ef8b78",
   "metadata": {},
   "outputs": [
    {
     "name": "stdout",
     "output_type": "stream",
     "text": [
      "Ayaan is learning maths\n",
      "Ayaan is studying in class 6\n",
      "Ayaan is also learning another subjects\n"
     ]
    }
   ],
   "source": [
    "decorated_fun()"
   ]
  },
  {
   "cell_type": "code",
   "execution_count": 35,
   "id": "c0b99275-3ae7-4760-bf12-2b54e7454505",
   "metadata": {},
   "outputs": [],
   "source": [
    "@subjects    #With Syntactic Sugar in decoratos\n",
    "def study(): #subjects(study) study as an argument\n",
    "    print(\"Ayaan is studying in class 6\")"
   ]
  },
  {
   "cell_type": "code",
   "execution_count": 36,
   "id": "4460e8b7-3820-4e04-a81b-3378764e3acb",
   "metadata": {},
   "outputs": [
    {
     "name": "stdout",
     "output_type": "stream",
     "text": [
      "Ayaan is learning maths\n",
      "Ayaan is studying in class 6\n",
      "Ayaan is also learning another subjects\n"
     ]
    }
   ],
   "source": [
    "study()"
   ]
  },
  {
   "cell_type": "code",
   "execution_count": 37,
   "id": "52af9b87-580c-4879-9434-17e4e15c024e",
   "metadata": {},
   "outputs": [
    {
     "name": "stdout",
     "output_type": "stream",
     "text": [
      "Ayaan is learning maths\n",
      "Ayaan reputation\n",
      "Ayaan is also learning another subjects\n"
     ]
    }
   ],
   "source": [
    "@subjects #With Syntactic Sugar in decoratos\n",
    "def display():\n",
    "    print('Ayaan reputation')\n",
    "\n",
    "display()"
   ]
  },
  {
   "cell_type": "code",
   "execution_count": 38,
   "id": "6f8e0ca5-fdf0-4c14-8b06-16b166bb394e",
   "metadata": {},
   "outputs": [],
   "source": [
    "def add():\n",
    "    print(\"Add both values:\", 5+6)\n",
    "\n",
    "def BODMAS(value):\n",
    "    def subtract():\n",
    "        print(\"subtract the value: \", 10-4)\n",
    "        value()\n",
    "        print(\"I am doing all exercise by using BODMAS rule\")\n",
    "    return subtract"
   ]
  },
  {
   "cell_type": "code",
   "execution_count": 39,
   "id": "a548f5df-64fd-4eed-bc9a-518ed9c29fc2",
   "metadata": {},
   "outputs": [],
   "source": [
    "func_call = BODMAS(add)"
   ]
  },
  {
   "cell_type": "code",
   "execution_count": 40,
   "id": "f4c7208a-44e5-413f-8951-e05fc5b8bfea",
   "metadata": {},
   "outputs": [
    {
     "name": "stdout",
     "output_type": "stream",
     "text": [
      "subtract the value:  6\n",
      "Add both values: 11\n",
      "I am doing all exercise by using BODMAS rule\n"
     ]
    }
   ],
   "source": [
    "func_call()"
   ]
  },
  {
   "cell_type": "code",
   "execution_count": 42,
   "id": "c101850b-d764-480b-b834-5c7e23608b77",
   "metadata": {},
   "outputs": [],
   "source": [
    "@BODMAS   # BODMAS(add)\n",
    "def add(): \n",
    "    print(\"Add both values:\", 5+6)"
   ]
  },
  {
   "cell_type": "code",
   "execution_count": 43,
   "id": "e5ea476b-3d7b-4c50-9e91-89f4fd3b842e",
   "metadata": {},
   "outputs": [
    {
     "name": "stdout",
     "output_type": "stream",
     "text": [
      "subtract the value:  6\n",
      "Add both values: 11\n",
      "I am doing all exercise by using BODMAS rule\n"
     ]
    }
   ],
   "source": [
    "add()"
   ]
  },
  {
   "cell_type": "code",
   "execution_count": 44,
   "id": "4569208e-280b-4107-833a-8f789f31d4e7",
   "metadata": {},
   "outputs": [],
   "source": [
    "@BODMAS\n",
    "def welcome():\n",
    "    print('hi,xyz')\n",
    "def study():\n",
    "    print('abc')"
   ]
  },
  {
   "cell_type": "code",
   "execution_count": 45,
   "id": "90d88254-3ba8-44fc-82bb-63b16229d384",
   "metadata": {},
   "outputs": [
    {
     "name": "stdout",
     "output_type": "stream",
     "text": [
      "subtract the value:  6\n",
      "hi,xyz\n",
      "I am doing all exercise by using BODMAS rule\n"
     ]
    }
   ],
   "source": [
    "welcome()"
   ]
  },
  {
   "cell_type": "code",
   "execution_count": 46,
   "id": "1d3ec1b2-8b9e-4483-8561-a7a55148ce85",
   "metadata": {},
   "outputs": [
    {
     "name": "stdout",
     "output_type": "stream",
     "text": [
      "abc\n"
     ]
    }
   ],
   "source": [
    "study()"
   ]
  },
  {
   "cell_type": "code",
   "execution_count": 47,
   "id": "4584590e-ab84-4bd7-ba49-98e13c46eedd",
   "metadata": {},
   "outputs": [],
   "source": [
    "@BODMAS\n",
    "def welcome():\n",
    "    print('hi,xyz')\n",
    "\n",
    "@BODMAS\n",
    "def study():\n",
    "    print('abc')"
   ]
  },
  {
   "cell_type": "code",
   "execution_count": 48,
   "id": "9c9b44da-057b-4b79-95a3-5d6834db0188",
   "metadata": {},
   "outputs": [
    {
     "name": "stdout",
     "output_type": "stream",
     "text": [
      "subtract the value:  6\n",
      "abc\n",
      "I am doing all exercise by using BODMAS rule\n"
     ]
    }
   ],
   "source": [
    "study()"
   ]
  },
  {
   "cell_type": "code",
   "execution_count": 50,
   "id": "36c1fa33-18e0-436b-94e4-6ed90a9fcf50",
   "metadata": {},
   "outputs": [],
   "source": [
    "def add():\n",
    "    print(\"Add both values:\", 5+6)\n",
    "\n",
    "def BODMAS(value):\n",
    "    def subtract():\n",
    "        print(\"subtract the value: \", 10-4)\n",
    "        value()\n",
    "        print(\"I am doing all exercise by using BODMAS rule\")\n",
    "\n",
    "    def division():\n",
    "        print(\"division\" , 10/2)\n",
    "        value()\n",
    "        print(\"I am doing all exercise by by using BODMAS rule\")\n",
    "        # return subtract\n",
    "    return division"
   ]
  },
  {
   "cell_type": "code",
   "execution_count": 51,
   "id": "40a81fd5-dadf-441b-bb6f-b41dd7760fe6",
   "metadata": {},
   "outputs": [
    {
     "name": "stdout",
     "output_type": "stream",
     "text": [
      "division 5.0\n",
      "Add both values: 11\n",
      "I am doing all exercise by by using BODMAS rule\n"
     ]
    }
   ],
   "source": [
    "func_call = BODMAS(add)\n",
    "func_call()"
   ]
  },
  {
   "cell_type": "code",
   "execution_count": 52,
   "id": "bfa230af-44d3-4b5d-ae53-48ee548969b2",
   "metadata": {},
   "outputs": [],
   "source": [
    "def add():\n",
    "    print(\"Add both values:\", 5+6)\n",
    "\n",
    "def BODMAS(value):\n",
    "    def subtract():\n",
    "        print(\"subtract the value: \", 10-4)\n",
    "        value()\n",
    "        print(\"I am doing all exercise by using BODMAS rule\")\n",
    "\n",
    "    def division():\n",
    "        print(\"division\" , 10/2)\n",
    "        subtract()\n",
    "        print(\"I am doing all exercise by by using BODMAS rule\")\n",
    "        # return subtract\n",
    "    return division"
   ]
  },
  {
   "cell_type": "code",
   "execution_count": 53,
   "id": "fcb6b3b4-9b6e-43d8-a5b9-73c87afe6a55",
   "metadata": {},
   "outputs": [
    {
     "name": "stdout",
     "output_type": "stream",
     "text": [
      "division 5.0\n",
      "subtract the value:  6\n",
      "Add both values: 11\n",
      "I am doing all exercise by using BODMAS rule\n",
      "I am doing all exercise by by using BODMAS rule\n"
     ]
    }
   ],
   "source": [
    "func_call = BODMAS(add)\n",
    "func_call()"
   ]
  },
  {
   "cell_type": "code",
   "execution_count": 54,
   "id": "a784d0e7-1d4d-4523-be4a-fc28f21672cb",
   "metadata": {},
   "outputs": [],
   "source": [
    "def add():\n",
    "    print(\"Add both values:\", 5+6)\n",
    "\n",
    "def BODMAS(value):\n",
    "    def subtract():\n",
    "        print(\"subtract the value: \", 10-4)\n",
    "        value()\n",
    "        print(\"I am doing all exercise by using BODMAS rule\")\n",
    "\n",
    "    def division():\n",
    "        print(\"division\" , 10/2)\n",
    "        value()\n",
    "        print(\"I am doing all exercise by by using BODMAS rule\")\n",
    "        return subtract\n",
    "    return division()"
   ]
  },
  {
   "cell_type": "code",
   "execution_count": 55,
   "id": "0bb946d1-76d1-4a08-afda-21cd62c9054e",
   "metadata": {},
   "outputs": [
    {
     "name": "stdout",
     "output_type": "stream",
     "text": [
      "division 5.0\n",
      "Add both values: 11\n",
      "I am doing all exercise by by using BODMAS rule\n",
      "subtract the value:  6\n",
      "Add both values: 11\n",
      "I am doing all exercise by using BODMAS rule\n"
     ]
    }
   ],
   "source": [
    "func_call = BODMAS(add)\n",
    "func_call()"
   ]
  },
  {
   "cell_type": "code",
   "execution_count": null,
   "id": "57b88517-18e6-4e38-b760-58eb6b84ef10",
   "metadata": {},
   "outputs": [],
   "source": [
    "def add():\n",
    "    print(\"Add both values:\", 5+6)\n",
    "\n",
    "def BODMAS(value):\n",
    "    def subtract():\n",
    "        print(\"subtract the value: \", 10-4)\n",
    "        value\n",
    "        print(\"I am doing all exercise by using BODMAS rule\")\n",
    "\n",
    "    def division():\n",
    "        print(\"division\" , 10/2)\n",
    "        value\n",
    "        print(\"I am doing all exercise by by using BODMAS rule\")\n",
    "        return subtract\n",
    "    return division()"
   ]
  },
  {
   "cell_type": "code",
   "execution_count": 56,
   "id": "65ef9c7e-6b8e-4557-aebe-72c0932b7eb4",
   "metadata": {},
   "outputs": [
    {
     "name": "stdout",
     "output_type": "stream",
     "text": [
      "division 5.0\n",
      "Add both values: 11\n",
      "I am doing all exercise by by using BODMAS rule\n",
      "subtract the value:  6\n",
      "Add both values: 11\n",
      "I am doing all exercise by using BODMAS rule\n"
     ]
    }
   ],
   "source": [
    "func_call = BODMAS(add)\n",
    "func_call()"
   ]
  },
  {
   "cell_type": "code",
   "execution_count": 2,
   "id": "f1cd4577-a81c-4107-8a96-5a35c972b224",
   "metadata": {},
   "outputs": [],
   "source": [
    "def add():\n",
    "    print(\"Add both values:\", 5+6)\n",
    "    \n",
    "def BODMAS(value):\n",
    "    def subtract():\n",
    "        print(\"subtract the value: \", 10-4)\n",
    "        value()\n",
    "        print(\"I am doing all exercise by using BODMAS rule\")\n",
    "        \n",
    "    def division():\n",
    "        print(\"division\" , 10/2)\n",
    "        value()\n",
    "        print(\"I am doing all exercise by by using BODMAS rule\")\n",
    "    return subtract\n",
    "    return division"
   ]
  },
  {
   "cell_type": "code",
   "execution_count": 3,
   "id": "c167d872-e329-4b4d-a3e6-833ca1f0fc9d",
   "metadata": {},
   "outputs": [
    {
     "name": "stdout",
     "output_type": "stream",
     "text": [
      "subtract the value:  6\n",
      "Add both values: 11\n",
      "I am doing all exercise by using BODMAS rule\n"
     ]
    }
   ],
   "source": [
    "func_call = BODMAS(add)\n",
    "func_call()"
   ]
  },
  {
   "cell_type": "code",
   "execution_count": null,
   "id": "8b52372c-37f7-4f30-914b-87c9c54c9b02",
   "metadata": {},
   "outputs": [],
   "source": []
  },
  {
   "cell_type": "code",
   "execution_count": null,
   "id": "a43382e9-d323-468f-a022-00bad1c7886e",
   "metadata": {},
   "outputs": [],
   "source": []
  },
  {
   "cell_type": "code",
   "execution_count": null,
   "id": "f272e525-c0de-47cf-a527-134d7e4ef62f",
   "metadata": {},
   "outputs": [],
   "source": []
  },
  {
   "cell_type": "code",
   "execution_count": null,
   "id": "87f3cb63-bdc2-4d5e-98f6-7d7f99dd7c9e",
   "metadata": {},
   "outputs": [],
   "source": []
  },
  {
   "cell_type": "code",
   "execution_count": null,
   "id": "8c8a5830-9fdb-4951-97d6-a547f7d2a1f9",
   "metadata": {},
   "outputs": [],
   "source": []
  },
  {
   "cell_type": "code",
   "execution_count": null,
   "id": "587a9432-5958-4153-af3a-af274fdd0ad8",
   "metadata": {},
   "outputs": [],
   "source": []
  }
 ],
 "metadata": {
  "kernelspec": {
   "display_name": "Python 3 (ipykernel)",
   "language": "python",
   "name": "python3"
  },
  "language_info": {
   "codemirror_mode": {
    "name": "ipython",
    "version": 3
   },
   "file_extension": ".py",
   "mimetype": "text/x-python",
   "name": "python",
   "nbconvert_exporter": "python",
   "pygments_lexer": "ipython3",
   "version": "3.12.7"
  }
 },
 "nbformat": 4,
 "nbformat_minor": 5
}
